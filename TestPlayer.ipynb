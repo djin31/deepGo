{
 "cells": [
  {
   "cell_type": "markdown",
   "metadata": {},
   "source": [
    "# Testing various models by playing match against each other"
   ]
  },
  {
   "cell_type": "code",
   "execution_count": 1,
   "metadata": {},
   "outputs": [],
   "source": [
    "# Imports\n",
    "from utils_1.goenv import GoEnv,_format_state, create_env_copy\n",
    "from utils_1.fnet import NeuralTrainer, AlphaNeural\n",
    "import numpy as np\n",
    "from tqdm.auto import tqdm"
   ]
  },
  {
   "cell_type": "markdown",
   "metadata": {},
   "source": [
    "## Simple Policy Player"
   ]
  },
  {
   "cell_type": "code",
   "execution_count": 2,
   "metadata": {},
   "outputs": [],
   "source": [
    "class AlphaGoPlayer():\n",
    "    def __init__(self, player_color, path = \"utils_1/nov8/net30.model\", play_random=False, debug=True):\n",
    "        # setup parameters\n",
    "        self.player_color = player_color\n",
    "        self.random_player = play_random\n",
    "        \n",
    "        # init environment\n",
    "        if player_color==1:\n",
    "            self.env = GoEnv(player_color=\"black\", board_size=13)\n",
    "        else:\n",
    "            self.env = GoEnv(player_color=\"white\", board_size=13)\n",
    "        self.env.reset()\n",
    "        self.debug=debug\n",
    "        \n",
    "        # load neural network\n",
    "        self.model = NeuralTrainer(res_blocks=10, board_size=13)\n",
    "        self.model.load_model(path)\n",
    "        \n",
    "    def get_action(self, cur_state, opponent_action):\n",
    "        if opponent_action>=0:\n",
    "            self.env.step(opponent_action)\n",
    "            if self.debug:\n",
    "                print('-------------------------------------')\n",
    "                print('opponent_action: ' + str(opponent_action))\n",
    "                print('-------------------------------------')\n",
    "        \n",
    "        legal_moves = self.env.get_legal_moves()\n",
    "        if self.random_player:\n",
    "                actions = np.nonzero(self.env.get_legal_moves())[0]\n",
    "                action = np.random.choice(actions)\n",
    "        else:\n",
    "            policy, value = self.model.predict(self.env.get_history())\n",
    "            policy = policy*legal_moves\n",
    "            action = np.argmax(policy)\n",
    "            \n",
    "        self.env.step(action)\n",
    "        \n",
    "        if self.debug:\n",
    "            print('-------------------------------------')\n",
    "            print('player_action: ' + str(action))\n",
    "            print('-------------------------------------')\n",
    "            self.env.print_board()\n",
    "        \n",
    "        return action"
   ]
  },
  {
   "cell_type": "markdown",
   "metadata": {},
   "source": [
    "# Playing Matches"
   ]
  },
  {
   "cell_type": "code",
   "execution_count": 3,
   "metadata": {},
   "outputs": [],
   "source": [
    "def play_matches(a1_configs, a2_configs, num_matches=20,\n",
    "                 player_colors={'black': 'a1', 'white': 'a2'}, tournament_no=1):\n",
    "    # Play matches between a1 and a2\n",
    "    print ('Starting Tournament #%d' % tournament_no)\n",
    "    print (player_colors)\n",
    "    \n",
    "    wins = {\n",
    "        'a1': 0,\n",
    "        'a2': 0\n",
    "    }\n",
    "\n",
    "    for match_no in tqdm(range(num_matches)):\n",
    "        state = GoEnv(\"black\", board_size=13)\n",
    "        state.reset()\n",
    "        \n",
    "        a1 = AlphaGoPlayer(**a1_configs)\n",
    "        a2 = AlphaGoPlayer(**a2_configs)\n",
    "\n",
    "        a1_action = -1\n",
    "        a2_action = -1\n",
    "\n",
    "        for i in range(400):\n",
    "            if(i==399):\n",
    "                print(\"Limit reached\")\n",
    "\n",
    "            a1_action = a1.get_action('null', a2_action)\n",
    "            _, _, done = state.step(a1_action)\n",
    "            if (done or state.isComplete()):\n",
    "                break   \n",
    "\n",
    "            a2_action = a2.get_action('null', a1_action)\n",
    "            _, _, done = state.step(a2_action)\n",
    "            if (done or state.isComplete()):\n",
    "                break\n",
    "\n",
    "        winner = -1 * state.get_winner()\n",
    "        if winner == 1:\n",
    "            # It's black's victory\n",
    "            wins[player_colors['black']] += 1\n",
    "        else:\n",
    "            # It's white victory\n",
    "            wins[player_colors['white']] += 1\n",
    "\n",
    "        if ((match_no + 1) % 10 == 0):\n",
    "            # Log after every 10 matches\n",
    "            print (wins)\n",
    "\n",
    "    print(wins)\n",
    "    print ('-----------------------------------------------------------------------------')"
   ]
  },
  {
   "cell_type": "code",
   "execution_count": 4,
   "metadata": {},
   "outputs": [
    {
     "name": "stdout",
     "output_type": "stream",
     "text": [
      "Starting Tournament #1\n",
      "{'black': 'a1', 'white': 'a2'}\n"
     ]
    },
    {
     "data": {
      "application/vnd.jupyter.widget-view+json": {
       "model_id": "acf90a417d034ec394549d032c4ce89e",
       "version_major": 2,
       "version_minor": 0
      },
      "text/plain": [
       "HBox(children=(IntProgress(value=0, max=20), HTML(value='')))"
      ]
     },
     "metadata": {},
     "output_type": "display_data"
    },
    {
     "name": "stdout",
     "output_type": "stream",
     "text": [
      "{'a1': 10, 'a2': 0}\n",
      "{'a1': 20, 'a2': 0}\n",
      "\n",
      "{'a1': 20, 'a2': 0}\n",
      "-----------------------------------------------------------------------------\n"
     ]
    }
   ],
   "source": [
    "# Match 1\n",
    "player_colors = {'black': 'a1', 'white': 'a2'}\n",
    "a1_configs = {'player_color': 1, 'path': \"utils_nov8/nov8/net37.model\", 'debug': False}\n",
    "a2_configs = {'player_color': 2, 'path': \"utils_nov8/nov8/net55.model\", 'debug': False}\n",
    "play_matches(a1_configs, a2_configs, player_colors=player_colors, tournament_no=1)\n"
   ]
  },
  {
   "cell_type": "code",
   "execution_count": 5,
   "metadata": {},
   "outputs": [
    {
     "name": "stdout",
     "output_type": "stream",
     "text": [
      "Starting Tournament #1\n",
      "{'black': 'a2', 'white': 'a1'}\n"
     ]
    },
    {
     "data": {
      "application/vnd.jupyter.widget-view+json": {
       "model_id": "164ebd461681470f81c07196c6798123",
       "version_major": 2,
       "version_minor": 0
      },
      "text/plain": [
       "HBox(children=(IntProgress(value=0, max=20), HTML(value='')))"
      ]
     },
     "metadata": {},
     "output_type": "display_data"
    },
    {
     "name": "stdout",
     "output_type": "stream",
     "text": [
      "{'a1': 10, 'a2': 0}\n",
      "{'a1': 20, 'a2': 0}\n",
      "\n",
      "{'a1': 20, 'a2': 0}\n",
      "-----------------------------------------------------------------------------\n"
     ]
    }
   ],
   "source": [
    "# Match 2\n",
    "player_colors = {'black': 'a2', 'white': 'a1'}\n",
    "a1_configs = {'player_color': 2, 'path': \"utils_nov8/nov8/net37.model\", 'debug': False}\n",
    "a2_configs = {'player_color': 1, 'path': \"utils_nov8/nov8/net55.model\", 'debug': False}\n",
    "play_matches(a1_configs, a2_configs, player_colors=player_colors, tournament_no=1)"
   ]
  },
  {
   "cell_type": "code",
   "execution_count": 6,
   "metadata": {},
   "outputs": [
    {
     "name": "stdout",
     "output_type": "stream",
     "text": [
      "Starting Tournament #3\n",
      "{'black': 'a1', 'white': 'a2'}\n"
     ]
    },
    {
     "data": {
      "application/vnd.jupyter.widget-view+json": {
       "model_id": "ff3a827e9cd14d63a6cd795d66fc532c",
       "version_major": 2,
       "version_minor": 0
      },
      "text/plain": [
       "HBox(children=(IntProgress(value=0, max=20), HTML(value='')))"
      ]
     },
     "metadata": {},
     "output_type": "display_data"
    },
    {
     "name": "stdout",
     "output_type": "stream",
     "text": [
      "{'a1': 10, 'a2': 0}\n",
      "{'a1': 20, 'a2': 0}\n",
      "\n",
      "{'a1': 20, 'a2': 0}\n",
      "-----------------------------------------------------------------------------\n"
     ]
    }
   ],
   "source": [
    "# Match 1=3\n",
    "player_colors = {'black': 'a1', 'white': 'a2'}\n",
    "a1_configs = {'player_color': 1, 'path': \"utils_nov8/nov8/net37.model\", 'debug': False}\n",
    "a2_configs = {'player_color': 2, 'path': \"utils_1/nov9-correct/net11.model\", 'debug': False}\n",
    "play_matches(a1_configs, a2_configs, player_colors=player_colors, tournament_no=3)\n"
   ]
  },
  {
   "cell_type": "code",
   "execution_count": 7,
   "metadata": {},
   "outputs": [
    {
     "name": "stdout",
     "output_type": "stream",
     "text": [
      "Starting Tournament #4\n",
      "{'black': 'a2', 'white': 'a1'}\n"
     ]
    },
    {
     "data": {
      "application/vnd.jupyter.widget-view+json": {
       "model_id": "53c66efbed9b42589efd79584a227fdc",
       "version_major": 2,
       "version_minor": 0
      },
      "text/plain": [
       "HBox(children=(IntProgress(value=0, max=20), HTML(value='')))"
      ]
     },
     "metadata": {},
     "output_type": "display_data"
    },
    {
     "name": "stdout",
     "output_type": "stream",
     "text": [
      "{'a1': 10, 'a2': 0}\n",
      "{'a1': 20, 'a2': 0}\n",
      "\n",
      "{'a1': 20, 'a2': 0}\n",
      "-----------------------------------------------------------------------------\n"
     ]
    }
   ],
   "source": [
    "# Match 4\n",
    "player_colors = {'black': 'a2', 'white': 'a1'}\n",
    "a1_configs = {'player_color': 2, 'path': \"utils_nov8/nov8/net37.model\", 'debug': False}\n",
    "a2_configs = {'player_color': 1, 'path': \"utils_1/nov9-correct/net11.model\", 'debug': False}\n",
    "play_matches(a1_configs, a2_configs, player_colors=player_colors, tournament_no=4)\n"
   ]
  },
  {
   "cell_type": "code",
   "execution_count": 8,
   "metadata": {},
   "outputs": [
    {
     "name": "stdout",
     "output_type": "stream",
     "text": [
      "Starting Tournament #5\n",
      "{'black': 'a1', 'white': 'a2'}\n"
     ]
    },
    {
     "data": {
      "application/vnd.jupyter.widget-view+json": {
       "model_id": "fce0317e4b484b5b9b0d4ec620da0e00",
       "version_major": 2,
       "version_minor": 0
      },
      "text/plain": [
       "HBox(children=(IntProgress(value=0, max=20), HTML(value='')))"
      ]
     },
     "metadata": {},
     "output_type": "display_data"
    },
    {
     "name": "stdout",
     "output_type": "stream",
     "text": [
      "{'a1': 6, 'a2': 4}\n",
      "{'a1': 13, 'a2': 7}\n",
      "\n",
      "{'a1': 13, 'a2': 7}\n",
      "-----------------------------------------------------------------------------\n"
     ]
    }
   ],
   "source": [
    "# Match 5\n",
    "player_colors = {'black': 'a1', 'white': 'a2'}\n",
    "a1_configs = {'player_color': 1, 'path': \"utils_nov8/nov8/net37.model\", 'debug': False}\n",
    "a2_configs = {'player_color': 2, 'path': \"utils_1/nov9-correct/net11.model\", 'debug': False, 'play_random': True}\n",
    "play_matches(a1_configs, a2_configs, player_colors=player_colors, tournament_no=5)\n"
   ]
  },
  {
   "cell_type": "code",
   "execution_count": 9,
   "metadata": {},
   "outputs": [
    {
     "name": "stdout",
     "output_type": "stream",
     "text": [
      "Starting Tournament #5\n",
      "{'black': 'a2', 'white': 'a1'}\n"
     ]
    },
    {
     "data": {
      "application/vnd.jupyter.widget-view+json": {
       "model_id": "1c3ee0a761b24b7f91ed6f1a638e6ce9",
       "version_major": 2,
       "version_minor": 0
      },
      "text/plain": [
       "HBox(children=(IntProgress(value=0, max=20), HTML(value='')))"
      ]
     },
     "metadata": {},
     "output_type": "display_data"
    },
    {
     "name": "stdout",
     "output_type": "stream",
     "text": [
      "{'a1': 10, 'a2': 0}\n",
      "{'a1': 19, 'a2': 1}\n",
      "\n",
      "{'a1': 19, 'a2': 1}\n",
      "-----------------------------------------------------------------------------\n"
     ]
    }
   ],
   "source": [
    "# Match 6\n",
    "player_colors = {'black': 'a2', 'white': 'a1'}\n",
    "a1_configs = {'player_color': 2, 'path': \"utils_nov8/nov8/net37.model\", 'debug': False}\n",
    "a2_configs = {'player_color': 1, 'path': \"utils_1/nov9-correct/net11.model\", 'debug': False, 'play_random': True}\n",
    "play_matches(a1_configs, a2_configs, player_colors=player_colors, tournament_no=6)\n"
   ]
  },
  {
   "cell_type": "code",
   "execution_count": 10,
   "metadata": {},
   "outputs": [
    {
     "name": "stdout",
     "output_type": "stream",
     "text": [
      "Starting Tournament #5\n",
      "{'black': 'a1', 'white': 'a2'}\n"
     ]
    },
    {
     "data": {
      "application/vnd.jupyter.widget-view+json": {
       "model_id": "0fa02b015ffd41209a25803a2c0cc9c5",
       "version_major": 2,
       "version_minor": 0
      },
      "text/plain": [
       "HBox(children=(IntProgress(value=0, max=20), HTML(value='')))"
      ]
     },
     "metadata": {},
     "output_type": "display_data"
    },
    {
     "name": "stdout",
     "output_type": "stream",
     "text": [
      "{'a1': 10, 'a2': 0}\n",
      "{'a1': 20, 'a2': 0}\n",
      "\n",
      "{'a1': 20, 'a2': 0}\n",
      "-----------------------------------------------------------------------------\n"
     ]
    }
   ],
   "source": [
    "# Match 7\n",
    "player_colors = {'black': 'a1', 'white': 'a2'}\n",
    "a1_configs = {'player_color': 1, 'path': \"utils_nov8/nov8/net37.model\", 'debug': False, 'play_random': True}\n",
    "a2_configs = {'player_color': 2, 'path': \"utils_1/nov9-correct/net11.model\", 'debug': False}\n",
    "play_matches(a1_configs, a2_configs, player_colors=player_colors, tournament_no=5)\n"
   ]
  },
  {
   "cell_type": "code",
   "execution_count": 11,
   "metadata": {},
   "outputs": [
    {
     "name": "stdout",
     "output_type": "stream",
     "text": [
      "Starting Tournament #5\n",
      "{'black': 'a2', 'white': 'a1'}\n"
     ]
    },
    {
     "data": {
      "application/vnd.jupyter.widget-view+json": {
       "model_id": "6dfc8652cdf94793bd12289c61424dee",
       "version_major": 2,
       "version_minor": 0
      },
      "text/plain": [
       "HBox(children=(IntProgress(value=0, max=20), HTML(value='')))"
      ]
     },
     "metadata": {},
     "output_type": "display_data"
    },
    {
     "name": "stdout",
     "output_type": "stream",
     "text": [
      "{'a1': 7, 'a2': 3}\n",
      "{'a1': 13, 'a2': 7}\n",
      "\n",
      "{'a1': 13, 'a2': 7}\n",
      "-----------------------------------------------------------------------------\n"
     ]
    }
   ],
   "source": [
    "# Match 7\n",
    "player_colors = {'black': 'a2', 'white': 'a1'}\n",
    "a1_configs = {'player_color': 2, 'path': \"utils_nov8/nov8/net37.model\", 'debug': False, 'play_random': True}\n",
    "a2_configs = {'player_color': 1, 'path': \"utils_1/nov9-correct/net11.model\", 'debug': False}\n",
    "play_matches(a1_configs, a2_configs, player_colors=player_colors, tournament_no=5)\n"
   ]
  },
  {
   "cell_type": "code",
   "execution_count": 16,
   "metadata": {},
   "outputs": [
    {
     "name": "stdout",
     "output_type": "stream",
     "text": [
      "Starting Tournament #1\n",
      "{'black': 'a1', 'white': 'a2'}\n"
     ]
    },
    {
     "data": {
      "application/vnd.jupyter.widget-view+json": {
       "model_id": "ee7926257c7848fc81072afbc686f298",
       "version_major": 2,
       "version_minor": 0
      },
      "text/plain": [
       "HBox(children=(IntProgress(value=0, max=20), HTML(value='')))"
      ]
     },
     "metadata": {},
     "output_type": "display_data"
    },
    {
     "name": "stdout",
     "output_type": "stream",
     "text": [
      "{'a1': 10, 'a2': 0}\n",
      "{'a1': 20, 'a2': 0}\n",
      "\n",
      "{'a1': 20, 'a2': 0}\n",
      "-----------------------------------------------------------------------------\n"
     ]
    }
   ],
   "source": [
    "player_colors = {'black': 'a1', 'white': 'a2'}\n",
    "a1_configs = {'player_color': 1, 'path': \"utils_nov8/nov8/net55.model\", 'debug': False}\n",
    "a2_configs = {'player_color': 2, 'path': \"utils_nov8/nov10/net1.model\", 'debug': False}\n",
    "play_matches(a1_configs, a2_configs, player_colors=player_colors, tournament_no=1)\n"
   ]
  },
  {
   "cell_type": "code",
   "execution_count": 15,
   "metadata": {},
   "outputs": [
    {
     "name": "stdout",
     "output_type": "stream",
     "text": [
      "Starting Tournament #1\n",
      "{'black': 'a2', 'white': 'a1'}\n"
     ]
    },
    {
     "data": {
      "application/vnd.jupyter.widget-view+json": {
       "model_id": "a56dad7f056a40e2a50cf75290480d15",
       "version_major": 2,
       "version_minor": 0
      },
      "text/plain": [
       "HBox(children=(IntProgress(value=0, max=20), HTML(value='')))"
      ]
     },
     "metadata": {},
     "output_type": "display_data"
    },
    {
     "name": "stdout",
     "output_type": "stream",
     "text": [
      "{'a1': 0, 'a2': 10}\n",
      "{'a1': 0, 'a2': 20}\n",
      "\n",
      "{'a1': 0, 'a2': 20}\n",
      "-----------------------------------------------------------------------------\n"
     ]
    }
   ],
   "source": [
    "player_colors = {'black': 'a2', 'white': 'a1'}\n",
    "a1_configs = {'player_color': 2, 'path': \"utils_nov8/nov8/net55.model\", 'debug': False}\n",
    "a2_configs = {'player_color': 1, 'path': \"utils_nov8/nov10/net1.model\", 'debug': False}\n",
    "play_matches(a1_configs, a2_configs, player_colors=player_colors, tournament_no=1)\n"
   ]
  },
  {
   "cell_type": "code",
   "execution_count": null,
   "metadata": {},
   "outputs": [],
   "source": [
    "player_colors = {'black': 'a2', 'white': 'a1'}\n",
    "a1_configs = {'player_color': 2, 'path': \"utils_nov8/nov8/net55.model\", 'debug': False, 'p'}\n",
    "a2_configs = {'player_color': 1, 'path': \"utils_nov8/nov10/net1.model\", 'debug': False}\n",
    "play_matches(a1_configs, a2_configs, player_colors=player_colors, tournament_no=1)\n"
   ]
  }
 ],
 "metadata": {
  "kernelspec": {
   "display_name": "Python 3",
   "language": "python",
   "name": "python3"
  },
  "language_info": {
   "codemirror_mode": {
    "name": "ipython",
    "version": 3
   },
   "file_extension": ".py",
   "mimetype": "text/x-python",
   "name": "python",
   "nbconvert_exporter": "python",
   "pygments_lexer": "ipython3",
   "version": "3.7.4"
  }
 },
 "nbformat": 4,
 "nbformat_minor": 2
}
