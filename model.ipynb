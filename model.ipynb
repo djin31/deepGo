{
 "cells": [
  {
   "cell_type": "code",
   "execution_count": 1,
   "metadata": {},
   "outputs": [],
   "source": [
    "import numpy as np\n",
    "from tqdm.auto import tqdm\n",
    "\n",
    "import torch\n",
    "import torch.nn as nn\n",
    "import torch.nn.functional as F"
   ]
  },
  {
   "cell_type": "code",
   "execution_count": 2,
   "metadata": {},
   "outputs": [],
   "source": [
    "class ConvBlock(nn.Module):\n",
    "    def __init__(self, in_filters, out_filters, kernel_size=3, batchnorm=True):\n",
    "        super(ConvBlock, self).__init__()\n",
    "        self.activ = activ\n",
    "        self.c1 = nn.Conv2d(in_filters, out_filters, kernel_size, padding=1)\n",
    "        self.bn = batchnorm\n",
    "        self.b1 = nn.BatchNorm2d(out_filters)\n",
    "        \n",
    "    def forward(self, x):\n",
    "        x = self.c1(x)\n",
    "        if self.bn: \n",
    "            x = self.b1(x)\n",
    "        return x"
   ]
  },
  {
   "cell_type": "code",
   "execution_count": 3,
   "metadata": {},
   "outputs": [],
   "source": [
    "class ResidualBlock(nn.Module):\n",
    "    def __init__(self, filters, kernel_size=3, batchnorm=True, activ=F.relu):\n",
    "        super(ResidualBlock, self).__init__()\n",
    "        self.activ = activ\n",
    "        self.conv1 = ConvBlock(in_filters=filters, out_filters=filters, kernel_size=kernel_size, batchnorm=batchnorm)\n",
    "        self.conv2 = ConvBlock(in_filters=filters, out_filters=filters, kernel_size=kernel_size, batchnorm=batchnorm)\n",
    "    \n",
    "    def forward(self,x):\n",
    "        x_mod = self.activ(self.conv1(x))\n",
    "        x_mod = self.conv2(x_mod)\n",
    "        x_mod = self.activ(x_mod+x)\n",
    "        return x_mod"
   ]
  },
  {
   "cell_type": "code",
   "execution_count": 4,
   "metadata": {},
   "outputs": [],
   "source": [
    "class PolicyHead(nn.Module):\n",
    "    def __init__(self, filters=2, kernel_size=1, batchnorm=True, activ=F.relu, board_size=13, res_filters=256):\n",
    "        super(PolicyHead, self).__init__()\n",
    "        self.conv = ConvBlock(in_filters=res_filters, out_filters=filters, kernel_size=kernel_size, batchnorm=batchnorm)\n",
    "        self.activ = activ\n",
    "        self.fc_infeatures = filters*board_size*board_size\n",
    "        self.fc = nn.Linear(in_features=self.fc_infeatures, out_features=board_size*board_size+2)\n",
    "    \n",
    "    def forward(self,x):\n",
    "        x = self.activ(self.conv(x))\n",
    "        x = x.view(x.size(0),-1)\n",
    "        x = self.fc(x)\n",
    "        return torch.softmax(x,0)"
   ]
  },
  {
   "cell_type": "code",
   "execution_count": 24,
   "metadata": {},
   "outputs": [],
   "source": [
    "class ValueHead(nn.Module):\n",
    "    def __init__(self, filters=1, kernel_size=1, batchnorm=True, activ=F.relu, board_size=13, res_filters=256):\n",
    "        super(ValueHead, self).__init__()\n",
    "        self.conv = ConvBlock(in_filters=res_filters, out_filters=filters, kernel_size=kernel_size, batchnorm=batchnorm)\n",
    "        self.activ = activ\n",
    "        self.fc_infeatures = filters*board_size*board_size\n",
    "        self.fc1 = nn.Linear(in_features=self.fc_infeatures, out_features=256)\n",
    "        self.fc2 = nn.Linear(in_features=256, out_features=1)\n",
    "    \n",
    "    def forward(self,x):\n",
    "        x = self.activ(self.conv(x))\n",
    "        x = x.view(x.size(0),-1)\n",
    "        x = self.fc1(x)\n",
    "        x = self.fc2(X)\n",
    "        return torch.tanh(x)"
   ]
  },
  {
   "cell_type": "code",
   "execution_count": null,
   "metadata": {},
   "outputs": [],
   "source": []
  }
 ],
 "metadata": {
  "kernelspec": {
   "display_name": "Python 3",
   "language": "python",
   "name": "python3"
  },
  "language_info": {
   "codemirror_mode": {
    "name": "ipython",
    "version": 3
   },
   "file_extension": ".py",
   "mimetype": "text/x-python",
   "name": "python",
   "nbconvert_exporter": "python",
   "pygments_lexer": "ipython3",
   "version": "3.7.4"
  }
 },
 "nbformat": 4,
 "nbformat_minor": 2
}
