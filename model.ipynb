{
 "cells": [
  {
   "cell_type": "code",
   "execution_count": 1,
   "metadata": {},
   "outputs": [],
   "source": [
    "import numpy as np\n",
    "from tqdm.auto import tqdm\n",
    "\n",
    "import torch\n",
    "import torch.nn as nn\n",
    "import torch.nn.functional as F"
   ]
  },
  {
   "cell_type": "code",
   "execution_count": 2,
   "metadata": {},
   "outputs": [],
   "source": [
    "class ConvBlock(nn.Module):\n",
    "    def __init__(self, in_filters, out_filters, kernel_size=3, batchnorm=True, padding=1):\n",
    "        super(ConvBlock, self).__init__()\n",
    "        self.c1 = nn.Conv2d(in_filters, out_filters, kernel_size, padding=padding)\n",
    "        self.bn = batchnorm\n",
    "        self.b1 = nn.BatchNorm2d(out_filters)\n",
    "        \n",
    "    def forward(self, x):\n",
    "        x = self.c1(x)\n",
    "        if self.bn: \n",
    "            x = self.b1(x)\n",
    "        return x"
   ]
  },
  {
   "cell_type": "code",
   "execution_count": 3,
   "metadata": {},
   "outputs": [],
   "source": [
    "class ResidualBlock(nn.Module):\n",
    "    def __init__(self, filters, kernel_size=3, batchnorm=True, activ=F.relu):\n",
    "        super(ResidualBlock, self).__init__()\n",
    "        self.activ = activ\n",
    "        self.conv1 = ConvBlock(in_filters=filters, out_filters=filters, \n",
    "                               kernel_size=kernel_size, batchnorm=batchnorm)\n",
    "        self.conv2 = ConvBlock(in_filters=filters, out_filters=filters, \n",
    "                               kernel_size=kernel_size, batchnorm=batchnorm)\n",
    "    \n",
    "    def forward(self,x):\n",
    "        x_mod = self.activ(self.conv1(x))\n",
    "        x_mod = self.conv2(x_mod)\n",
    "        x_mod = self.activ(x_mod+x)\n",
    "        return x_mod"
   ]
  },
  {
   "cell_type": "code",
   "execution_count": 4,
   "metadata": {},
   "outputs": [],
   "source": [
    "class PolicyHead(nn.Module):\n",
    "    def __init__(self, filters=2, kernel_size=1, batchnorm=True, activ=F.relu, board_size=13, res_filters=256, padding=0):\n",
    "        super(PolicyHead, self).__init__()\n",
    "        self.conv = ConvBlock(in_filters=res_filters, out_filters=filters, \n",
    "                              kernel_size=kernel_size, batchnorm=batchnorm, padding=padding)\n",
    "        self.activ = activ\n",
    "        self.fc_infeatures = filters*board_size*board_size\n",
    "        self.fc = nn.Linear(in_features=self.fc_infeatures, out_features=board_size*board_size+2)\n",
    "    \n",
    "    def forward(self,x):\n",
    "        x = self.activ(self.conv(x))\n",
    "        x = x.view(x.size(0),-1)\n",
    "        x = self.fc(x)\n",
    "        # print(x)\n",
    "        return torch.softmax(x,1)"
   ]
  },
  {
   "cell_type": "code",
   "execution_count": 5,
   "metadata": {},
   "outputs": [],
   "source": [
    "class ValueHead(nn.Module):\n",
    "    def __init__(self, filters=1, kernel_size=1, batchnorm=True, activ=F.relu, board_size=13, res_filters=256, padding=0):\n",
    "        super(ValueHead, self).__init__()\n",
    "        self.conv = ConvBlock(in_filters=res_filters, out_filters=filters, \n",
    "                              kernel_size=kernel_size, batchnorm=batchnorm,  padding=padding)\n",
    "        self.activ = activ\n",
    "        self.fc_infeatures = filters*board_size*board_size\n",
    "        self.fc1 = nn.Linear(in_features=self.fc_infeatures, out_features=256)\n",
    "        self.fc2 = nn.Linear(in_features=256, out_features=1)\n",
    "    \n",
    "    def forward(self,x):\n",
    "        x = self.activ(self.conv(x))\n",
    "        x = x.view(x.size(0),-1)\n",
    "        x = self.fc1(x)\n",
    "        x = self.fc2(x)\n",
    "        return torch.tanh(x)"
   ]
  },
  {
   "cell_type": "code",
   "execution_count": 6,
   "metadata": {},
   "outputs": [],
   "source": [
    "class AlphaNeural(nn.Module):\n",
    "    def __init__(self, res_blocks):\n",
    "        super(AlphaNeural, self).__init__()\n",
    "        self.res_blocks = res_blocks\n",
    "        \n",
    "        self.conv1 = ConvBlock(in_filters=1, out_filters=256)\n",
    "        for i in range(self.res_blocks):\n",
    "            self.add_module(\"ResBlock\"+str(i), ResidualBlock(filters=256))\n",
    "        self.policy_head = PolicyHead()\n",
    "        self.value_head = ValueHead()\n",
    "    \n",
    "    def forward(self,x):\n",
    "        x = torch.relu(self.conv1(x))\n",
    "        # print(x.shape)\n",
    "        for i in range(self.res_blocks):\n",
    "            x = self._modules[\"ResBlock\"+str(i)](x)\n",
    "        # print(x.shape)\n",
    "\n",
    "        action = self.policy_head(x)\n",
    "        # print(action)\n",
    "        value = self.value_head(x)\n",
    "        return action, value"
   ]
  },
  {
   "cell_type": "code",
   "execution_count": 7,
   "metadata": {},
   "outputs": [],
   "source": [
    "model = AlphaNeural(19)"
   ]
  },
  {
   "cell_type": "code",
   "execution_count": 8,
   "metadata": {},
   "outputs": [],
   "source": [
    "x = torch.rand(1,1,13,13)"
   ]
  },
  {
   "cell_type": "code",
   "execution_count": 9,
   "metadata": {},
   "outputs": [
    {
     "data": {
      "text/plain": [
       "(tensor([[0.0031, 0.0074, 0.0049, 0.0047, 0.0043, 0.0043, 0.0051, 0.0055, 0.0073,\n",
       "          0.0065, 0.0086, 0.0062, 0.0041, 0.0065, 0.0081, 0.0040, 0.0041, 0.0053,\n",
       "          0.0074, 0.0023, 0.0058, 0.0063, 0.0122, 0.0070, 0.0062, 0.0088, 0.0094,\n",
       "          0.0039, 0.0083, 0.0061, 0.0084, 0.0067, 0.0063, 0.0024, 0.0039, 0.0103,\n",
       "          0.0060, 0.0097, 0.0061, 0.0053, 0.0053, 0.0056, 0.0084, 0.0058, 0.0049,\n",
       "          0.0073, 0.0072, 0.0045, 0.0100, 0.0084, 0.0030, 0.0064, 0.0034, 0.0078,\n",
       "          0.0032, 0.0045, 0.0033, 0.0042, 0.0053, 0.0048, 0.0040, 0.0062, 0.0051,\n",
       "          0.0043, 0.0050, 0.0036, 0.0054, 0.0057, 0.0083, 0.0087, 0.0066, 0.0111,\n",
       "          0.0055, 0.0048, 0.0042, 0.0036, 0.0057, 0.0059, 0.0060, 0.0061, 0.0061,\n",
       "          0.0058, 0.0034, 0.0042, 0.0078, 0.0042, 0.0029, 0.0035, 0.0034, 0.0073,\n",
       "          0.0061, 0.0052, 0.0020, 0.0037, 0.0030, 0.0064, 0.0069, 0.0057, 0.0087,\n",
       "          0.0048, 0.0144, 0.0062, 0.0068, 0.0067, 0.0056, 0.0076, 0.0065, 0.0055,\n",
       "          0.0035, 0.0069, 0.0082, 0.0048, 0.0031, 0.0026, 0.0042, 0.0031, 0.0054,\n",
       "          0.0073, 0.0054, 0.0073, 0.0035, 0.0079, 0.0077, 0.0044, 0.0037, 0.0072,\n",
       "          0.0077, 0.0050, 0.0034, 0.0065, 0.0054, 0.0060, 0.0055, 0.0056, 0.0061,\n",
       "          0.0035, 0.0062, 0.0059, 0.0048, 0.0030, 0.0031, 0.0057, 0.0082, 0.0111,\n",
       "          0.0066, 0.0040, 0.0058, 0.0083, 0.0020, 0.0048, 0.0063, 0.0095, 0.0105,\n",
       "          0.0069, 0.0119, 0.0052, 0.0067, 0.0049, 0.0044, 0.0044, 0.0062, 0.0033,\n",
       "          0.0089, 0.0062, 0.0028, 0.0069, 0.0045, 0.0037, 0.0032, 0.0066, 0.0086]],\n",
       "        grad_fn=<SoftmaxBackward>), tensor([[0.2169]], grad_fn=<TanhBackward>))"
      ]
     },
     "execution_count": 9,
     "metadata": {},
     "output_type": "execute_result"
    }
   ],
   "source": [
    "model(x)"
   ]
  },
  {
   "cell_type": "code",
   "execution_count": null,
   "metadata": {},
   "outputs": [],
   "source": []
  }
 ],
 "metadata": {
  "kernelspec": {
   "display_name": "Python 3",
   "language": "python",
   "name": "python3"
  },
  "language_info": {
   "codemirror_mode": {
    "name": "ipython",
    "version": 3
   },
   "file_extension": ".py",
   "mimetype": "text/x-python",
   "name": "python",
   "nbconvert_exporter": "python",
   "pygments_lexer": "ipython3",
   "version": "3.7.4"
  }
 },
 "nbformat": 4,
 "nbformat_minor": 2
}
