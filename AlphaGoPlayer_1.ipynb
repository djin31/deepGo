{
 "cells": [
  {
   "cell_type": "code",
   "execution_count": 27,
   "metadata": {},
   "outputs": [],
   "source": [
    "from utils_1.goenv import GoEnv,_format_state\n",
    "from utils_1.fnet import NeuralTrainer\n",
    "import numpy as np\n",
    "import goSim"
   ]
  },
  {
   "cell_type": "code",
   "execution_count": 24,
   "metadata": {},
   "outputs": [],
   "source": [
    "class AlphaGoPlayer():\n",
    "    def __init__(self, init_state, seed, player_color):\n",
    "        # setup parameters\n",
    "        self.init_state = init_state\n",
    "        self.seed = seed\n",
    "        self.player_color = player_color\n",
    "        \n",
    "        # init environment\n",
    "        if player_color==1:\n",
    "            self.env = GoEnv(player_color=\"black\", board_size=13)\n",
    "        else:\n",
    "            self.env = GoEnv(player_color=\"white\", board_size=13)\n",
    "        self.env.reset()\n",
    "        \n",
    "        # load neural network\n",
    "        self.model = NeuralTrainer(res_blocks=10, board_size=13)\n",
    "        self.model.load_model(\"utils_1/networks/testing1.model\")\n",
    "        \n",
    "    def get_action(self, cur_state, opponent_action):\n",
    "        if opponent_action>=0:\n",
    "            self.env.step(opponent_action)\n",
    "            print('-------------------------------------')\n",
    "            print('opponent_action: ' + str(opponent_action))\n",
    "            print('-------------------------------------')\n",
    "        \n",
    "        policy, value = model.predict(self.env.get_history())\n",
    "        action = np.argmax(policy)\n",
    "        self.env.step(action)\n",
    "        \n",
    "        print('-------------------------------------')\n",
    "        print('player_action: ' + str(action))\n",
    "        print('-------------------------------------')\n",
    "        self.env.print_board()\n",
    "        \n",
    "        return action"
   ]
  },
  {
   "cell_type": "code",
   "execution_count": 28,
   "metadata": {},
   "outputs": [],
   "source": [
    "env = goSim.GoEnv(player_color=\"black\", observation_type='image3c', illegal_move_mode=\"raise\", board_size=13, komi=7.5)\n",
    "\n",
    "obs_t = env.reset()\n",
    "opp_action=-1"
   ]
  },
  {
   "cell_type": "code",
   "execution_count": 32,
   "metadata": {},
   "outputs": [],
   "source": [
    "a = AlphaGoPlayer(obs_t.copy(), 1, 1)"
   ]
  },
  {
   "cell_type": "code",
   "execution_count": 33,
   "metadata": {},
   "outputs": [
    {
     "name": "stdout",
     "output_type": "stream",
     "text": [
      "-------------------------------------\n",
      "player_action: 169\n",
      "-------------------------------------\n",
      ". . . . . . . . . . . . . \n",
      ". . . . . . . . . . . . . \n",
      ". . . . . . . . . . . . . \n",
      ". . . . . . . . . . . . . \n",
      ". . . . . . . . . . . . . \n",
      ". . . . . . . . . . . . . \n",
      ". . . . . . . . . . . . . \n",
      ". . . . . . . . . . . . . \n",
      ". . . . . . . . . . . . . \n",
      ". . . . . . . . . . . . . \n",
      ". . . . . . . . . . . . . \n",
      ". . . . . . . . . . . . . \n",
      ". . . . . . . . . . . . . \n",
      "169\n"
     ]
    }
   ],
   "source": [
    "env.set_player_color(1)\n",
    "a_t = a.get_action(obs_t.copy(), opp_action)\n",
    "obs_t, a_t, r_t, done, info, cur_score = env.step(a_t)"
   ]
  },
  {
   "cell_type": "code",
   "execution_count": 34,
   "metadata": {},
   "outputs": [
    {
     "name": "stdout",
     "output_type": "stream",
     "text": [
      "168\n"
     ]
    }
   ],
   "source": [
    "env.set_player_color(2)\n",
    "opp_action = np.random.randint(0,170)\n",
    "obs_t, a_t, r_t, done, info, cur_score = env.step(opp_action)"
   ]
  },
  {
   "cell_type": "code",
   "execution_count": 35,
   "metadata": {},
   "outputs": [
    {
     "name": "stdout",
     "output_type": "stream",
     "text": [
      "-------------------------------------\n",
      "opponent_action: 168\n",
      "-------------------------------------\n",
      "-------------------------------------\n",
      "player_action: 169\n",
      "-------------------------------------\n",
      ". . . . . . . . . . . . . \n",
      ". . . . . . . . . . . . . \n",
      ". . . . . . . . . . . . . \n",
      ". . . . . . . . . . . . . \n",
      ". . . . . . . . . . . . . \n",
      ". . . . . . . . . . . . . \n",
      ". . . . . . . . . . . . . \n",
      ". . . . . . . . . . . . . \n",
      ". . . . . . . . . . . . . \n",
      ". . . . . . . . . . . . . \n",
      ". . . . . . . . . . . . . \n",
      ". . . . . . . . . . . . . \n",
      ". . . . . . . . . . . . O \n",
      "169\n"
     ]
    }
   ],
   "source": [
    "env.set_player_color(1)\n",
    "a_t = a.get_action(obs_t.copy(), opp_action)\n",
    "obs_t, a_t, r_t, done, info, cur_score = env.step(a_t)"
   ]
  },
  {
   "cell_type": "code",
   "execution_count": 36,
   "metadata": {},
   "outputs": [
    {
     "name": "stdout",
     "output_type": "stream",
     "text": [
      "31\n"
     ]
    }
   ],
   "source": [
    "env.set_player_color(2)\n",
    "opp_action = np.random.randint(0,170)\n",
    "obs_t, a_t, r_t, done, info, cur_score = env.step(opp_action)"
   ]
  },
  {
   "cell_type": "code",
   "execution_count": 37,
   "metadata": {},
   "outputs": [
    {
     "name": "stdout",
     "output_type": "stream",
     "text": [
      "-------------------------------------\n",
      "opponent_action: 31\n",
      "-------------------------------------\n",
      "-------------------------------------\n",
      "player_action: 169\n",
      "-------------------------------------\n",
      ". . . . . . . . . . . . . \n",
      ". . . . . . . . . . . . . \n",
      ". . . . . O . . . . . . . \n",
      ". . . . . . . . . . . . . \n",
      ". . . . . . . . . . . . . \n",
      ". . . . . . . . . . . . . \n",
      ". . . . . . . . . . . . . \n",
      ". . . . . . . . . . . . . \n",
      ". . . . . . . . . . . . . \n",
      ". . . . . . . . . . . . . \n",
      ". . . . . . . . . . . . . \n",
      ". . . . . . . . . . . . . \n",
      ". . . . . . . . . . . . O \n",
      "169\n"
     ]
    }
   ],
   "source": [
    "env.set_player_color(1)\n",
    "a_t = a.get_action(obs_t.copy(), opp_action)\n",
    "obs_t, a_t, r_t, done, info, cur_score = env.step(a_t)"
   ]
  },
  {
   "cell_type": "code",
   "execution_count": 41,
   "metadata": {},
   "outputs": [
    {
     "name": "stdout",
     "output_type": "stream",
     "text": [
      "135\n"
     ]
    }
   ],
   "source": [
    "env = goSim.GoEnv(player_color=\"black\", observation_type='image3c', illegal_move_mode=\"raise\", board_size=13, komi=7.5)\n",
    "obs_t = env.reset()\n",
    "opp_action=-1\n",
    "a = AlphaGoPlayer(obs_t.copy(), 2, 1)\n",
    "\n",
    "\n",
    "env.set_player_color(1)\n",
    "opp_action = np.random.randint(0,170)\n",
    "obs_t, a_t, r_t, done, info, cur_score = env.step(opp_action)"
   ]
  },
  {
   "cell_type": "code",
   "execution_count": 42,
   "metadata": {},
   "outputs": [
    {
     "name": "stdout",
     "output_type": "stream",
     "text": [
      "-------------------------------------\n",
      "opponent_action: 135\n",
      "-------------------------------------\n",
      "-------------------------------------\n",
      "player_action: 169\n",
      "-------------------------------------\n",
      ". . . . . . . . . . . . . \n",
      ". . . . . . . . . . . . . \n",
      ". . . . . . . . . . . . . \n",
      ". . . . . . . . . . . . . \n",
      ". . . . . . . . . . . . . \n",
      ". . . . . . . . . . . . . \n",
      ". . . . . . . . . . . . . \n",
      ". . . . . . . . . . . . . \n",
      ". . . . . . . . . . . . . \n",
      ". . . . . . . . . . . . . \n",
      ". . . . . X . . . . . . . \n",
      ". . . . . . . . . . . . . \n",
      ". . . . . . . . . . . . . \n",
      "169\n"
     ]
    }
   ],
   "source": [
    "env.set_player_color(2)\n",
    "a_t = a.get_action(obs_t.copy(), opp_action)\n",
    "obs_t, a_t, r_t, done, info, cur_score = env.step(a_t)"
   ]
  },
  {
   "cell_type": "code",
   "execution_count": 43,
   "metadata": {},
   "outputs": [
    {
     "name": "stdout",
     "output_type": "stream",
     "text": [
      "29\n",
      "-------------------------------------\n",
      "opponent_action: 29\n",
      "-------------------------------------\n",
      "-------------------------------------\n",
      "player_action: 169\n",
      "-------------------------------------\n",
      ". . . . . . . . . . . . . \n",
      ". . . . . . . . . . . . . \n",
      ". . . X . . . . . . . . . \n",
      ". . . . . . . . . . . . . \n",
      ". . . . . . . . . . . . . \n",
      ". . . . . . . . . . . . . \n",
      ". . . . . . . . . . . . . \n",
      ". . . . . . . . . . . . . \n",
      ". . . . . . . . . . . . . \n",
      ". . . . . . . . . . . . . \n",
      ". . . . . X . . . . . . . \n",
      ". . . . . . . . . . . . . \n",
      ". . . . . . . . . . . . . \n",
      "169\n"
     ]
    }
   ],
   "source": [
    "env.set_player_color(1)\n",
    "opp_action = np.random.randint(0,170)\n",
    "obs_t, a_t, r_t, done, info, cur_score = env.step(opp_action)\n",
    "\n",
    "env.set_player_color(2)\n",
    "a_t = a.get_action(obs_t.copy(), opp_action)\n",
    "obs_t, a_t, r_t, done, info, cur_score = env.step(a_t)\n"
   ]
  },
  {
   "cell_type": "code",
   "execution_count": null,
   "metadata": {},
   "outputs": [],
   "source": []
  }
 ],
 "metadata": {
  "kernelspec": {
   "display_name": "Python 3",
   "language": "python",
   "name": "python3"
  },
  "language_info": {
   "codemirror_mode": {
    "name": "ipython",
    "version": 3
   },
   "file_extension": ".py",
   "mimetype": "text/x-python",
   "name": "python",
   "nbconvert_exporter": "python",
   "pygments_lexer": "ipython3",
   "version": "3.7.4"
  }
 },
 "nbformat": 4,
 "nbformat_minor": 2
}
