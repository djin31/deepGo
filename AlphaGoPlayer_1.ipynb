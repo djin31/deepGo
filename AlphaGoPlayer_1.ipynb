{
 "cells": [
  {
   "cell_type": "code",
   "execution_count": 1,
   "metadata": {},
   "outputs": [],
   "source": [
    "from utils_1.goenv import GoEnv,_format_state, create_env_copy\n",
    "from utils_1.fnet import NeuralTrainer, AlphaNeural\n",
    "import numpy as np\n",
    "import goSim\n",
    "from tqdm.auto import tqdm"
   ]
  },
  {
   "cell_type": "code",
   "execution_count": 2,
   "metadata": {},
   "outputs": [],
   "source": [
    "class AlphaGoPlayer():\n",
    "    def __init__(self, init_state, seed, player_color):\n",
    "        # setup parameters\n",
    "        self.init_state = init_state\n",
    "        self.seed = seed\n",
    "        self.player_color = player_color\n",
    "        \n",
    "        # init environment\n",
    "        if player_color==1:\n",
    "            self.env = GoEnv(player_color=\"black\", board_size=13)\n",
    "        else:\n",
    "            self.env = GoEnv(player_color=\"white\", board_size=13)\n",
    "        self.env.reset()\n",
    "        \n",
    "        # load neural network\n",
    "        self.model = NeuralTrainer(res_blocks=10, board_size=13)\n",
    "#         self.model.load_model(\"utils_1/networks/testing1.model\")\n",
    "        \n",
    "    def get_action(self, cur_state, opponent_action):\n",
    "        if opponent_action>=0:\n",
    "            self.env.step(opponent_action)\n",
    "            print('-------------------------------------')\n",
    "            print('opponent_action: ' + str(opponent_action))\n",
    "            print('-------------------------------------')\n",
    "        \n",
    "        policy, value = self.model.predict(self.env.get_history())\n",
    "        legal_moves = self.env.get_legal_moves()\n",
    "        policy = policy*legal_moves\n",
    "        action = np.argmax(policy)\n",
    "        self.env.step(action)\n",
    "        \n",
    "        print('-------------------------------------')\n",
    "        print('player_action: ' + str(action))\n",
    "        print('-------------------------------------')\n",
    "        self.env.print_board()\n",
    "        \n",
    "        return action"
   ]
  },
  {
   "cell_type": "code",
   "execution_count": 3,
   "metadata": {},
   "outputs": [],
   "source": [
    "class MinMax:\n",
    "    def __init__(self, board_size, player, max_depth=3):\n",
    "        self.board_size=board_size\n",
    "        self.max_depth = max_depth\n",
    "        self.player = player\n",
    "        \n",
    "    def alpha_beta_search(self, board):\n",
    "        # if player is black then do minimization at root\n",
    "        if self.player==1:\n",
    "            action_value = [np.inf]*(self.board_size**2+1)\n",
    "            action_space = np.nonzero(board.get_legal_moves())[0]\n",
    "            for action in tqdm(action_space):\n",
    "                child = create_env_copy(board)\n",
    "                try:\n",
    "                    child.step(action)\n",
    "                except (Exception):\n",
    "                    print(action_space)\n",
    "                    print(action)\n",
    "\n",
    "                action_value[action] = self.max_search(child, -np.inf, np.inf,1)\n",
    "            return np.argmin(action_value)\n",
    "        \n",
    "        # if player is white then do maximization at root\n",
    "        else:\n",
    "            action_value = [-np.inf]*(self.board_size**2+1)\n",
    "            action_space = np.nonzero(board.get_legal_moves())[0]\n",
    "            for action in tqdm(action_space):\n",
    "                child = create_env_copy(board)\n",
    "                child.step(action)\n",
    "                action_value[action] = self.max_search(child, -np.inf, np.inf,1)\n",
    "            return np.argmax(action_value)\n",
    "    \n",
    "    def max_search(self, board, alpha, beta, depth):\n",
    "        if board.isComplete():\n",
    "            return board.get_winner()*1000\n",
    "        if depth==self.max_depth:\n",
    "            return board.curr_score()\n",
    "        \n",
    "        v = -np.inf\n",
    "        \n",
    "        action_space = np.nonzero(board.get_legal_moves())[0]\n",
    "        \n",
    "        for action in action_space:\n",
    "            child = create_env_copy(board)\n",
    "            try:\n",
    "                child.step(action)\n",
    "            except (Exception):\n",
    "                print(action_space)\n",
    "                print(action)\n",
    "            \n",
    "            v = max(v,self.min_search(child,alpha,beta,depth+1))\n",
    "            if v>= beta:\n",
    "                return v\n",
    "            alpha = max(alpha,v)\n",
    "        return v\n",
    "    \n",
    "    def min_search(self, board, alpha, beta, depth):\n",
    "        if board.isComplete():\n",
    "            return board.get_winner()*1000\n",
    "        if depth==self.max_depth:\n",
    "            return board.curr_score()\n",
    "        \n",
    "        v = np.inf\n",
    "        action_space = np.nonzero(board.get_legal_moves())[0]\n",
    "        \n",
    "        for action in action_space:\n",
    "            child = create_env_copy(board)\n",
    "            child.step(action)\n",
    "            \n",
    "            v = min(v,self.max_search(child,alpha,beta, depth+1))\n",
    "            if v<= alpha:\n",
    "                return v\n",
    "            beta = min(beta,v)\n",
    "        return v"
   ]
  },
  {
   "cell_type": "code",
   "execution_count": 4,
   "metadata": {},
   "outputs": [],
   "source": [
    "class AlphaGoPlayer_MinMax():\n",
    "    def __init__(self, init_state, seed, player_color):\n",
    "        # setup parameters\n",
    "        self.init_state = init_state\n",
    "        self.seed = seed\n",
    "        self.player_color = player_color\n",
    "        \n",
    "        self.minmax = MinMax(board_size=13, player=player_color, max_depth=2)\n",
    "        \n",
    "        # init environment\n",
    "        if player_color==1:\n",
    "            self.env = GoEnv(player_color=\"black\", board_size=13)\n",
    "        else:\n",
    "            self.env = GoEnv(player_color=\"white\", board_size=13)\n",
    "        self.env.reset()\n",
    "        \n",
    "    def get_action(self, cur_state, opponent_action):\n",
    "        if opponent_action>=0:\n",
    "            self.env.step(opponent_action)\n",
    "        \n",
    "        action = self.minmax.alpha_beta_search(self.env)\n",
    "        self.env.step(action)\n",
    "        \n",
    "        return action"
   ]
  },
  {
   "cell_type": "code",
   "execution_count": 5,
   "metadata": {},
   "outputs": [],
   "source": [
    "env = goSim.GoEnv(player_color=\"black\", observation_type='image3c', illegal_move_mode=\"raise\", board_size=13, komi=7.5)\n",
    "\n",
    "obs_t = env.reset()\n",
    "opp_action=-1"
   ]
  },
  {
   "cell_type": "code",
   "execution_count": 6,
   "metadata": {},
   "outputs": [],
   "source": [
    "a = AlphaGoPlayer_MinMax(obs_t.copy(), 1, 1)"
   ]
  },
  {
   "cell_type": "code",
   "execution_count": 7,
   "metadata": {},
   "outputs": [
    {
     "data": {
      "application/vnd.jupyter.widget-view+json": {
       "model_id": "b07e1f7db697404495da64f15582a3a1",
       "version_major": 2,
       "version_minor": 0
      },
      "text/plain": [
       "HBox(children=(IntProgress(value=0, max=169), HTML(value='')))"
      ]
     },
     "metadata": {},
     "output_type": "display_data"
    },
    {
     "name": "stdout",
     "output_type": "stream",
     "text": [
      "\n",
      "0\n"
     ]
    }
   ],
   "source": [
    "env.set_player_color(1)\n",
    "a_t = a.get_action(obs_t.copy(), opp_action)\n",
    "obs_t, a_t, r_t, done, info, cur_score = env.step(a_t)"
   ]
  },
  {
   "cell_type": "code",
   "execution_count": 8,
   "metadata": {},
   "outputs": [
    {
     "name": "stdout",
     "output_type": "stream",
     "text": [
      "11\n"
     ]
    }
   ],
   "source": [
    "env.set_player_color(2)\n",
    "opp_action = np.random.randint(0,170)\n",
    "obs_t, a_t, r_t, done, info, cur_score = env.step(opp_action)"
   ]
  },
  {
   "cell_type": "code",
   "execution_count": 9,
   "metadata": {},
   "outputs": [
    {
     "data": {
      "application/vnd.jupyter.widget-view+json": {
       "model_id": "b5222b634b4c4d3faf4bfaaf718e2c80",
       "version_major": 2,
       "version_minor": 0
      },
      "text/plain": [
       "HBox(children=(IntProgress(value=0, max=167), HTML(value='')))"
      ]
     },
     "metadata": {},
     "output_type": "display_data"
    },
    {
     "name": "stdout",
     "output_type": "stream",
     "text": [
      "\n",
      "24\n"
     ]
    }
   ],
   "source": [
    "env.set_player_color(1)\n",
    "a_t = a.get_action(obs_t.copy(), opp_action)\n",
    "obs_t, a_t, r_t, done, info, cur_score = env.step(a_t)"
   ]
  },
  {
   "cell_type": "code",
   "execution_count": 10,
   "metadata": {},
   "outputs": [
    {
     "name": "stdout",
     "output_type": "stream",
     "text": [
      "124\n"
     ]
    }
   ],
   "source": [
    "env.set_player_color(2)\n",
    "opp_action = np.random.randint(0,170)\n",
    "obs_t, a_t, r_t, done, info, cur_score = env.step(opp_action)"
   ]
  },
  {
   "cell_type": "code",
   "execution_count": 11,
   "metadata": {},
   "outputs": [
    {
     "data": {
      "application/vnd.jupyter.widget-view+json": {
       "model_id": "cea141a490d34cc49147e4014f448a99",
       "version_major": 2,
       "version_minor": 0
      },
      "text/plain": [
       "HBox(children=(IntProgress(value=0, max=165), HTML(value='')))"
      ]
     },
     "metadata": {},
     "output_type": "display_data"
    },
    {
     "name": "stdout",
     "output_type": "stream",
     "text": [
      "\n",
      "1\n"
     ]
    }
   ],
   "source": [
    "env.set_player_color(1)\n",
    "a_t = a.get_action(obs_t.copy(), opp_action)\n",
    "obs_t, a_t, r_t, done, info, cur_score = env.step(a_t)"
   ]
  },
  {
   "cell_type": "code",
   "execution_count": 12,
   "metadata": {},
   "outputs": [
    {
     "name": "stdout",
     "output_type": "stream",
     "text": [
      "149\n"
     ]
    }
   ],
   "source": [
    "env = goSim.GoEnv(player_color=\"black\", observation_type='image3c', illegal_move_mode=\"raise\", board_size=13, komi=7.5)\n",
    "obs_t = env.reset()\n",
    "opp_action=-1\n",
    "a = AlphaGoPlayer(obs_t.copy(), 2, 1)\n",
    "\n",
    "\n",
    "env.set_player_color(1)\n",
    "opp_action = np.random.randint(0,170)\n",
    "obs_t, a_t, r_t, done, info, cur_score = env.step(opp_action)"
   ]
  },
  {
   "cell_type": "code",
   "execution_count": 13,
   "metadata": {},
   "outputs": [
    {
     "name": "stdout",
     "output_type": "stream",
     "text": [
      "-------------------------------------\n",
      "opponent_action: 149\n",
      "-------------------------------------\n",
      "-------------------------------------\n",
      "player_action: 1\n",
      "-------------------------------------\n",
      ". O . . . . . . . . . . . \n",
      ". . . . . . . . . . . . . \n",
      ". . . . . . . . . . . . . \n",
      ". . . . . . . . . . . . . \n",
      ". . . . . . . . . . . . . \n",
      ". . . . . . . . . . . . . \n",
      ". . . . . . . . . . . . . \n",
      ". . . . . . . . . . . . . \n",
      ". . . . . . . . . . . . . \n",
      ". . . . . . . . . . . . . \n",
      ". . . . . . . . . . . . . \n",
      ". . . . . . X . . . . . . \n",
      ". . . . . . . . . . . . . \n",
      "1\n"
     ]
    }
   ],
   "source": [
    "env.set_player_color(2)\n",
    "a_t = a.get_action(obs_t.copy(), opp_action)\n",
    "obs_t, a_t, r_t, done, info, cur_score = env.step(a_t)"
   ]
  },
  {
   "cell_type": "code",
   "execution_count": 14,
   "metadata": {},
   "outputs": [
    {
     "name": "stdout",
     "output_type": "stream",
     "text": [
      "102\n",
      "-------------------------------------\n",
      "opponent_action: 102\n",
      "-------------------------------------\n",
      "-------------------------------------\n",
      "player_action: 123\n",
      "-------------------------------------\n",
      ". O . . . . . . . . . . . \n",
      ". . . . . . . . . . . . . \n",
      ". . . . . . . . . . . . . \n",
      ". . . . . . . . . . . . . \n",
      ". . . . . . . . . . . . . \n",
      ". . . . . . . . . . . . . \n",
      ". . . . . . . . . . . . . \n",
      ". . . . . . . . . . . X . \n",
      ". . . . . . . . . . . . . \n",
      ". . . . . . O . . . . . . \n",
      ". . . . . . . . . . . . . \n",
      ". . . . . . X . . . . . . \n",
      ". . . . . . . . . . . . . \n",
      "123\n"
     ]
    }
   ],
   "source": [
    "env.set_player_color(1)\n",
    "opp_action = np.random.randint(0,170)\n",
    "obs_t, a_t, r_t, done, info, cur_score = env.step(opp_action)\n",
    "\n",
    "env.set_player_color(2)\n",
    "a_t = a.get_action(obs_t.copy(), opp_action)\n",
    "obs_t, a_t, r_t, done, info, cur_score = env.step(a_t)\n"
   ]
  },
  {
   "cell_type": "code",
   "execution_count": 16,
   "metadata": {},
   "outputs": [],
   "source": [
    "env_mank = GoEnv(\"black\", board_size=13)\n",
    "s = env_mank.reset();"
   ]
  },
  {
   "cell_type": "code",
   "execution_count": 18,
   "metadata": {},
   "outputs": [],
   "source": [
    "a1 = AlphaGoPlayer(s,1,1)"
   ]
  },
  {
   "cell_type": "code",
   "execution_count": 19,
   "metadata": {},
   "outputs": [],
   "source": [
    "a2 = AlphaGoPlayer_MinMax(s, 1, 2)"
   ]
  },
  {
   "cell_type": "code",
   "execution_count": 20,
   "metadata": {},
   "outputs": [
    {
     "name": "stdout",
     "output_type": "stream",
     "text": [
      "6.5\n"
     ]
    },
    {
     "data": {
      "application/vnd.jupyter.widget-view+json": {
       "model_id": "b0c1169f82d24c25a296ce64097d5bcf",
       "version_major": 2,
       "version_minor": 0
      },
      "text/plain": [
       "HBox(children=(IntProgress(value=0, max=168), HTML(value='')))"
      ]
     },
     "metadata": {},
     "output_type": "display_data"
    },
    {
     "name": "stdout",
     "output_type": "stream",
     "text": [
      "\n",
      "7.5\n",
      "O . . . . . . . . . . . . \n",
      ". . . . . . . . X . . . . \n",
      ". . . . . . . . . . . . . \n",
      ". . . . . . . . . . . . . \n",
      ". . . . . . . . . . . . . \n",
      ". . . . . . . . . . . . . \n",
      ". . . . . . . . . . . . . \n",
      ". . . . . . . . . . . . . \n",
      ". . . . . . . . . . . . . \n",
      ". . . . . . . . . . . . . \n",
      ". . . . . . . . . . . . . \n",
      ". . . . . . . . . . . . . \n",
      ". . . . . . . . . . . . . \n",
      "6.5\n"
     ]
    },
    {
     "data": {
      "application/vnd.jupyter.widget-view+json": {
       "model_id": "e75ec3f807264ca9b14f1a0da5396fc0",
       "version_major": 2,
       "version_minor": 0
      },
      "text/plain": [
       "HBox(children=(IntProgress(value=0, max=166), HTML(value='')))"
      ]
     },
     "metadata": {},
     "output_type": "display_data"
    },
    {
     "name": "stdout",
     "output_type": "stream",
     "text": [
      "\n",
      "7.5\n",
      "O O . . . . . . . . . . . \n",
      ". . . . . . . . X . . . . \n",
      ". . . . . . . . . . . . . \n",
      ". . . . . . . . . . . . . \n",
      ". . . . . . . . . . . . . \n",
      ". . . . . . . . . . . . . \n",
      ". . . . . . . . . . . . . \n",
      ". . . . . . . . . . . . . \n",
      ". . . . . . . . . . . . . \n",
      ". . . . . . . . . . . . . \n",
      ". . . . . . . . . . . . . \n",
      ". . . X . . . . . . . . . \n",
      ". . . . . . . . . . . . . \n",
      "6.5\n"
     ]
    },
    {
     "data": {
      "application/vnd.jupyter.widget-view+json": {
       "model_id": "ec403c84d70945c99825852ed5dedd65",
       "version_major": 2,
       "version_minor": 0
      },
      "text/plain": [
       "HBox(children=(IntProgress(value=0, max=164), HTML(value='')))"
      ]
     },
     "metadata": {},
     "output_type": "display_data"
    },
    {
     "name": "stdout",
     "output_type": "stream",
     "text": [
      "\n",
      "7.5\n",
      "O O O . . . . . . . . . . \n",
      ". . . . . . . . X . . . . \n",
      ". . . . . . . . . . . . . \n",
      ". . . . . . . . . . . . . \n",
      ". . . . . . . . . . . . . \n",
      ". . . . . . . . . . . . . \n",
      ". . . . . . . . . . . . . \n",
      ". . . . . . . . . . . . . \n",
      ". X . . . . . . . . . . . \n",
      ". . . . . . . . . . . . . \n",
      ". . . . . . . . . . . . . \n",
      ". . . X . . . . . . . . . \n",
      ". . . . . . . . . . . . . \n",
      "6.5\n"
     ]
    },
    {
     "data": {
      "application/vnd.jupyter.widget-view+json": {
       "model_id": "8176262977d7417dbd56067ba182f122",
       "version_major": 2,
       "version_minor": 0
      },
      "text/plain": [
       "HBox(children=(IntProgress(value=0, max=162), HTML(value='')))"
      ]
     },
     "metadata": {},
     "output_type": "display_data"
    },
    {
     "name": "stdout",
     "output_type": "stream",
     "text": [
      "\n",
      "7.5\n",
      "O O O O . . . . . . . . . \n",
      ". . . . . . . . X . . . . \n",
      ". . . . . . . . . . . . . \n",
      ". . . . . . . . . . . . . \n",
      ". . . . . . . . . . . . . \n",
      ". . . . . . . . . . . . . \n",
      ". . . . . . . . . . . . . \n",
      ". . . . . . . . . . . . . \n",
      ". X . . . . . . . . . . X \n",
      ". . . . . . . . . . . . . \n",
      ". . . . . . . . . . . . . \n",
      ". . . X . . . . . . . . . \n",
      ". . . . . . . . . . . . . \n",
      "6.5\n"
     ]
    },
    {
     "data": {
      "application/vnd.jupyter.widget-view+json": {
       "model_id": "279e6f868a864b5da53a66f1ae0911dc",
       "version_major": 2,
       "version_minor": 0
      },
      "text/plain": [
       "HBox(children=(IntProgress(value=0, max=160), HTML(value='')))"
      ]
     },
     "metadata": {},
     "output_type": "display_data"
    },
    {
     "name": "stdout",
     "output_type": "stream",
     "text": [
      "\n",
      "7.5\n",
      "O O O O O . . . . . . . . \n",
      ". . . . . . . . X . . . . \n",
      ". . . . . . . . . . . . . \n",
      ". . . . . . . . . . . . . \n",
      ". . . . . . . . . . . . . \n",
      ". . . . . . . . . . . X . \n",
      ". . . . . . . . . . . . . \n",
      ". . . . . . . . . . . . . \n",
      ". X . . . . . . . . . . X \n",
      ". . . . . . . . . . . . . \n",
      ". . . . . . . . . . . . . \n",
      ". . . X . . . . . . . . . \n",
      ". . . . . . . . . . . . . \n",
      "6.5\n"
     ]
    },
    {
     "data": {
      "application/vnd.jupyter.widget-view+json": {
       "model_id": "e40fb55e81c04399967907da3ec45cb9",
       "version_major": 2,
       "version_minor": 0
      },
      "text/plain": [
       "HBox(children=(IntProgress(value=0, max=158), HTML(value='')))"
      ]
     },
     "metadata": {},
     "output_type": "display_data"
    },
    {
     "name": "stdout",
     "output_type": "stream",
     "text": [
      "\n",
      "7.5\n",
      "O O O O O O . . . . . . . \n",
      ". . . . . . . . X . . . . \n",
      ". . . . . . . . . . . . . \n",
      ". . . . . . . . . . . . . \n",
      ". . . . . . . . . . . . . \n",
      ". . . . . . . . . . . X . \n",
      "X . . . . . . . . . . . . \n",
      ". . . . . . . . . . . . . \n",
      ". X . . . . . . . . . . X \n",
      ". . . . . . . . . . . . . \n",
      ". . . . . . . . . . . . . \n",
      ". . . X . . . . . . . . . \n",
      ". . . . . . . . . . . . . \n",
      "6.5\n"
     ]
    },
    {
     "data": {
      "application/vnd.jupyter.widget-view+json": {
       "model_id": "79148799ecc84caa86da3576fbbd581b",
       "version_major": 2,
       "version_minor": 0
      },
      "text/plain": [
       "HBox(children=(IntProgress(value=0, max=156), HTML(value='')))"
      ]
     },
     "metadata": {},
     "output_type": "display_data"
    },
    {
     "name": "stdout",
     "output_type": "stream",
     "text": [
      "\n",
      "7.5\n",
      "O O O O O O O . . . . . . \n",
      ". . . . . . . . X . . . . \n",
      ". . . . . . . . . . . . . \n",
      ". . . . . . . . . . . . . \n",
      ". . . . . . . . . . . . . \n",
      ". . . . . . . . . . . X . \n",
      "X . . . . . . . . . . . . \n",
      ". . . . . . . . . . . . . \n",
      ". X . . . . . . . . . . X \n",
      ". . . . . . . . . . . . . \n",
      ". . . . . . . . . . . . . \n",
      ". . . X . . . . . . X . . \n",
      ". . . . . . . . . . . . . \n",
      "6.5\n"
     ]
    },
    {
     "data": {
      "application/vnd.jupyter.widget-view+json": {
       "model_id": "ebec50ca5fdd400eb18fa4395f19feaf",
       "version_major": 2,
       "version_minor": 0
      },
      "text/plain": [
       "HBox(children=(IntProgress(value=0, max=154), HTML(value='')))"
      ]
     },
     "metadata": {},
     "output_type": "display_data"
    },
    {
     "name": "stdout",
     "output_type": "stream",
     "text": [
      "\n",
      "7.5\n",
      "O O O O O O O O . . . . . \n",
      ". . X . . . . . X . . . . \n",
      ". . . . . . . . . . . . . \n",
      ". . . . . . . . . . . . . \n",
      ". . . . . . . . . . . . . \n",
      ". . . . . . . . . . . X . \n",
      "X . . . . . . . . . . . . \n",
      ". . . . . . . . . . . . . \n",
      ". X . . . . . . . . . . X \n",
      ". . . . . . . . . . . . . \n",
      ". . . . . . . . . . . . . \n",
      ". . . X . . . . . . X . . \n",
      ". . . . . . . . . . . . . \n",
      "6.5\n"
     ]
    },
    {
     "data": {
      "application/vnd.jupyter.widget-view+json": {
       "model_id": "6ba4f9587b3346dd8690f9e597917fd5",
       "version_major": 2,
       "version_minor": 0
      },
      "text/plain": [
       "HBox(children=(IntProgress(value=0, max=152), HTML(value='')))"
      ]
     },
     "metadata": {},
     "output_type": "display_data"
    },
    {
     "name": "stdout",
     "output_type": "stream",
     "text": [
      "\n",
      "7.5\n",
      "O O O O O O O O O . . . . \n",
      ". . X . . . . . X . . . . \n",
      ". . . . . . . . . . . . . \n",
      ". . . . . . . . . . . . . \n",
      ". . . . . . . . . . . . . \n",
      ". . . . . . . . . . . X . \n",
      "X . . . . . . . . . . . . \n",
      ". . . . . . . . . . . . . \n",
      ". X . . . . . . . . . . X \n",
      ". . . . . . X . . . . . . \n",
      ". . . . . . . . . . . . . \n",
      ". . . X . . . . . . X . . \n",
      ". . . . . . . . . . . . . \n",
      "6.5\n"
     ]
    },
    {
     "data": {
      "application/vnd.jupyter.widget-view+json": {
       "model_id": "369f065f136a49be8642529055995d32",
       "version_major": 2,
       "version_minor": 0
      },
      "text/plain": [
       "HBox(children=(IntProgress(value=0, max=150), HTML(value='')))"
      ]
     },
     "metadata": {},
     "output_type": "display_data"
    },
    {
     "name": "stdout",
     "output_type": "stream",
     "text": [
      "\n",
      "7.5\n",
      "O O O O O O O O O O . . . \n",
      ". . X . . . . . X . . . . \n",
      ". . . . . . . . . . . . . \n",
      ". . . . . . . . . . . . . \n",
      ". . . . . . . . . . . . . \n",
      ". . . . . . . . . . . X . \n",
      "X . . . . . . . . . . . . \n",
      ". . . . . . . . . . . . . \n",
      ". X . . . . . . . . . . X \n",
      ". . . . . . X . . . . . . \n",
      ". . . . . . X . . . . . . \n",
      ". . . X . . . . . . X . . \n",
      ". . . . . . . . . . . . . \n",
      "6.5\n"
     ]
    },
    {
     "data": {
      "application/vnd.jupyter.widget-view+json": {
       "model_id": "a745c490922d4279add0d606ff49bd81",
       "version_major": 2,
       "version_minor": 0
      },
      "text/plain": [
       "HBox(children=(IntProgress(value=0, max=148), HTML(value='')))"
      ]
     },
     "metadata": {},
     "output_type": "display_data"
    },
    {
     "name": "stdout",
     "output_type": "stream",
     "text": [
      "\n",
      "7.5\n",
      "O O O O O O O O O O . . . \n",
      ". . X . . . . . X . . . . \n",
      ". . . . . . . . . . . . . \n",
      ". . . . . . . . . . . . . \n",
      ". . . . . . . . . . . . . \n",
      ". . . . . . . . . . . X . \n",
      "X . . . . . . . . . . . . \n",
      ". . . . . . . . . . . . . \n",
      ". X . . . . . . . . . . X \n",
      ". . . . . . X . . . . . . \n",
      ". . . . . . X . . . . . . \n",
      ". . . X . . . . . . X . . \n",
      ". . . . . . . . . X O . . \n",
      "6.5\n"
     ]
    },
    {
     "data": {
      "application/vnd.jupyter.widget-view+json": {
       "model_id": "ba268795a80b4829abe5e29c75bd4fff",
       "version_major": 2,
       "version_minor": 0
      },
      "text/plain": [
       "HBox(children=(IntProgress(value=0, max=146), HTML(value='')))"
      ]
     },
     "metadata": {},
     "output_type": "display_data"
    },
    {
     "name": "stdout",
     "output_type": "stream",
     "text": [
      "\n",
      "7.5\n",
      "O O O O O O O O O O O . . \n",
      ". . X . . . . . X . . . . \n",
      ". . . . . . . . . . . . . \n",
      ". . . . . . . . . . . . . \n",
      ". . . . . . . . . . . . . \n",
      ". . . . . . . . . X . X . \n",
      "X . . . . . . . . . . . . \n",
      ". . . . . . . . . . . . . \n",
      ". X . . . . . . . . . . X \n",
      ". . . . . . X . . . . . . \n",
      ". . . . . . X . . . . . . \n",
      ". . . X . . . . . . X . . \n",
      ". . . . . . . . . X O . . \n",
      "6.5\n"
     ]
    },
    {
     "data": {
      "application/vnd.jupyter.widget-view+json": {
       "model_id": "864abdf8532e4a67ae6cf8125c197ac1",
       "version_major": 2,
       "version_minor": 0
      },
      "text/plain": [
       "HBox(children=(IntProgress(value=0, max=144), HTML(value='')))"
      ]
     },
     "metadata": {},
     "output_type": "display_data"
    },
    {
     "name": "stdout",
     "output_type": "stream",
     "text": [
      "\n",
      "7.5\n",
      "O O O O O O O O O O O O . \n",
      ". . X . . . . . X . . . . \n",
      ". . . . . . . . . . . . . \n",
      ". . . . . . . . . . . . . \n",
      ". . . . . . . . . . . . . \n",
      ". . . . . . . . . X . X . \n",
      "X . . . . . . . . X . . . \n",
      ". . . . . . . . . . . . . \n",
      ". X . . . . . . . . . . X \n",
      ". . . . . . X . . . . . . \n",
      ". . . . . . X . . . . . . \n",
      ". . . X . . . . . . X . . \n",
      ". . . . . . . . . X O . . \n",
      "6.5\n"
     ]
    },
    {
     "data": {
      "application/vnd.jupyter.widget-view+json": {
       "model_id": "d3fce311c9164161ad9faab5181049ec",
       "version_major": 2,
       "version_minor": 0
      },
      "text/plain": [
       "HBox(children=(IntProgress(value=0, max=142), HTML(value='')))"
      ]
     },
     "metadata": {},
     "output_type": "display_data"
    },
    {
     "name": "stdout",
     "output_type": "stream",
     "text": [
      "\n",
      "7.5\n",
      "O O O O O O O O O O O O O \n",
      ". . X . . . . . X . . . . \n",
      ". . . . . . . . . . . . . \n",
      ". . . . . . . . . . . . . \n",
      ". . . . . . . . . . . . . \n",
      ". . . . . . . . . X . X . \n",
      "X . . . . . . . . X X . . \n",
      ". . . . . . . . . . . . . \n",
      ". X . . . . . . . . . . X \n",
      ". . . . . . X . . . . . . \n",
      ". . . . . . X . . . . . . \n",
      ". . . X . . . . . . X . . \n",
      ". . . . . . . . . X O . . \n",
      "6.5\n"
     ]
    },
    {
     "data": {
      "application/vnd.jupyter.widget-view+json": {
       "model_id": "c5049722d566497e8a54481a8d03515a",
       "version_major": 2,
       "version_minor": 0
      },
      "text/plain": [
       "HBox(children=(IntProgress(value=0, max=140), HTML(value='')))"
      ]
     },
     "metadata": {},
     "output_type": "display_data"
    },
    {
     "name": "stdout",
     "output_type": "stream",
     "text": [
      "\n",
      "7.5\n",
      "O O O O O O O O O O O O O \n",
      "O . X . . . . . X . . . . \n",
      ". . . . . . . . . . . . . \n",
      ". . . . . . . . . . . . . \n",
      ". . . . . . . . . . . . . \n",
      ". . . . . . . . . X . X . \n",
      "X . . . . . . . . X X . . \n",
      ". . . . . . . . . . . . . \n",
      ". X . . . . . . . . . . X \n",
      ". . . . . . X . . . . . . \n",
      ". . . . . . X . . . . . . \n",
      ". . . X . . . . . . X . . \n",
      ". . X . . . . . . X O . . \n",
      "6.5\n"
     ]
    },
    {
     "data": {
      "application/vnd.jupyter.widget-view+json": {
       "model_id": "dc48d42f9f7a48438f2d7b00fd22e6dc",
       "version_major": 2,
       "version_minor": 0
      },
      "text/plain": [
       "HBox(children=(IntProgress(value=0, max=138), HTML(value='')))"
      ]
     },
     "metadata": {},
     "output_type": "display_data"
    },
    {
     "name": "stdout",
     "output_type": "stream",
     "text": [
      "\n",
      "7.5\n",
      "O O O O O O O O O O O O O \n",
      "O O X . . . . . X . . . . \n",
      ". . . . . . . . . . . . . \n",
      ". . . . . . . . . . . . . \n",
      ". . . . . . . . . . . . . \n",
      ". . X . . . . . . X . X . \n",
      "X . . . . . . . . X X . . \n",
      ". . . . . . . . . . . . . \n",
      ". X . . . . . . . . . . X \n",
      ". . . . . . X . . . . . . \n",
      ". . . . . . X . . . . . . \n",
      ". . . X . . . . . . X . . \n",
      ". . X . . . . . . X O . . \n",
      "6.5\n"
     ]
    },
    {
     "data": {
      "application/vnd.jupyter.widget-view+json": {
       "model_id": "a4d2259e5899461d849159d2c6bcb8a8",
       "version_major": 2,
       "version_minor": 0
      },
      "text/plain": [
       "HBox(children=(IntProgress(value=0, max=136), HTML(value='')))"
      ]
     },
     "metadata": {},
     "output_type": "display_data"
    },
    {
     "name": "stdout",
     "output_type": "stream",
     "text": [
      "\n",
      "7.5\n",
      "O O O O O O O O O O O O O \n",
      "O O X O . . . . X . . . . \n",
      ". . . . . . . . . . . . . \n",
      ". . . . . . . X . . . . . \n",
      ". . . . . . . . . . . . . \n",
      ". . X . . . . . . X . X . \n",
      "X . . . . . . . . X X . . \n",
      ". . . . . . . . . . . . . \n",
      ". X . . . . . . . . . . X \n",
      ". . . . . . X . . . . . . \n",
      ". . . . . . X . . . . . . \n",
      ". . . X . . . . . . X . . \n",
      ". . X . . . . . . X O . . \n",
      "6.5\n"
     ]
    },
    {
     "data": {
      "application/vnd.jupyter.widget-view+json": {
       "model_id": "6491bb18579c4225b39008a8dc065f6d",
       "version_major": 2,
       "version_minor": 0
      },
      "text/plain": [
       "HBox(children=(IntProgress(value=0, max=134), HTML(value='')))"
      ]
     },
     "metadata": {},
     "output_type": "display_data"
    },
    {
     "name": "stdout",
     "output_type": "stream",
     "text": [
      "\n",
      "7.5\n",
      "O O O O O O O O O O O O O \n",
      "O O X O O . . . X . . . . \n",
      ". . . . . . . . . . . . . \n",
      ". . . . . . . X . . . . . \n",
      ". . . . . . . . . . . . . \n",
      ". . X . . . . . . X . X . \n",
      "X . . . . . . . . X X . . \n",
      ". . . . . . . . . . . . . \n",
      ". X . . . . . . . . . . X \n",
      ". . . . . . X . . . . . . \n",
      ". . . . . . X . . . . . . \n",
      ". . . X . . . . . . X . . \n",
      ". . X X . . . . . X O . . \n",
      "6.5\n"
     ]
    },
    {
     "data": {
      "application/vnd.jupyter.widget-view+json": {
       "model_id": "f20b4a1790df4419a19cab8780385f38",
       "version_major": 2,
       "version_minor": 0
      },
      "text/plain": [
       "HBox(children=(IntProgress(value=0, max=132), HTML(value='')))"
      ]
     },
     "metadata": {},
     "output_type": "display_data"
    },
    {
     "name": "stdout",
     "output_type": "stream",
     "text": [
      "\n",
      "7.5\n",
      "O O O O O O O O O O O O O \n",
      "O O X O O O . . X . . . . \n",
      ". . . . . . . . . . . . . \n",
      ". . . . . . . X . . . . . \n",
      ". . . . . . . . . . . . . \n",
      ". . X . . . . . X X . X . \n",
      "X . . . . . . . . X X . . \n",
      ". . . . . . . . . . . . . \n",
      ". X . . . . . . . . . . X \n",
      ". . . . . . X . . . . . . \n",
      ". . . . . . X . . . . . . \n",
      ". . . X . . . . . . X . . \n",
      ". . X X . . . . . X O . . \n",
      "6.5\n"
     ]
    },
    {
     "data": {
      "application/vnd.jupyter.widget-view+json": {
       "model_id": "2ce90ce1eb9944889d60313f264f1e8e",
       "version_major": 2,
       "version_minor": 0
      },
      "text/plain": [
       "HBox(children=(IntProgress(value=0, max=130), HTML(value='')))"
      ]
     },
     "metadata": {},
     "output_type": "display_data"
    },
    {
     "name": "stdout",
     "output_type": "stream",
     "text": [
      "\n",
      "7.5\n",
      "O O O O O O O O O O O O O \n",
      "O O X O O O O . X . . . . \n",
      ". . . . . . . . . . . . . \n",
      ". . . . . . . X X . . . . \n",
      ". . . . . . . . . . . . . \n",
      ". . X . . . . . X X . X . \n",
      "X . . . . . . . . X X . . \n",
      ". . . . . . . . . . . . . \n",
      ". X . . . . . . . . . . X \n",
      ". . . . . . X . . . . . . \n",
      ". . . . . . X . . . . . . \n",
      ". . . X . . . . . . X . . \n",
      ". . X X . . . . . X O . . \n",
      "6.5\n"
     ]
    },
    {
     "data": {
      "application/vnd.jupyter.widget-view+json": {
       "model_id": "1eb3b88365d44a39aae69d42a21222b1",
       "version_major": 2,
       "version_minor": 0
      },
      "text/plain": [
       "HBox(children=(IntProgress(value=0, max=128), HTML(value='')))"
      ]
     },
     "metadata": {},
     "output_type": "display_data"
    },
    {
     "name": "stdout",
     "output_type": "stream",
     "text": [
      "\n",
      "7.5\n",
      "O O O O O O O O O O O O O \n",
      "O O X O O O O O X . . . . \n",
      ". . . . . . . . . . . . . \n",
      ". . . . . . . X X . . . . \n",
      ". . . . . . . . . . . . . \n",
      ". . X . . . . . X X . X . \n",
      "X . . . . . . . . X X . . \n",
      ". . . . . . . . . . . . . \n",
      ". X . . . . . . . . . . X \n",
      ". . . . . . X . . . . X . \n",
      ". . . . . . X . . . . . . \n",
      ". . . X . . . . . . X . . \n",
      ". . X X . . . . . X O . . \n",
      "6.5\n"
     ]
    },
    {
     "data": {
      "application/vnd.jupyter.widget-view+json": {
       "model_id": "f52752d722a74e7ead9a2e9b054a7998",
       "version_major": 2,
       "version_minor": 0
      },
      "text/plain": [
       "HBox(children=(IntProgress(value=0, max=126), HTML(value='')))"
      ]
     },
     "metadata": {},
     "output_type": "display_data"
    },
    {
     "name": "stdout",
     "output_type": "stream",
     "text": [
      "\n",
      "7.5\n",
      "O O O O O O O O O O O O O \n",
      "O O X O O O O O X O . . . \n",
      ". . . . . . X . . . . . . \n",
      ". . . . . . . X X . . . . \n",
      ". . . . . . . . . . . . . \n",
      ". . X . . . . . X X . X . \n",
      "X . . . . . . . . X X . . \n",
      ". . . . . . . . . . . . . \n",
      ". X . . . . . . . . . . X \n",
      ". . . . . . X . . . . X . \n",
      ". . . . . . X . . . . . . \n",
      ". . . X . . . . . . X . . \n",
      ". . X X . . . . . X O . . \n",
      "6.5\n"
     ]
    },
    {
     "data": {
      "application/vnd.jupyter.widget-view+json": {
       "model_id": "da0726c6a83543c0b8c7e81557468945",
       "version_major": 2,
       "version_minor": 0
      },
      "text/plain": [
       "HBox(children=(IntProgress(value=0, max=124), HTML(value='')))"
      ]
     },
     "metadata": {},
     "output_type": "display_data"
    },
    {
     "name": "stdout",
     "output_type": "stream",
     "text": [
      "\n",
      "7.5\n",
      "O O O O O O O O O O O O O \n",
      "O O X O O O O O X O O . . \n",
      ". . . . . . X . . . . . . \n",
      ". . . . . . . X X . . . . \n",
      ". . . . . . . . . . . . . \n",
      ". . X . . . . . X X . X . \n",
      "X . . . . . . . X X X . . \n",
      ". . . . . . . . . . . . . \n",
      ". X . . . . . . . . . . X \n",
      ". . . . . . X . . . . X . \n",
      ". . . . . . X . . . . . . \n",
      ". . . X . . . . . . X . . \n",
      ". . X X . . . . . X O . . \n",
      "6.5\n"
     ]
    },
    {
     "data": {
      "application/vnd.jupyter.widget-view+json": {
       "model_id": "0b7979e3eadd45fea1616b1c1489b299",
       "version_major": 2,
       "version_minor": 0
      },
      "text/plain": [
       "HBox(children=(IntProgress(value=0, max=122), HTML(value='')))"
      ]
     },
     "metadata": {},
     "output_type": "display_data"
    },
    {
     "name": "stdout",
     "output_type": "stream",
     "text": [
      "\n",
      "7.5\n",
      "O O O O O O O O O O O O O \n",
      "O O X O O O O O X O O O . \n",
      ". . . . . . X . . . . . . \n",
      ". . . . . . . X X . . . . \n",
      ". . . . . . . . . . . . . \n",
      ". . X . . . . . X X . X . \n",
      "X . . . . . . . X X X . . \n",
      ". . . . . . . . . X . . . \n",
      ". X . . . . . . . . . . X \n",
      ". . . . . . X . . . . X . \n",
      ". . . . . . X . . . . . . \n",
      ". . . X . . . . . . X . . \n",
      ". . X X . . . . . X O . . \n",
      "6.5\n"
     ]
    },
    {
     "data": {
      "application/vnd.jupyter.widget-view+json": {
       "model_id": "eb1f8057d1284ad9857abcdbc33dd559",
       "version_major": 2,
       "version_minor": 0
      },
      "text/plain": [
       "HBox(children=(IntProgress(value=0, max=120), HTML(value='')))"
      ]
     },
     "metadata": {},
     "output_type": "display_data"
    },
    {
     "name": "stdout",
     "output_type": "stream",
     "text": [
      "\n",
      "7.5\n",
      "O O O O O O O O O O O O O \n",
      "O O X O O O O O X O O O O \n",
      ". . . . . . X . . . . . . \n",
      ". . . . . . . X X . . . . \n",
      ". . . . . . . . . . . . . \n",
      ". . X . . . . . X X . X . \n",
      "X . . . . . . . X X X . . \n",
      ". . . . . . . X . X . . . \n",
      ". X . . . . . . . . . . X \n",
      ". . . . . . X . . . . X . \n",
      ". . . . . . X . . . . . . \n",
      ". . . X . . . . . . X . . \n",
      ". . X X . . . . . X O . . \n",
      "6.5\n"
     ]
    },
    {
     "data": {
      "application/vnd.jupyter.widget-view+json": {
       "model_id": "b84cb0e000454dbeb931f936e14add85",
       "version_major": 2,
       "version_minor": 0
      },
      "text/plain": [
       "HBox(children=(IntProgress(value=0, max=118), HTML(value='')))"
      ]
     },
     "metadata": {},
     "output_type": "display_data"
    },
    {
     "name": "stdout",
     "output_type": "stream",
     "text": [
      "\n",
      "7.5\n",
      "O O O O O O O O O O O O O \n",
      "O O X O O O O O X O O O O \n",
      "O . . . . . X . . . . . . \n",
      ". . . . . . . X X . . . . \n",
      ". . . . . . . . . . . . . \n",
      ". . X . . . . . X X . X . \n",
      "X . . . . . . . X X X . . \n",
      ". . X . . . . X . X . . . \n",
      ". X . . . . . . . . . . X \n",
      ". . . . . . X . . . . X . \n",
      ". . . . . . X . . . . . . \n",
      ". . . X . . . . . . X . . \n",
      ". . X X . . . . . X O . . \n",
      "6.5\n"
     ]
    },
    {
     "data": {
      "application/vnd.jupyter.widget-view+json": {
       "model_id": "8d54207c037f4001b63ac3e9161a67cb",
       "version_major": 2,
       "version_minor": 0
      },
      "text/plain": [
       "HBox(children=(IntProgress(value=0, max=116), HTML(value='')))"
      ]
     },
     "metadata": {},
     "output_type": "display_data"
    },
    {
     "name": "stdout",
     "output_type": "stream",
     "text": [
      "\n",
      "7.5\n",
      "O O O O O O O O O O O O O \n",
      "O O X O O O O O X O O O O \n",
      "O . . . . . X . . . . . . \n",
      ". . . . . . . X X . . . . \n",
      ". . . . . . . . . . . . . \n",
      ". . X . . . . . X X . X . \n",
      "X . . . . . . . X X X . . \n",
      ". . X . . . . X . X . . . \n",
      ". X . . . . . . . . . . X \n",
      ". . . . . . X . . . . X . \n",
      ". . . . . . X . . . . . . \n",
      ". . . X . . . . . . X . X \n",
      ". . X X . . . . . X O . O \n",
      "5.5\n"
     ]
    },
    {
     "data": {
      "application/vnd.jupyter.widget-view+json": {
       "model_id": "ff25fda1117e4d4f946066519b9c31c3",
       "version_major": 2,
       "version_minor": 0
      },
      "text/plain": [
       "HBox(children=(IntProgress(value=0, max=113), HTML(value='')))"
      ]
     },
     "metadata": {},
     "output_type": "display_data"
    },
    {
     "name": "stdout",
     "output_type": "stream",
     "text": [
      "\n",
      "6.5\n",
      "O O O O O O O O O O O O O \n",
      "O O X O O O O O X O O O O \n",
      "O O . . . . X . . . . . . \n",
      ". . . . . . . X X . . . . \n",
      ". . . . . . . . . . . . . \n",
      ". . X . . . . . X X . X . \n",
      "X . . . . . . . X X X . . \n",
      ". . X . . . . X . X . . . \n",
      ". X . . . . . . X . . . X \n",
      ". . . . . . X . . . . X . \n",
      ". . . . . . X . . . . . . \n",
      ". . . X . . . . . . X . X \n",
      ". . X X . . . . . X O . O \n",
      "5.5\n"
     ]
    },
    {
     "data": {
      "application/vnd.jupyter.widget-view+json": {
       "model_id": "fbe2210906cc4c3d9311ff772f1c7e03",
       "version_major": 2,
       "version_minor": 0
      },
      "text/plain": [
       "HBox(children=(IntProgress(value=0, max=111), HTML(value='')))"
      ]
     },
     "metadata": {},
     "output_type": "display_data"
    },
    {
     "name": "stdout",
     "output_type": "stream",
     "text": [
      "\n",
      "6.5\n",
      "O O O O O O O O O O O O O \n",
      "O O X O O O O O X O O O O \n",
      "O O . O . . X . . . . . . \n",
      ". . . . . . . X X . . . . \n",
      ". . . . . . . . . . . . . \n",
      ". . X . . . . . X X . X . \n",
      "X . . . . . . . X X X . . \n",
      ". . X . . X . X . X . . . \n",
      ". X . . . . . . X . . . X \n",
      ". . . . . . X . . . . X . \n",
      ". . . . . . X . . . . . . \n",
      ". . . X . . . . . . X . X \n",
      ". . X X . . . . . X O . O \n",
      "5.5\n"
     ]
    },
    {
     "data": {
      "application/vnd.jupyter.widget-view+json": {
       "model_id": "21d8aa8a9ee847dd9129116a87983ac2",
       "version_major": 2,
       "version_minor": 0
      },
      "text/plain": [
       "HBox(children=(IntProgress(value=0, max=109), HTML(value='')))"
      ]
     },
     "metadata": {},
     "output_type": "display_data"
    },
    {
     "name": "stdout",
     "output_type": "stream",
     "text": [
      "\n",
      "6.5\n",
      "O O O O O O O O O O O O O \n",
      "O O X O O O O O X O O O O \n",
      "O O . O O . X . . . . . . \n",
      ". . . . . . . X X . . . . \n",
      ". . . . . . . . . . . . X \n",
      ". . X . . . . . X X . X . \n",
      "X . . . . . . . X X X . . \n",
      ". . X . . X . X . X . . . \n",
      ". X . . . . . . X . . . X \n",
      ". . . . . . X . . . . X . \n",
      ". . . . . . X . . . . . . \n",
      ". . . X . . . . . . X . X \n",
      ". . X X . . . . . X O . O \n",
      "5.5\n"
     ]
    },
    {
     "data": {
      "application/vnd.jupyter.widget-view+json": {
       "model_id": "d74db73a0243403183557db721294c4f",
       "version_major": 2,
       "version_minor": 0
      },
      "text/plain": [
       "HBox(children=(IntProgress(value=0, max=107), HTML(value='')))"
      ]
     },
     "metadata": {},
     "output_type": "display_data"
    },
    {
     "name": "stdout",
     "output_type": "stream",
     "text": [
      "\n",
      "6.5\n",
      "O O O O O O O O O O O O O \n",
      "O O X O O O O O X O O O O \n",
      "O O . O O O X . . . . . . \n",
      ". . . . . . . X X . . . . \n",
      ". . . . . . . . . . . . X \n",
      ". . X . . . . . X X . X . \n",
      "X . . . . . . . X X X . . \n",
      ". . X . . X . X . X . . . \n",
      ". X . . . . . . X . . . X \n",
      ". . . . . . X . . . X X . \n",
      ". . . . . . X . . . . . . \n",
      ". . . X . . . . . . X . X \n",
      ". . X X . . . . . X O . O \n",
      "5.5\n"
     ]
    },
    {
     "data": {
      "application/vnd.jupyter.widget-view+json": {
       "model_id": "9def18cb471d4b2fb7fbc2129a4f4b0b",
       "version_major": 2,
       "version_minor": 0
      },
      "text/plain": [
       "HBox(children=(IntProgress(value=0, max=105), HTML(value='')))"
      ]
     },
     "metadata": {},
     "output_type": "display_data"
    },
    {
     "name": "stdout",
     "output_type": "stream",
     "text": [
      "\n",
      "6.5\n",
      "O O O O O O O O O O O O O \n",
      "O O X O O O O O X O O O O \n",
      "O O . O O O X O . . . . . \n",
      ". . . . . . . X X . . . . \n",
      ". . . . . . . . . . . . X \n",
      ". . X . . . . . X X . X . \n",
      "X . . . . . . . X X X . . \n",
      ". . X . . X . X . X . . . \n",
      ". X . . . . . . X . . . X \n",
      ". . . . . . X . . . X X . \n",
      ". . . . . X X . . . . . . \n",
      ". . . X . . . . . . X . X \n",
      ". . X X . . . . . X O . O \n",
      "5.5\n"
     ]
    },
    {
     "data": {
      "application/vnd.jupyter.widget-view+json": {
       "model_id": "2d69569c6c0a4368a42abe3dae1516d5",
       "version_major": 2,
       "version_minor": 0
      },
      "text/plain": [
       "HBox(children=(IntProgress(value=0, max=103), HTML(value='')))"
      ]
     },
     "metadata": {},
     "output_type": "display_data"
    },
    {
     "name": "stdout",
     "output_type": "stream",
     "text": [
      "\n",
      "6.5\n",
      "O O O O O O O O O O O O O \n",
      "O O X O O O O O X O O O O \n",
      "O O . O O O X O . O . . . \n",
      ". . . . . . . X X . . . . \n",
      ". . . . . . . . . . . . X \n",
      ". . X . . . . . X X . X . \n",
      "X . . . . . . . X X X X . \n",
      ". . X . . X . X . X . . . \n",
      ". X . . . . . . X . . . X \n",
      ". . . . . . X . . . X X . \n",
      ". . . . . X X . . . . . . \n",
      ". . . X . . . . . . X . X \n",
      ". . X X . . . . . X O . O \n",
      "5.5\n"
     ]
    },
    {
     "data": {
      "application/vnd.jupyter.widget-view+json": {
       "model_id": "a8fbfb58d57d4c7cbde4c9cb7526ed51",
       "version_major": 2,
       "version_minor": 0
      },
      "text/plain": [
       "HBox(children=(IntProgress(value=0, max=101), HTML(value='')))"
      ]
     },
     "metadata": {},
     "output_type": "display_data"
    },
    {
     "name": "stdout",
     "output_type": "stream",
     "text": [
      "\n",
      "6.5\n",
      "O O O O O O O O O O O O O \n",
      "O O X O O O O O X O O O O \n",
      "O O . O O O X O . O O . . \n",
      ". . . . . . . X X . . . . \n",
      ". . . . . . . . . . . . X \n",
      ". . X . . . . . X X . X . \n",
      "X . . . . . . . X X X X . \n",
      ". . X . . X . X . X . . . \n",
      ". X . . . . . X X . . . X \n",
      ". . . . . . X . . . X X . \n",
      ". . . . . X X . . . . . . \n",
      ". . . X . . . . . . X . X \n",
      ". . X X . . . . . X O . O \n",
      "5.5\n"
     ]
    },
    {
     "data": {
      "application/vnd.jupyter.widget-view+json": {
       "model_id": "89803ec6905949a9b2bf7122248eba1d",
       "version_major": 2,
       "version_minor": 0
      },
      "text/plain": [
       "HBox(children=(IntProgress(value=0, max=99), HTML(value='')))"
      ]
     },
     "metadata": {},
     "output_type": "display_data"
    },
    {
     "name": "stdout",
     "output_type": "stream",
     "text": [
      "\n",
      "6.5\n",
      "O O O O O O O O O O O O O \n",
      "O O X O O O O O X O O O O \n",
      "O O . O O O X O . O O O . \n",
      ". . . . . . . X X . . . . \n",
      ". . . . . . . . . . . . X \n",
      ". . X X . . . . X X . X . \n",
      "X . . . . . . . X X X X . \n",
      ". . X . . X . X . X . . . \n",
      ". X . . . . . X X . . . X \n",
      ". . . . . . X . . . X X . \n",
      ". . . . . X X . . . . . . \n",
      ". . . X . . . . . . X . X \n",
      ". . X X . . . . . X O . O \n",
      "5.5\n"
     ]
    },
    {
     "data": {
      "application/vnd.jupyter.widget-view+json": {
       "model_id": "11051b7e914c48a7b7083398bd55bc62",
       "version_major": 2,
       "version_minor": 0
      },
      "text/plain": [
       "HBox(children=(IntProgress(value=0, max=97), HTML(value='')))"
      ]
     },
     "metadata": {},
     "output_type": "display_data"
    },
    {
     "name": "stdout",
     "output_type": "stream",
     "text": [
      "\n",
      "6.5\n",
      "O O O O O O O O O O O O O \n",
      "O O X O O O O O X O O O O \n",
      "O O . O O O X O . O O O O \n",
      ". . . . . . X X X . . . . \n",
      ". . . . . . . . . . . . X \n",
      ". . X X . . . . X X . X . \n",
      "X . . . . . . . X X X X . \n",
      ". . X . . X . X . X . . . \n",
      ". X . . . . . X X . . . X \n",
      ". . . . . . X . . . X X . \n",
      ". . . . . X X . . . . . . \n",
      ". . . X . . . . . . X . X \n",
      ". . X X . . . . . X O . O \n",
      "5.5\n"
     ]
    },
    {
     "data": {
      "application/vnd.jupyter.widget-view+json": {
       "model_id": "c4c0ce0a199d4cfeada76cc207b9058f",
       "version_major": 2,
       "version_minor": 0
      },
      "text/plain": [
       "HBox(children=(IntProgress(value=0, max=95), HTML(value='')))"
      ]
     },
     "metadata": {},
     "output_type": "display_data"
    },
    {
     "name": "stdout",
     "output_type": "stream",
     "text": [
      "\n",
      "6.5\n",
      "O O O O O O O O O O O O O \n",
      "O O X O O O O O X O O O O \n",
      "O O . O O O X O . O O O O \n",
      "O . . . . . X X X . . . . \n",
      ". . . . . . . . . . . . X \n",
      ". . X X . . . . X X . X . \n",
      "X . . . . . . . X X X X . \n",
      ". . X . . X . X . X . . . \n",
      ". X . . . . . X X X . . X \n",
      ". . . . . . X . . . X X . \n",
      ". . . . . X X . . . . . . \n",
      ". . . X . . . . . . X . X \n",
      ". . X X . . . . . X O . O \n",
      "5.5\n"
     ]
    },
    {
     "data": {
      "application/vnd.jupyter.widget-view+json": {
       "model_id": "da1ac7231e7d44a088fbf7c6dd436863",
       "version_major": 2,
       "version_minor": 0
      },
      "text/plain": [
       "HBox(children=(IntProgress(value=0, max=93), HTML(value='')))"
      ]
     },
     "metadata": {},
     "output_type": "display_data"
    },
    {
     "name": "stdout",
     "output_type": "stream",
     "text": [
      "\n",
      "6.5\n",
      "O O O O O O O O O O O O O \n",
      "O O X O O O O O X O O O O \n",
      "O O . O O O X O . O O O O \n",
      "O O . . . . X X X . . . . \n",
      ". . . . . . . . . . . . X \n",
      ". . X X . . . . X X . X . \n",
      "X . . . . . . . X X X X . \n",
      ". . X . . X . X . X . . . \n",
      ". X . . . . . X X X . . X \n",
      ". . . . . . X . . . X X . \n",
      ". . . . . X X . . . . . . \n",
      ". . . X . . . . . . X . X \n",
      ". . X X . . . . X X O . O \n",
      "5.5\n"
     ]
    },
    {
     "data": {
      "application/vnd.jupyter.widget-view+json": {
       "model_id": "3d8f2861e3e74064ab1e3d3fc55f16b9",
       "version_major": 2,
       "version_minor": 0
      },
      "text/plain": [
       "HBox(children=(IntProgress(value=0, max=91), HTML(value='')))"
      ]
     },
     "metadata": {},
     "output_type": "display_data"
    },
    {
     "name": "stdout",
     "output_type": "stream",
     "text": [
      "\n",
      "6.5\n",
      "O O O O O O O O O O O O O \n",
      "O O X O O O O O X O O O O \n",
      "O O . O O O X O . O O O O \n",
      "O O O . . . X X X . . . . \n",
      ". . . . . . . . . . . . X \n",
      "X . X X . . . . X X . X . \n",
      "X . . . . . . . X X X X . \n",
      ". . X . . X . X . X . . . \n",
      ". X . . . . . X X X . . X \n",
      ". . . . . . X . . . X X . \n",
      ". . . . . X X . . . . . . \n",
      ". . . X . . . . . . X . X \n",
      ". . X X . . . . X X O . O \n",
      "5.5\n"
     ]
    },
    {
     "data": {
      "application/vnd.jupyter.widget-view+json": {
       "model_id": "914a40a76c0f4adca691cbeab7527ff4",
       "version_major": 2,
       "version_minor": 0
      },
      "text/plain": [
       "HBox(children=(IntProgress(value=0, max=89), HTML(value='')))"
      ]
     },
     "metadata": {},
     "output_type": "display_data"
    },
    {
     "name": "stdout",
     "output_type": "stream",
     "text": [
      "\n",
      "6.5\n",
      "O O O O O O O O O O O O O \n",
      "O O X O O O O O X O O O O \n",
      "O O . O O O X O . O O O O \n",
      "O O O O . . X X X X . . . \n",
      ". . . . . . . . . . . . X \n",
      "X . X X . . . . X X . X . \n",
      "X . . . . . . . X X X X . \n",
      ". . X . . X . X . X . . . \n",
      ". X . . . . . X X X . . X \n",
      ". . . . . . X . . . X X . \n",
      ". . . . . X X . . . . . . \n",
      ". . . X . . . . . . X . X \n",
      ". . X X . . . . X X O . O \n",
      "5.5\n"
     ]
    },
    {
     "data": {
      "application/vnd.jupyter.widget-view+json": {
       "model_id": "0c5d046a71d64b429c155f8027f13aac",
       "version_major": 2,
       "version_minor": 0
      },
      "text/plain": [
       "HBox(children=(IntProgress(value=0, max=87), HTML(value='')))"
      ]
     },
     "metadata": {},
     "output_type": "display_data"
    },
    {
     "name": "stdout",
     "output_type": "stream",
     "text": [
      "\n",
      "6.5\n",
      "O O O O O O O O O O O O O \n",
      "O O X O O O O O X O O O O \n",
      "O O . O O O X O . O O O O \n",
      "O O O O O . X X X X . . . \n",
      ". . . . . . . . . . . . X \n",
      "X . X X . . . . X X . X . \n",
      "X . . . . . . . X X X X . \n",
      "X . X . . X . X . X . . . \n",
      ". X . . . . . X X X . . X \n",
      ". . . . . . X . . . X X . \n",
      ". . . . . X X . . . . . . \n",
      ". . . X . . . . . . X . X \n",
      ". . X X . . . . X X O . O \n",
      "5.5\n"
     ]
    },
    {
     "data": {
      "application/vnd.jupyter.widget-view+json": {
       "model_id": "ac6a80a1451e45328a56eb69f1525b4c",
       "version_major": 2,
       "version_minor": 0
      },
      "text/plain": [
       "HBox(children=(IntProgress(value=0, max=85), HTML(value='')))"
      ]
     },
     "metadata": {},
     "output_type": "display_data"
    },
    {
     "name": "stdout",
     "output_type": "stream",
     "text": [
      "\n",
      "6.5\n",
      "O O O O O O O O O O O O O \n",
      "O O X O O O O O X O O O O \n",
      "O O . O O O X O . O O O O \n",
      "O O O O O . X X X X . . . \n",
      ". . . . . . . . . . . . X \n",
      "X . X X . . . . X X . X . \n",
      "X . . . . . . . X X X X . \n",
      "X . X . . X . X . X . . . \n",
      ". X . . . . . X X X . . X \n",
      ". . . . . . X . . . X X . \n",
      ". . . . . X X . . . . X . \n",
      ". . . X . . . . . . X O X \n",
      ". . X X . . . . X X O . O \n",
      "5.5\n"
     ]
    },
    {
     "data": {
      "application/vnd.jupyter.widget-view+json": {
       "model_id": "57e3ab8f1cbd4d408db4dbe5b80e9760",
       "version_major": 2,
       "version_minor": 0
      },
      "text/plain": [
       "HBox(children=(IntProgress(value=0, max=82), HTML(value='')))"
      ]
     },
     "metadata": {},
     "output_type": "display_data"
    },
    {
     "name": "stdout",
     "output_type": "stream",
     "text": [
      "\n",
      "6.5\n",
      "O O O O O O O O O O O O O \n",
      "O O X O O O O O X O O O O \n",
      "O O . O O O X O . O O O O \n",
      "O O O O O O X X X X . . . \n",
      ". . . . . . . . . . . . X \n",
      "X . X X . . . . X X . X . \n",
      "X . . . . . . . X X X X . \n",
      "X . X . . X . X . X . . . \n",
      ". X . . . . . X X X . . X \n",
      ". . . . . . X . . . X X . \n",
      ". . . . . X X . X . . X . \n",
      ". . . X . . . . . . X O X \n",
      ". . X X . . . . X X O . O \n",
      "5.5\n"
     ]
    },
    {
     "data": {
      "application/vnd.jupyter.widget-view+json": {
       "model_id": "15d8eda5d07842b985aea761c454aa4f",
       "version_major": 2,
       "version_minor": 0
      },
      "text/plain": [
       "HBox(children=(IntProgress(value=0, max=80), HTML(value='')))"
      ]
     },
     "metadata": {},
     "output_type": "display_data"
    },
    {
     "name": "stdout",
     "output_type": "stream",
     "text": [
      "\n",
      "6.5\n",
      "O O O O O O O O O O O O O \n",
      "O O X O O O O O X O O O O \n",
      "O O . O O O X O X O O O O \n",
      "O O O O O O X X X X O . . \n",
      ". . . . . . . . . . . . X \n",
      "X . X X . . . . X X . X . \n",
      "X . . . . . . . X X X X . \n",
      "X . X . . X . X . X . . . \n",
      ". X . . . . . X X X . . X \n",
      ". . . . . . X . . . X X . \n",
      ". . . . . X X . X . . X . \n",
      ". . . X . . . . . . X O X \n",
      ". . X X . . . . X X O . O \n",
      "5.5\n"
     ]
    },
    {
     "data": {
      "application/vnd.jupyter.widget-view+json": {
       "model_id": "228677ff7ed84787be42ef817dc87432",
       "version_major": 2,
       "version_minor": 0
      },
      "text/plain": [
       "HBox(children=(IntProgress(value=0, max=78), HTML(value='')))"
      ]
     },
     "metadata": {},
     "output_type": "display_data"
    },
    {
     "name": "stdout",
     "output_type": "stream",
     "text": [
      "\n",
      "6.5\n",
      "O O O O O O O O O O O O O \n",
      "O O X O O O O O X O O O O \n",
      "O O . O O O X O X O O O O \n",
      "O O O O O O X X X X O O . \n",
      ". . . . . . . . . . . . X \n",
      "X . X X . . . . X X . X . \n",
      "X . . . . . . . X X X X . \n",
      "X . X . . X . X . X . . . \n",
      ". X . . . . . X X X . . X \n",
      ". . . . . . X . . . X X . \n",
      ". . . . . X X . X . . X . \n",
      ". . . X . . . . . . X O X \n",
      "X . X X . . . . X X O . O \n",
      "5.5\n"
     ]
    },
    {
     "data": {
      "application/vnd.jupyter.widget-view+json": {
       "model_id": "25efbbc7138c47208ee1f1b9112d51b3",
       "version_major": 2,
       "version_minor": 0
      },
      "text/plain": [
       "HBox(children=(IntProgress(value=0, max=76), HTML(value='')))"
      ]
     },
     "metadata": {},
     "output_type": "display_data"
    },
    {
     "name": "stdout",
     "output_type": "stream",
     "text": [
      "\n",
      "6.5\n",
      "O O O O O O O O O O O O O \n",
      "O O X O O O O O X O O O O \n",
      "O O . O O O X O X O O O O \n",
      "O O O O O O X X X X O O O \n",
      ". . . . . . . . . . . . X \n",
      "X . X X . . . . X X . X . \n",
      "X . . . . . . . X X X X . \n",
      "X . X . . X . X . X . . . \n",
      ". X . . . . . X X X . . X \n",
      ". . . . . . X . . . X X . \n",
      ". . . . . X X . X . . X . \n",
      ". . . X . . . . . . X O X \n",
      "X . X X . . X . X X O . O \n",
      "5.5\n"
     ]
    },
    {
     "data": {
      "application/vnd.jupyter.widget-view+json": {
       "model_id": "c6a256c73b4d461989f212836a7b6b40",
       "version_major": 2,
       "version_minor": 0
      },
      "text/plain": [
       "HBox(children=(IntProgress(value=0, max=74), HTML(value='')))"
      ]
     },
     "metadata": {},
     "output_type": "display_data"
    },
    {
     "name": "stdout",
     "output_type": "stream",
     "text": [
      "\n",
      "6.5\n",
      "O O O O O O O O O O O O O \n",
      "O O X O O O O O X O O O O \n",
      "O O . O O O X O X O O O O \n",
      "O O O O O O X X X X O O O \n",
      "O . . . . . . . . . . . X \n",
      "X . X X . . . . X X . X . \n",
      "X . . . . . . . X X X X . \n",
      "X . X . . X . X . X . . . \n",
      ". X . . . . . X X X . . X \n",
      ". . . . . . X . . . X X . \n",
      ". . . . . X X . X . . X . \n",
      ". . . X . . . . . . X O X \n",
      "X . X X X . X . X X O . O \n",
      "5.5\n"
     ]
    },
    {
     "data": {
      "application/vnd.jupyter.widget-view+json": {
       "model_id": "1dff0dd47fe841b89930d7badb1dd7ab",
       "version_major": 2,
       "version_minor": 0
      },
      "text/plain": [
       "HBox(children=(IntProgress(value=0, max=72), HTML(value='')))"
      ]
     },
     "metadata": {},
     "output_type": "display_data"
    },
    {
     "name": "stdout",
     "output_type": "stream",
     "text": [
      "\n",
      "6.5\n",
      "O O O O O O O O O O O O O \n",
      "O O X O O O O O X O O O O \n",
      "O O . O O O X O X O O O O \n",
      "O O O O O O X X X X O O O \n",
      "O O . . . . . . . . . . X \n",
      "X . X X . . . . X X . X . \n",
      "X . . . . . . . X X X X . \n",
      "X . X . . X . X . X . . . \n",
      ". X . . . . . X X X . . X \n",
      ". . . X . . X . . . X X . \n",
      ". . . . . X X . X . . X . \n",
      ". . . X . . . . . . X O X \n",
      "X . X X X . X . X X O . O \n",
      "5.5\n"
     ]
    },
    {
     "data": {
      "application/vnd.jupyter.widget-view+json": {
       "model_id": "62e71848a9104e8e907f30ae6e15eb92",
       "version_major": 2,
       "version_minor": 0
      },
      "text/plain": [
       "HBox(children=(IntProgress(value=0, max=70), HTML(value='')))"
      ]
     },
     "metadata": {},
     "output_type": "display_data"
    },
    {
     "name": "stdout",
     "output_type": "stream",
     "text": [
      "\n",
      "6.5\n",
      "O O O O O O O O O O O O O \n",
      "O O X O O O O O X O O O O \n",
      "O O . O O O X O X O O O O \n",
      "O O O O O O X X X X O O O \n",
      "O O O . . . . . . . . . X \n",
      "X . X X . . . . X X . X . \n",
      "X . . . . . . . X X X X . \n",
      "X . X . . X . X . X . . . \n",
      ". X . . . . . X X X . . X \n",
      ". . . X . . X . . . X X . \n",
      ". . . . . X X . X . . X . \n",
      ". . . X X . . . . . X O X \n",
      "X . X X X . X . X X O . O \n",
      "5.5\n"
     ]
    },
    {
     "data": {
      "application/vnd.jupyter.widget-view+json": {
       "model_id": "f1fc69ab92bd463680e9a738235b1ba4",
       "version_major": 2,
       "version_minor": 0
      },
      "text/plain": [
       "HBox(children=(IntProgress(value=0, max=68), HTML(value='')))"
      ]
     },
     "metadata": {},
     "output_type": "display_data"
    },
    {
     "name": "stdout",
     "output_type": "stream",
     "text": [
      "\n",
      "6.5\n",
      "O O O O O O O O O O O O O \n",
      "O O X O O O O O X O O O O \n",
      "O O . O O O X O X O O O O \n",
      "O O O O O O X X X X O O O \n",
      "O O O O . . . . . . . . X \n",
      "X . X X . . . . X X . X . \n",
      "X . . . . . . . X X X X . \n",
      "X . X . . X . X . X . . . \n",
      "X X . . . . . X X X . . X \n",
      ". . . X . . X . . . X X . \n",
      ". . . . . X X . X . . X . \n",
      ". . . X X . . . . . X O X \n",
      "X . X X X . X . X X O . O \n",
      "5.5\n"
     ]
    },
    {
     "data": {
      "application/vnd.jupyter.widget-view+json": {
       "model_id": "18192056db6c44d288a74b1694b0f8b4",
       "version_major": 2,
       "version_minor": 0
      },
      "text/plain": [
       "HBox(children=(IntProgress(value=0, max=66), HTML(value='')))"
      ]
     },
     "metadata": {},
     "output_type": "display_data"
    },
    {
     "name": "stdout",
     "output_type": "stream",
     "text": [
      "\n",
      "6.5\n",
      "O O O O O O O O O O O O O \n",
      "O O X O O O O O X O O O O \n",
      "O O . O O O X O X O O O O \n",
      "O O O O O O X X X X O O O \n",
      "O O O O O . . . . . . . X \n",
      "X . X X . . . . X X . X . \n",
      "X . . . . . . . X X X X . \n",
      "X . X . . X . X . X . . . \n",
      "X X . . . . . X X X . . X \n",
      ". . . X . . X . . . X X . \n",
      ". . X . . X X . X . . X . \n",
      ". . . X X . . . . . X O X \n",
      "X . X X X . X . X X O . O \n",
      "5.5\n"
     ]
    },
    {
     "data": {
      "application/vnd.jupyter.widget-view+json": {
       "model_id": "71fc63243f984e17b2ac81149f9fac15",
       "version_major": 2,
       "version_minor": 0
      },
      "text/plain": [
       "HBox(children=(IntProgress(value=0, max=64), HTML(value='')))"
      ]
     },
     "metadata": {},
     "output_type": "display_data"
    },
    {
     "name": "stdout",
     "output_type": "stream",
     "text": [
      "\n",
      "6.5\n",
      "O O O O O O O O O O O O O \n",
      "O O X O O O O O X O O O O \n",
      "O O . O O O X O X O O O O \n",
      "O O O O O O X X X X O O O \n",
      "O O O O O O . . . . . . X \n",
      "X . X X . . . . X X . X . \n",
      "X . . . . . . . X X X X . \n",
      "X . X . . X . X . X . . . \n",
      "X X . . . . . X X X . . X \n",
      ". . . X . . X . . . X X . \n",
      ". . X . . X X . X . . X . \n",
      ". . . X X . . . . X X O X \n",
      "X . X X X . X . X X O . O \n",
      "5.5\n"
     ]
    },
    {
     "data": {
      "application/vnd.jupyter.widget-view+json": {
       "model_id": "fa6c669906b143d5b987855a3cf1817d",
       "version_major": 2,
       "version_minor": 0
      },
      "text/plain": [
       "HBox(children=(IntProgress(value=0, max=62), HTML(value='')))"
      ]
     },
     "metadata": {},
     "output_type": "display_data"
    },
    {
     "name": "stdout",
     "output_type": "stream",
     "text": [
      "\n",
      "6.5\n",
      "O O O O O O O O O O O O O \n",
      "O O X O O O O O X O O O O \n",
      "O O . O O O X O X O O O O \n",
      "O O O O O O X X X X O O O \n",
      "O O O O O O O . . . . . X \n",
      "X . X X . . . . X X . X . \n",
      "X . . . . . . . X X X X . \n",
      "X . X . . X . X . X . . . \n",
      "X X . . . . . X X X . . X \n",
      ". . . X . . X . . . X X . \n",
      ". . X . . X X . X . . X . \n",
      ". . . X X . X . . X X O X \n",
      "X . X X X . X . X X O . O \n",
      "6.5\n"
     ]
    },
    {
     "data": {
      "application/vnd.jupyter.widget-view+json": {
       "model_id": "7bf5c2957ed741c8842367d19b231209",
       "version_major": 2,
       "version_minor": 0
      },
      "text/plain": [
       "HBox(children=(IntProgress(value=0, max=61), HTML(value='')))"
      ]
     },
     "metadata": {},
     "output_type": "display_data"
    },
    {
     "name": "stdout",
     "output_type": "stream",
     "text": [
      "\n",
      "7.5\n",
      "O O O O O O O O O O O O O \n",
      "O O X O O O O O X O O O O \n",
      "O O . O O O X O X O O O O \n",
      "O O O O O O X X X X O O O \n",
      "O O O O O O O O . . . . X \n",
      "X . X X . . . . X X . X . \n",
      "X . . . . . . . X X X X . \n",
      "X . X . . X . X X X . . . \n",
      "X X . . . . . X X X . . X \n",
      ". . . X . . X . . . X X . \n",
      ". . X . . X X . X . . X . \n",
      ". . . X X . X . . X X O X \n",
      "X . X X X . X . X X O . O \n",
      "6.5\n"
     ]
    },
    {
     "data": {
      "application/vnd.jupyter.widget-view+json": {
       "model_id": "6f0001f5bc6741998fa16ccf52ea27ef",
       "version_major": 2,
       "version_minor": 0
      },
      "text/plain": [
       "HBox(children=(IntProgress(value=0, max=59), HTML(value='')))"
      ]
     },
     "metadata": {},
     "output_type": "display_data"
    },
    {
     "name": "stdout",
     "output_type": "stream",
     "text": [
      "\n",
      "7.5\n",
      "O O O O O O O O O O O O O \n",
      "O O X O O O O O X O O O O \n",
      "O O . O O O X O X O O O O \n",
      "O O O O O O X X X X O O O \n",
      "O O O O O O O O O . . . X \n",
      "X . X X . . . . X X . X . \n",
      "X . . . X . . . X X X X . \n",
      "X . X . . X . X X X . . . \n",
      "X X . . . . . X X X . . X \n",
      ". . . X . . X . . . X X . \n",
      ". . X . . X X . X . . X . \n",
      ". . . X X . X . . X X O X \n",
      "X . X X X . X . X X O . O \n",
      "6.5\n"
     ]
    },
    {
     "data": {
      "application/vnd.jupyter.widget-view+json": {
       "model_id": "66d08043a78146f49885844c003120d3",
       "version_major": 2,
       "version_minor": 0
      },
      "text/plain": [
       "HBox(children=(IntProgress(value=0, max=57), HTML(value='')))"
      ]
     },
     "metadata": {},
     "output_type": "display_data"
    },
    {
     "name": "stdout",
     "output_type": "stream",
     "text": [
      "\n",
      "7.5\n",
      "O O O O O O O O O O O O O \n",
      "O O X O O O O O X O O O O \n",
      "O O . O O O X O X O O O O \n",
      "O O O O O O X X X X O O O \n",
      "O O O O O O O O O . O . X \n",
      "X . X X . . . . X X . X . \n",
      "X . . . X . . . X X X X . \n",
      "X . X . . X . X X X . . . \n",
      "X X . . . . . X X X . . X \n",
      ". . X X . . X . . . X X . \n",
      ". . X . . X X . X . . X . \n",
      ". . . X X . X . . X X O X \n",
      "X . X X X . X . X X O . O \n",
      "6.5\n"
     ]
    },
    {
     "data": {
      "application/vnd.jupyter.widget-view+json": {
       "model_id": "90c381906a5841e3b6b56b556cf057e1",
       "version_major": 2,
       "version_minor": 0
      },
      "text/plain": [
       "HBox(children=(IntProgress(value=0, max=55), HTML(value='')))"
      ]
     },
     "metadata": {},
     "output_type": "display_data"
    },
    {
     "name": "stdout",
     "output_type": "stream",
     "text": [
      "\n",
      "7.5\n",
      "O O O O O O O O O O O O O \n",
      "O O X O O O O O X O O O O \n",
      "O O . O O O X O X O O O O \n",
      "O O O O O O X X X X O O O \n",
      "O O O O O O O O O . O X X \n",
      "X O X X . . . . X X . X . \n",
      "X . . . X . . . X X X X . \n",
      "X . X . . X . X X X . . . \n",
      "X X . . . . . X X X . . X \n",
      ". . X X . . X . . . X X . \n",
      ". . X . . X X . X . . X . \n",
      ". . . X X . X . . X X O X \n",
      "X . X X X . X . X X O . O \n",
      "6.5\n"
     ]
    },
    {
     "data": {
      "application/vnd.jupyter.widget-view+json": {
       "model_id": "9fcebb2d5d104d40b90ffc593dba61b4",
       "version_major": 2,
       "version_minor": 0
      },
      "text/plain": [
       "HBox(children=(IntProgress(value=0, max=53), HTML(value='')))"
      ]
     },
     "metadata": {},
     "output_type": "display_data"
    },
    {
     "name": "stdout",
     "output_type": "stream",
     "text": [
      "\n",
      "7.5\n",
      "O O O O O O O O O O O O O \n",
      "O O X O O O O O X O O O O \n",
      "O O . O O O X O X O O O O \n",
      "O O O O O O X X X X O O O \n",
      "O O O O O O O O O . O X X \n",
      "X O X X O . . . X X . X . \n",
      "X . . . X . . . X X X X . \n",
      "X . X . . X . X X X . . . \n",
      "X X . . . . . X X X . . X \n",
      ". . X X . X X . . . X X . \n",
      ". . X . . X X . X . . X . \n",
      ". . . X X . X . . X X O X \n",
      "X . X X X . X . X X O . O \n",
      "5.5\n"
     ]
    },
    {
     "data": {
      "application/vnd.jupyter.widget-view+json": {
       "model_id": "aa069d5b5aff4b29b50f27813313c7f1",
       "version_major": 2,
       "version_minor": 0
      },
      "text/plain": [
       "HBox(children=(IntProgress(value=0, max=50), HTML(value='')))"
      ]
     },
     "metadata": {},
     "output_type": "display_data"
    },
    {
     "name": "stdout",
     "output_type": "stream",
     "text": [
      "\n",
      "6.5\n",
      "O O O O O O O O O O O O O \n",
      "O O X O O O O O X O O O O \n",
      "O O . O O O X O X O O O O \n",
      "O O O O O O X X X X O O O \n",
      "O O O O O O O O O . O X X \n",
      "X O X X O O . . X X . X . \n",
      "X . . . X . . . X X X X . \n",
      "X . X . . X . X X X . . . \n",
      "X X . . . . . X X X . . X \n",
      ". . X X . X X . . . X X . \n",
      ". . X . X X X . X . . X . \n",
      ". . . X X . X . . X X O X \n",
      "X . X X X . X . X X O . O \n",
      "5.5\n"
     ]
    },
    {
     "data": {
      "application/vnd.jupyter.widget-view+json": {
       "model_id": "3ee10105f3934477af8c60708f3cd08b",
       "version_major": 2,
       "version_minor": 0
      },
      "text/plain": [
       "HBox(children=(IntProgress(value=0, max=48), HTML(value='')))"
      ]
     },
     "metadata": {},
     "output_type": "display_data"
    },
    {
     "name": "stdout",
     "output_type": "stream",
     "text": [
      "\n",
      "6.5\n",
      "O O O O O O O O O O O O O \n",
      "O O X O O O O O X O O O O \n",
      "O O . O O O X O X O O O O \n",
      "O O O O O O X X X X O O O \n",
      "O O O O O O O O O . O X X \n",
      "X O X X O O O . X X . X . \n",
      "X . . . X . . . X X X X . \n",
      "X . X X . X . X X X . . . \n",
      "X X . . . . . X X X . . X \n",
      ". . X X . X X . . . X X . \n",
      ". . X . X X X . X . . X . \n",
      ". . . X X . X . . X X O X \n",
      "X . X X X . X . X X O . O \n",
      "4.5\n"
     ]
    },
    {
     "data": {
      "application/vnd.jupyter.widget-view+json": {
       "model_id": "0784c4412c594197ac5cf85441e95204",
       "version_major": 2,
       "version_minor": 0
      },
      "text/plain": [
       "HBox(children=(IntProgress(value=0, max=45), HTML(value='')))"
      ]
     },
     "metadata": {},
     "output_type": "display_data"
    },
    {
     "name": "stdout",
     "output_type": "stream",
     "text": [
      "\n",
      "5.5\n",
      "O O O O O O O O O O O O O \n",
      "O O X O O O O O X O O O O \n",
      "O O . O O O X O X O O O O \n",
      "O O O O O O X X X X O O O \n",
      "O O O O O O O O O . O X X \n",
      "X O X X O O O O X X . X . \n",
      "X . . . X . . . X X X X . \n",
      "X . X X . X . X X X . . . \n",
      "X X . . . . . X X X . . X \n",
      ". . X X . X X . . . X X . \n",
      ". . X . X X X . X X . X . \n",
      ". . . X X . X . . X X O X \n",
      "X . X X X . X . X X O . O \n",
      "3.5\n"
     ]
    },
    {
     "data": {
      "application/vnd.jupyter.widget-view+json": {
       "model_id": "e8d281d2591641a09d6a0f6759a9fed9",
       "version_major": 2,
       "version_minor": 0
      },
      "text/plain": [
       "HBox(children=(IntProgress(value=0, max=42), HTML(value='')))"
      ]
     },
     "metadata": {},
     "output_type": "display_data"
    },
    {
     "name": "stdout",
     "output_type": "stream",
     "text": [
      "\n",
      "4.5\n",
      "O O O O O O O O O O O O O \n",
      "O O X O O O O O X O O O O \n",
      "O O . O O O X O X O O O O \n",
      "O O O O O O X X X X O O O \n",
      "O O O O O O O O O . O X X \n",
      "X O X X O O O O X X O X . \n",
      "X . . . X . . . X X X X X \n",
      "X . X X . X . X X X . . . \n",
      "X X . . . . . X X X . . X \n",
      ". . X X . X X . . . X X . \n",
      ". . X . X X X . X X . X . \n",
      ". . . X X . X . . X X O X \n",
      "X . X X X . X . X X O . O \n",
      "2.5\n"
     ]
    },
    {
     "data": {
      "application/vnd.jupyter.widget-view+json": {
       "model_id": "6fec829e79b84adc9ababab6fc087942",
       "version_major": 2,
       "version_minor": 0
      },
      "text/plain": [
       "HBox(children=(IntProgress(value=0, max=39), HTML(value='')))"
      ]
     },
     "metadata": {},
     "output_type": "display_data"
    },
    {
     "name": "stdout",
     "output_type": "stream",
     "text": [
      "\n",
      "3.5\n",
      "O O O O O O O O O O O O O \n",
      "O O X O O O O O X O O O O \n",
      "O O . O O O X O X O O O O \n",
      "O O O O O O X X X X O O O \n",
      "O O O O O O O O O . O X X \n",
      "X O X X O O O O X X O X . \n",
      "X O X . X . . . X X X X X \n",
      "X . X X . X . X X X . . . \n",
      "X X . . . . . X X X . . X \n",
      ". . X X . X X . . . X X . \n",
      ". . X . X X X . X X . X . \n",
      ". . . X X . X . . X X O X \n",
      "X . X X X . X . X X O . O \n",
      "2.5\n"
     ]
    },
    {
     "data": {
      "application/vnd.jupyter.widget-view+json": {
       "model_id": "8d5c7902bc2a4555a1901a6f5c6085c0",
       "version_major": 2,
       "version_minor": 0
      },
      "text/plain": [
       "HBox(children=(IntProgress(value=0, max=37), HTML(value='')))"
      ]
     },
     "metadata": {},
     "output_type": "display_data"
    },
    {
     "name": "stdout",
     "output_type": "stream",
     "text": [
      "\n",
      "3.5\n",
      "O O O O O O O O O O O O O \n",
      "O O X O O O O O X O O O O \n",
      "O O . O O O X O X O O O O \n",
      "O O O O O O X X X X O O O \n",
      "O O O O O O O O O . O X X \n",
      "X O X X O O O O X X O X . \n",
      "X O X . X O . . X X X X X \n",
      "X . X X . X . X X X . . . \n",
      "X X . . . . . X X X . . X \n",
      ". X X X . X X . . . X X . \n",
      ". . X . X X X . X X . X . \n",
      ". . . X X . X . . X X O X \n",
      "X . X X X . X . X X O . O \n",
      "2.5\n"
     ]
    },
    {
     "data": {
      "application/vnd.jupyter.widget-view+json": {
       "model_id": "346b2aca86564d18bfc4a438cc762b50",
       "version_major": 2,
       "version_minor": 0
      },
      "text/plain": [
       "HBox(children=(IntProgress(value=0, max=35), HTML(value='')))"
      ]
     },
     "metadata": {},
     "output_type": "display_data"
    },
    {
     "name": "stdout",
     "output_type": "stream",
     "text": [
      "\n",
      "3.5\n",
      "O O O O O O O O O O O O O \n",
      "O O X O O O O O X O O O O \n",
      "O O . O O O X O X O O O O \n",
      "O O O O O O X X X X O O O \n",
      "O O O O O O O O O . O X X \n",
      "X O X X O O O O X X O X . \n",
      "X O X . X O O . X X X X X \n",
      "X . X X . X . X X X . . . \n",
      "X X . . . . . X X X . . X \n",
      ". X X X . X X . . . X X . \n",
      ". . X . X X X . X X . X . \n",
      ". . . X X . X . . X X O X \n",
      "X . X X X . X X X X O . O \n",
      "0.5\n"
     ]
    },
    {
     "data": {
      "application/vnd.jupyter.widget-view+json": {
       "model_id": "c4b918616b32468ea723b506ea52fe39",
       "version_major": 2,
       "version_minor": 0
      },
      "text/plain": [
       "HBox(children=(IntProgress(value=0, max=31), HTML(value='')))"
      ]
     },
     "metadata": {},
     "output_type": "display_data"
    },
    {
     "name": "stdout",
     "output_type": "stream",
     "text": [
      "\n",
      "1.5\n",
      "O O O O O O O O O O O O O \n",
      "O O X O O O O O X O O O O \n",
      "O O . O O O X O X O O O O \n",
      "O O O O O O X X X X O O O \n",
      "O O O O O O O O O . O X X \n",
      "X O X X O O O O X X O X . \n",
      "X O X . X O O O X X X X X \n",
      "X . X X . X . X X X . . . \n",
      "X X . . . . . X X X . . X \n",
      ". X X X . X X . . . X X . \n",
      ". . X . X X X . X X . X . \n",
      ". X . X X . X . . X X O X \n",
      "X . X X X . X X X X O . O \n",
      "1.5\n"
     ]
    },
    {
     "data": {
      "application/vnd.jupyter.widget-view+json": {
       "model_id": "b3c8479fd9314e13b61af828878c43ea",
       "version_major": 2,
       "version_minor": 0
      },
      "text/plain": [
       "HBox(children=(IntProgress(value=0, max=30), HTML(value='')))"
      ]
     },
     "metadata": {},
     "output_type": "display_data"
    },
    {
     "name": "stdout",
     "output_type": "stream",
     "text": [
      "\n",
      "2.5\n",
      "O O O O O O O O O O O O O \n",
      "O O X O O O O O X O O O O \n",
      "O O . O O O X O X O O O O \n",
      "O O O O O O X X X X O O O \n",
      "O O O O O O O O O . O X X \n",
      "X O X X O O O O X X O X . \n",
      "X O X . X O O O X X X X X \n",
      "X O X X . X . X X X . . . \n",
      "X X . . . . . X X X . . X \n",
      ". X X X . X X . . . X X . \n",
      ". . X X X X X . X X . X . \n",
      ". X . X X . X . . X X O X \n",
      "X . X X X . X X X X O . O \n",
      "-1.5\n"
     ]
    },
    {
     "data": {
      "application/vnd.jupyter.widget-view+json": {
       "model_id": "e78478bbda5042e0b2db9a026a3baa24",
       "version_major": 2,
       "version_minor": 0
      },
      "text/plain": [
       "HBox(children=(IntProgress(value=0, max=25), HTML(value='')))"
      ]
     },
     "metadata": {},
     "output_type": "display_data"
    },
    {
     "name": "stdout",
     "output_type": "stream",
     "text": [
      "\n",
      "-0.5\n",
      "O O O O O O O O O O O O O \n",
      "O O X O O O O O X O O O O \n",
      "O O . O O O X O X O O O O \n",
      "O O O O O O X X X X O O O \n",
      "O O O O O O O O O . O X X \n",
      "X O X X O O O O X X O X . \n",
      "X O X . X O O O X X X X X \n",
      "X O X X . X O X X X . . . \n",
      "X X . . . . . X X X . . X \n",
      ". X X X . X X . . . X X . \n",
      "X . X X X X X . X X . X . \n",
      ". X . X X . X . . X X O X \n",
      "X . X X X . X X X X O . O \n",
      "-0.5\n"
     ]
    },
    {
     "data": {
      "application/vnd.jupyter.widget-view+json": {
       "model_id": "c9daaca1a11142b59c2281343115af51",
       "version_major": 2,
       "version_minor": 0
      },
      "text/plain": [
       "HBox(children=(IntProgress(value=0, max=24), HTML(value='')))"
      ]
     },
     "metadata": {},
     "output_type": "display_data"
    },
    {
     "name": "stdout",
     "output_type": "stream",
     "text": [
      "\n",
      "0.5\n",
      "O O O O O O O O O O O O O \n",
      "O O X O O O O O X O O O O \n",
      "O O . O O O X O X O O O O \n",
      "O O O O O O X X X X O O O \n",
      "O O O O O O O O O . O X X \n",
      "X O X X O O O O X X O X . \n",
      "X O X . X O O O X X X X X \n",
      "X O X X . X O X X X O . . \n",
      "X X . . . . . X X X . . X \n",
      ". X X X . X X . . . X X . \n",
      "X . X X X X X . X X . X . \n",
      ". X . X X . X . . X X O X \n",
      "X . X X X . X X X X O . O \n",
      "0.5\n"
     ]
    },
    {
     "data": {
      "application/vnd.jupyter.widget-view+json": {
       "model_id": "85944286899f40b2bce722ece6840b41",
       "version_major": 2,
       "version_minor": 0
      },
      "text/plain": [
       "HBox(children=(IntProgress(value=0, max=23), HTML(value='')))"
      ]
     },
     "metadata": {},
     "output_type": "display_data"
    },
    {
     "name": "stdout",
     "output_type": "stream",
     "text": [
      "\n",
      "1.5\n",
      "O O O O O O O O O O O O O \n",
      "O O X O O O O O X O O O O \n",
      "O O . O O O X O X O O O O \n",
      "O O O O O O X X X X O O O \n",
      "O O O O O O O O O . O X X \n",
      "X O X X O O O O X X O X . \n",
      "X O X . X O O O X X X X X \n",
      "X O X X . X O X X X O O . \n",
      "X X . . . . . X X X . . X \n",
      ". X X X . X X . . . X X . \n",
      "X . X X X X X . X X . X . \n",
      "X X . X X . X . . X X O X \n",
      "X . X X X . X X X X O . O \n",
      "1.5\n"
     ]
    },
    {
     "data": {
      "application/vnd.jupyter.widget-view+json": {
       "model_id": "1b3d3d5db22c4e89aad1d94444c6484e",
       "version_major": 2,
       "version_minor": 0
      },
      "text/plain": [
       "HBox(children=(IntProgress(value=0, max=22), HTML(value='')))"
      ]
     },
     "metadata": {},
     "output_type": "display_data"
    },
    {
     "name": "stdout",
     "output_type": "stream",
     "text": [
      "\n",
      "2.5\n",
      "O O O O O O O O O O O O O \n",
      "O O X O O O O O X O O O O \n",
      "O O . O O O X O X O O O O \n",
      "O O O O O O X X X X O O O \n",
      "O O O O O O O O O . O X X \n",
      "X O X X O O O O X X O X . \n",
      "X O X . X O O O X X X X X \n",
      "X O X X . X O X X X O O O \n",
      "X X . . . . . X X X . . X \n",
      ". X X X . X X . . . X X . \n",
      "X X X X X X X . X X . X . \n",
      "X X . X X . X . . X X O X \n",
      "X . X X X . X X X X O . O \n",
      "2.5\n"
     ]
    },
    {
     "data": {
      "application/vnd.jupyter.widget-view+json": {
       "model_id": "930f03ce20314f29a16ee589671e4e2f",
       "version_major": 2,
       "version_minor": 0
      },
      "text/plain": [
       "HBox(children=(IntProgress(value=0, max=21), HTML(value='')))"
      ]
     },
     "metadata": {},
     "output_type": "display_data"
    },
    {
     "name": "stdout",
     "output_type": "stream",
     "text": [
      "\n",
      "3.5\n",
      "O O O O O O O O O O O O O \n",
      "O O X O O O O O X O O O O \n",
      "O O . O O O X O X O O O O \n",
      "O O O O O O X X X X O O O \n",
      "O O O O O O O O O . O X X \n",
      "X O X X O O O O X X O X . \n",
      "X O X . X O O O X X X X X \n",
      "X O X X . X O X X X O O O \n",
      "X X O . . . . X X X . . X \n",
      ". X X X . X X . . . X X . \n",
      "X X X X X X X . X X . X . \n",
      "X X . X X . X . . X X O X \n",
      "X X X X X . X X X X O . O \n",
      "3.5\n"
     ]
    },
    {
     "data": {
      "application/vnd.jupyter.widget-view+json": {
       "model_id": "2ebfe716c0d947c199fda5e29a4e62b5",
       "version_major": 2,
       "version_minor": 0
      },
      "text/plain": [
       "HBox(children=(IntProgress(value=0, max=20), HTML(value='')))"
      ]
     },
     "metadata": {},
     "output_type": "display_data"
    },
    {
     "name": "stdout",
     "output_type": "stream",
     "text": [
      "\n",
      "4.5\n",
      "O O O O O O O O O O O O O \n",
      "O O X O O O O O X O O O O \n",
      "O O . O O O X O X O O O O \n",
      "O O O O O O X X X X O O O \n",
      "O O O O O O O O O . O X X \n",
      "X O X X O O O O X X O X . \n",
      "X O X . X O O O X X X X X \n",
      "X O X X . X O X X X O O O \n",
      "X X O O . . . X X X . . X \n",
      "X X X X . X X . . . X X . \n",
      "X X X X X X X . X X . X . \n",
      "X X . X X . X . . X X O X \n",
      "X X X X X . X X X X O . O \n",
      "3.5\n"
     ]
    },
    {
     "data": {
      "application/vnd.jupyter.widget-view+json": {
       "model_id": "5e3e904377c24109917f406f9e322c21",
       "version_major": 2,
       "version_minor": 0
      },
      "text/plain": [
       "HBox(children=(IntProgress(value=0, max=18), HTML(value='')))"
      ]
     },
     "metadata": {},
     "output_type": "display_data"
    },
    {
     "name": "stdout",
     "output_type": "stream",
     "text": [
      "\n",
      "4.5\n",
      "O O O O O O O O O O O O O \n",
      "O O X O O O O O X O O O O \n",
      "O O . O O O X O X O O O O \n",
      "O O O O O O X X X X O O O \n",
      "O O O O O O O O O . O X X \n",
      "X O X X O O O O X X O X . \n",
      "X O X . X O O O X X X X X \n",
      "X O X X . X O X X X O O O \n",
      "X X O O O . . X X X . . X \n",
      "X X X X . X X . . . X X X \n",
      "X X X X X X X . X X . X . \n",
      "X X . X X . X . . X X O X \n",
      "X X X X X . X X X X O . O \n",
      "-3.5\n"
     ]
    },
    {
     "data": {
      "application/vnd.jupyter.widget-view+json": {
       "model_id": "32f49a7b903343be959bc6e572a4d5f6",
       "version_major": 2,
       "version_minor": 0
      },
      "text/plain": [
       "HBox(children=(IntProgress(value=0, max=16), HTML(value='')))"
      ]
     },
     "metadata": {},
     "output_type": "display_data"
    },
    {
     "name": "stdout",
     "output_type": "stream",
     "text": [
      "\n",
      "-2.5\n",
      "O O O O O O O O O O O O O \n",
      "O O X O O O O O X O O O O \n",
      "O O . O O O X O X O O O O \n",
      "O O O O O O X X X X O O O \n",
      "O O O O O O O O O . O X X \n",
      "X O X X O O O O X X O X . \n",
      "X O X . X O O O X X X X X \n",
      "X O X X . X O X X X O O O \n",
      "X X O O O . . X X X O . X \n",
      "X X X X . X X . . . X X X \n",
      "X X X X X X X . X X . X . \n",
      "X X . X X . X . . X X . X \n",
      "X X X X X . X X X X . X . \n",
      "-2.5\n"
     ]
    },
    {
     "data": {
      "application/vnd.jupyter.widget-view+json": {
       "model_id": "a6feb0dee3bf4e30ac987fae45835bfd",
       "version_major": 2,
       "version_minor": 0
      },
      "text/plain": [
       "HBox(children=(IntProgress(value=0, max=14), HTML(value='')))"
      ]
     },
     "metadata": {},
     "output_type": "display_data"
    },
    {
     "name": "stdout",
     "output_type": "stream",
     "text": [
      "\n",
      "-1.5\n",
      "O O O O O O O O O O O O O \n",
      "O O X O O O O O X O O O O \n",
      "O O . O O O X O X O O O O \n",
      "O O O O O O X X X X O O O \n",
      "O O O O O O O O O . O X X \n",
      "X O X X O O O O X X O X . \n",
      "X O X . X O O O X X X X X \n",
      "X O X X . X O X X X O O O \n",
      "X X O O O O . X X X O . X \n",
      "X X X X . X X . . . X X X \n",
      "X X X X X X X . X X . X . \n",
      "X X . X X . X . . X X . X \n",
      "X X X X X . X X X X . X . \n",
      "-1.5\n"
     ]
    },
    {
     "data": {
      "application/vnd.jupyter.widget-view+json": {
       "model_id": "70ccce63dbd44cef9d00577d261b1164",
       "version_major": 2,
       "version_minor": 0
      },
      "text/plain": [
       "HBox(children=(IntProgress(value=0, max=13), HTML(value='')))"
      ]
     },
     "metadata": {},
     "output_type": "display_data"
    },
    {
     "name": "stdout",
     "output_type": "stream",
     "text": [
      "\n",
      "-0.5\n",
      "O O O O O O O O O O O O O \n",
      "O O X O O O O O X O O O O \n",
      "O O . O O O X O X O O O O \n",
      "O O O O O O X X X X O O O \n",
      "O O O O O O O O O . O X X \n",
      "X O X X O O O O X X O X . \n",
      "X O X . X O O O X X X X X \n",
      "X O X X . X O X X X O O O \n",
      "X X O O O O O X X X O . X \n",
      "X X X X . X X . . . X X X \n",
      "X X X X X X X . X X . X . \n",
      "X X . X X . X . . X X . X \n",
      "X X X X X . X X X X . X . \n",
      "-0.5\n"
     ]
    },
    {
     "data": {
      "application/vnd.jupyter.widget-view+json": {
       "model_id": "4d16a272237744929dd7fe098e82c201",
       "version_major": 2,
       "version_minor": 0
      },
      "text/plain": [
       "HBox(children=(IntProgress(value=0, max=12), HTML(value='')))"
      ]
     },
     "metadata": {},
     "output_type": "display_data"
    },
    {
     "name": "stdout",
     "output_type": "stream",
     "text": [
      "\n",
      "0.5\n",
      "O O O O O O O O O O O O O \n",
      "O O X O O O O O X O O O O \n",
      "O O . O O O X O X O O O O \n",
      "O O O O O O X X X X O O O \n",
      "O O O O O O O O O . O X X \n",
      "X O X X O O O O X X O X . \n",
      "X O X . X O O O X X X X X \n",
      "X O X X . X O X X X O O O \n",
      "X X O O O O O X X X O . X \n",
      "X X X X O X X . . . X X X \n",
      "X X X X X X X . X X . X . \n",
      "X X . X X . X . . X X . X \n",
      "X X X X X . X X X X . X . \n",
      "0.5\n"
     ]
    },
    {
     "data": {
      "application/vnd.jupyter.widget-view+json": {
       "model_id": "109c6816ca8541a9a4a9f0a1f7b4b8f7",
       "version_major": 2,
       "version_minor": 0
      },
      "text/plain": [
       "HBox(children=(IntProgress(value=0, max=11), HTML(value='')))"
      ]
     },
     "metadata": {},
     "output_type": "display_data"
    },
    {
     "name": "stdout",
     "output_type": "stream",
     "text": [
      "\n",
      "1.5\n",
      "O O O O O O O O O O O O O \n",
      "O O X O O O O O X O O O O \n",
      "O O . O O O X O X O O O O \n",
      "O O O O O O X X X X O O O \n",
      "O O O O O O O O O . O X X \n",
      "X O X X O O O O X X O X . \n",
      "X O X . X O O O X X X X X \n",
      "X O X X . X O X X X O O O \n",
      "X X O O O O O X X X O . X \n",
      "X X X X O X X O . . X X X \n",
      "X X X X X X X . X X . X . \n",
      "X X . X X . X . . X X X X \n",
      "X X X X X . X X X X . X . \n",
      "1.5\n"
     ]
    },
    {
     "data": {
      "application/vnd.jupyter.widget-view+json": {
       "model_id": "e70f65f4a7804760a2153860926bd052",
       "version_major": 2,
       "version_minor": 0
      },
      "text/plain": [
       "HBox(children=(IntProgress(value=0, max=10), HTML(value='')))"
      ]
     },
     "metadata": {},
     "output_type": "display_data"
    },
    {
     "name": "stdout",
     "output_type": "stream",
     "text": [
      "\n",
      "2.5\n",
      "O O O O O O O O O O O O O \n",
      "O O X O O O O O X O O O O \n",
      "O O . O O O X O X O O O O \n",
      "O O O O O O X X X X O O O \n",
      "O O O O O O O O O . O X X \n",
      "X O X X O O O O X X O X . \n",
      "X O X . X O O O X X X X X \n",
      "X O X X . X O X X X O O O \n",
      "X X O O O O O X X X O . X \n",
      "X X X X O X X O O . X X X \n",
      "X X X X X X X . X X . X . \n",
      "X X . X X . X . . X X X X \n",
      "X X X X X . X X X X . X X \n",
      "2.5\n"
     ]
    },
    {
     "data": {
      "application/vnd.jupyter.widget-view+json": {
       "model_id": "43419c890d7646f6ab981a4a94a87322",
       "version_major": 2,
       "version_minor": 0
      },
      "text/plain": [
       "HBox(children=(IntProgress(value=0, max=9), HTML(value='')))"
      ]
     },
     "metadata": {},
     "output_type": "display_data"
    },
    {
     "name": "stdout",
     "output_type": "stream",
     "text": [
      "\n",
      "3.5\n",
      "O O O O O O O O O O O O O \n",
      "O O X O O O O O X O O O O \n",
      "O O . O O O X O X O O O O \n",
      "O O O O O O X X X X O O O \n",
      "O O O O O O O O O . O X X \n",
      "X O X X O O O O X X O X . \n",
      "X O X . X O O O X X X X X \n",
      "X O X X . X O X X X O O O \n",
      "X X O O O O O X X X O . X \n",
      "X X X X O X X O O O X X X \n",
      "X X X X X X X . X X . X . \n",
      "X X . X X . X . . X X X X \n",
      "X X X X X . X X X X X X X \n",
      "3.5\n"
     ]
    },
    {
     "data": {
      "application/vnd.jupyter.widget-view+json": {
       "model_id": "879a0fc2c2ed456899f48113103cf168",
       "version_major": 2,
       "version_minor": 0
      },
      "text/plain": [
       "HBox(children=(IntProgress(value=0, max=8), HTML(value='')))"
      ]
     },
     "metadata": {},
     "output_type": "display_data"
    },
    {
     "name": "stdout",
     "output_type": "stream",
     "text": [
      "\n",
      "4.5\n",
      "O O O O O O O O O O O O O \n",
      "O O X O O O O O X O O O O \n",
      "O O . O O O X O X O O O O \n",
      "O O O O O O X X X X O O O \n",
      "O O O O O O O O O . O X X \n",
      "X O X X O O O O X X O X . \n",
      "X O X . X O O O X X X X X \n",
      "X O X X . X O X X X O O O \n",
      "X X O O O O O X X X O . X \n",
      "X X X X O X X O O O X X X \n",
      "X X X X X X X O X X . X X \n",
      "X X . X X . X . . X X X X \n",
      "X X X X X . X X X X X X X \n",
      "-0.5\n"
     ]
    },
    {
     "data": {
      "application/vnd.jupyter.widget-view+json": {
       "model_id": "89ce4fbf21e5473ca01d540013da5fb4",
       "version_major": 2,
       "version_minor": 0
      },
      "text/plain": [
       "HBox(children=(IntProgress(value=0, max=11), HTML(value='')))"
      ]
     },
     "metadata": {},
     "output_type": "display_data"
    },
    {
     "name": "stdout",
     "output_type": "stream",
     "text": [
      "\n",
      "0.5\n",
      "O O O O O O O O O O O O O \n",
      "O O X O O O O O X O O O O \n",
      "O O . O O O X O X O O O O \n",
      "O O O O O O X X X X O O O \n",
      "O O O O O O O O O . O X X \n",
      "X O X X O O O O X X O X . \n",
      "X O X . X O O O X X X X X \n",
      "X O X X . X O X X X . . . \n",
      "X X O O O O O X X X . X X \n",
      "X X X X O X X O O O X X X \n",
      "X X X X X X X O X X . X X \n",
      "X X . X X . X . O X X X X \n",
      "X X X X X . X X X X X X X \n",
      "-1.5\n"
     ]
    },
    {
     "data": {
      "application/vnd.jupyter.widget-view+json": {
       "model_id": "a28f6b1509d84e9ea85a4d1f073eedab",
       "version_major": 2,
       "version_minor": 0
      },
      "text/plain": [
       "HBox(children=(IntProgress(value=0, max=7), HTML(value='')))"
      ]
     },
     "metadata": {},
     "output_type": "display_data"
    },
    {
     "name": "stdout",
     "output_type": "stream",
     "text": [
      "\n",
      "-0.5\n",
      "O O O O O O O O O O O O O \n",
      "O O X O O O O O X O O O O \n",
      "O O . O O O X O X O O O O \n",
      "O O O O O O X X X X O O O \n",
      "O O O O O O O O O . O X X \n",
      "X O X X O O O O X X O X . \n",
      "X O X . X O O O X X X X X \n",
      "X O X X . X O X X X O X . \n",
      "X X O O O O O X X X . X X \n",
      "X X X X O X X O O O X X X \n",
      "X X X X X X X O X X . X X \n",
      "X X . X X . X . O X X X X \n",
      "X X X X X . X X X X X X X \n",
      "-0.5\n"
     ]
    },
    {
     "data": {
      "application/vnd.jupyter.widget-view+json": {
       "model_id": "e869a463e4d74107be818daf483c41da",
       "version_major": 2,
       "version_minor": 0
      },
      "text/plain": [
       "HBox(children=(IntProgress(value=0, max=5), HTML(value='')))"
      ]
     },
     "metadata": {},
     "output_type": "display_data"
    },
    {
     "name": "stdout",
     "output_type": "stream",
     "text": [
      "\n",
      "0.5\n",
      "O O O O O O O O O O O O O \n",
      "O O X O O O O O X O O O O \n",
      "O O . O O O X O X O O O O \n",
      "O O O O O O X X X X O O O \n",
      "O O O O O O O O O . O X X \n",
      "X O X X O O O O X X O X . \n",
      "X O X . X O O O X X X X X \n",
      "X O X X . X O X X X O X . \n",
      "X X O O O O O X X X . X X \n",
      "X X X X O X X O O O X X X \n",
      "X X X X X X X O X X . X X \n",
      "X X . X X O X . O X X X X \n",
      "X X X X X . X X X X X X X \n",
      "-2.5\n"
     ]
    },
    {
     "data": {
      "application/vnd.jupyter.widget-view+json": {
       "model_id": "68566506e2b2455895bfe50437e1f42a",
       "version_major": 2,
       "version_minor": 0
      },
      "text/plain": [
       "HBox(children=(IntProgress(value=0, max=3), HTML(value='')))"
      ]
     },
     "metadata": {},
     "output_type": "display_data"
    },
    {
     "name": "stdout",
     "output_type": "stream",
     "text": [
      "\n",
      "0.5\n",
      "O O O O O O O O O O O O O \n",
      "O O . O O O O O X O O O O \n",
      "O O O O O O X O X O O O O \n",
      "O O O O O O X X X X O O O \n",
      "O O O O O O O O O . O X X \n",
      "X O X X O O O O X X O X . \n",
      "X O X . X O O O X X X X X \n",
      "X O X X . X O X X X . X . \n",
      "X X O O O O O X X X X X X \n",
      "X X X X O X X O O O X X X \n",
      "X X X X X X X O X X . X X \n",
      "X X . X X O X . O X X X X \n",
      "X X X X X . X X X X X X X \n",
      "0.5\n"
     ]
    },
    {
     "data": {
      "application/vnd.jupyter.widget-view+json": {
       "model_id": "6b97bcc8976c49eb81ac4d693900eb16",
       "version_major": 2,
       "version_minor": 0
      },
      "text/plain": [
       "HBox(children=(IntProgress(value=0, max=3), HTML(value='')))"
      ]
     },
     "metadata": {},
     "output_type": "display_data"
    },
    {
     "name": "stdout",
     "output_type": "stream",
     "text": [
      "\n",
      "0.5\n",
      "O O O O O O O O O O O O O \n",
      "O O O O O O O O X O O O O \n",
      "O O O O O O X O X O O O O \n",
      "O O O O O O X X X X O O O \n",
      "O O O O O O O O O . O X X \n",
      "X O X X O O O O X X O X . \n",
      "X O X . X O O O X X X X X \n",
      "X O X X . X O X X X . X . \n",
      "X X O O O O O X X X X X X \n",
      "X X X X O X X O O O X X X \n",
      "X X X X X X X O X X . X X \n",
      "X X X X X O X . O X X X X \n",
      "X X X X X . X X X X X X X \n",
      "0.5\n"
     ]
    },
    {
     "data": {
      "application/vnd.jupyter.widget-view+json": {
       "model_id": "86359cbbb275440bbcc5baa29c4d7f68",
       "version_major": 2,
       "version_minor": 0
      },
      "text/plain": [
       "HBox(children=(IntProgress(value=0, max=2), HTML(value='')))"
      ]
     },
     "metadata": {},
     "output_type": "display_data"
    },
    {
     "name": "stdout",
     "output_type": "stream",
     "text": [
      "\n",
      "8.5\n",
      "O O O O O O O O O O O O O \n",
      "O O O O O O O O . O O O O \n",
      "O O O O O O . O . O O O O \n",
      "O O O O O O . . . . O O O \n",
      "O O O O O O O O O O O X X \n",
      "X O X X O O O O X X O X . \n",
      "X O X X X O O O X X X X X \n",
      "X O X X . X O X X X . X . \n",
      "X X O O O O O X X X X X X \n",
      "X X X X O X X O O O X X X \n",
      "X X X X X X X O X X . X X \n",
      "X X X X X O X . O X X X X \n",
      "X X X X X . X X X X X X X \n",
      "7.5\n"
     ]
    },
    {
     "data": {
      "application/vnd.jupyter.widget-view+json": {
       "model_id": "eae8c56838db486196e78db667d381ac",
       "version_major": 2,
       "version_minor": 0
      },
      "text/plain": [
       "HBox(children=(IntProgress(value=0, max=7), HTML(value='')))"
      ]
     },
     "metadata": {},
     "output_type": "display_data"
    },
    {
     "name": "stdout",
     "output_type": "stream",
     "text": [
      "\n",
      "8.5\n",
      "O O O O O O O O O O O O O \n",
      "O O O O O O O O X O O O O \n",
      "O O O O O O O O . O O O O \n",
      "O O O O O O . . . . O O O \n",
      "O O O O O O O O O O O X X \n",
      "X O X X O O O O X X O X . \n",
      "X O X X X O O O X X X X X \n",
      "X O X X . X O X X X . X . \n",
      "X X O O O O O X X X X X X \n",
      "X X X X O X X O O O X X X \n",
      "X X X X X X X O X X . X X \n",
      "X X X X X O X . O X X X X \n",
      "X X X X X . X X X X X X X \n",
      "7.5\n"
     ]
    },
    {
     "data": {
      "application/vnd.jupyter.widget-view+json": {
       "model_id": "e94b4bce80504924ba3f46c2add2e46a",
       "version_major": 2,
       "version_minor": 0
      },
      "text/plain": [
       "HBox(children=(IntProgress(value=0, max=5), HTML(value='')))"
      ]
     },
     "metadata": {},
     "output_type": "display_data"
    },
    {
     "name": "stdout",
     "output_type": "stream",
     "text": [
      "\n",
      "8.5\n",
      "O O O O O O O O O O O O O \n",
      "O O O O O O O O X O O O O \n",
      "O O O O O O O O . O O O O \n",
      "O O O O O O O X . . O O O \n",
      "O O O O O O O O O O O X X \n",
      "X O X X O O O O X X O X . \n",
      "X O X X X O O O X X X X X \n",
      "X O X X . X O X X X . X . \n",
      "X X O O O O O X X X X X X \n",
      "X X X X O X X O O O X X X \n",
      "X X X X X X X O X X . X X \n",
      "X X X X X O X . O X X X X \n",
      "X X X X X . X X X X X X X \n",
      "7.5\n"
     ]
    },
    {
     "data": {
      "application/vnd.jupyter.widget-view+json": {
       "model_id": "072d764c30be4a319504cbead2873caa",
       "version_major": 2,
       "version_minor": 0
      },
      "text/plain": [
       "HBox(children=(IntProgress(value=0, max=3), HTML(value='')))"
      ]
     },
     "metadata": {},
     "output_type": "display_data"
    },
    {
     "name": "stdout",
     "output_type": "stream",
     "text": [
      "\n",
      "8.5\n",
      "O O O O O O O O O O O O O \n",
      "O O O O O O O O X O O O O \n",
      "O O O O O O O O . O O O O \n",
      "O O O O O O O X X O O O O \n",
      "O O O O O O O O O O O X X \n",
      "X O X X O O O O X X O X . \n",
      "X O X X X O O O X X X X X \n",
      "X O X X . X O X X X . X . \n",
      "X X O O O O O X X X X X X \n",
      "X X X X O X X O O O X X X \n",
      "X X X X X X X O X X . X X \n",
      "X X X X X O X . O X X X X \n",
      "X X X X X . X X X X X X X \n",
      "8.5\n"
     ]
    },
    {
     "data": {
      "application/vnd.jupyter.widget-view+json": {
       "model_id": "375f71941a9f43f09b57f3c8c0f31de1",
       "version_major": 2,
       "version_minor": 0
      },
      "text/plain": [
       "HBox(children=(IntProgress(value=0, max=2), HTML(value='')))"
      ]
     },
     "metadata": {},
     "output_type": "display_data"
    },
    {
     "name": "stdout",
     "output_type": "stream",
     "text": [
      "\n",
      "13.5\n",
      "O O O O O O O O O O O O O \n",
      "O O O O O O O O . O O O O \n",
      "O O O O O O O O O O O O O \n",
      "O O O O O O O . . O O O O \n",
      "O O O O O O O O O O O X X \n",
      "X O X X O O O O X X O X . \n",
      "X O X X X O O O X X X X X \n",
      "X O X X . X O X X X X X . \n",
      "X X O O O O O X X X X X X \n",
      "X X X X O X X O O O X X X \n",
      "X X X X X X X O X X . X X \n",
      "X X X X X O X . O X X X X \n",
      "X X X X X . X X X X X X X \n",
      "12.5\n"
     ]
    },
    {
     "data": {
      "application/vnd.jupyter.widget-view+json": {
       "model_id": "a21343f34d784554a6d0e39ed99950b1",
       "version_major": 2,
       "version_minor": 0
      },
      "text/plain": [
       "HBox(children=(IntProgress(value=0, max=3), HTML(value='')))"
      ]
     },
     "metadata": {},
     "output_type": "display_data"
    },
    {
     "name": "stdout",
     "output_type": "stream",
     "text": [
      "\n",
      "12.5\n",
      "O O O O O O O O O O O O O \n",
      "O O O O O O O O O O O O O \n",
      "O O O O O O O O O O O O O \n",
      "O O O O O O O X . O O O O \n",
      "O O O O O O O O O O O X X \n",
      "X O X X O O O O X X O X . \n",
      "X O X X X O O O X X X X X \n",
      "X O X X . X O X X X X X . \n",
      "X X O O O O O X X X X X X \n",
      "X X X X O X X O O O X X X \n",
      "X X X X X X X O X X . X X \n",
      "X X X X X O X . O X X X X \n",
      "X X X X X . X X X X X X X \n",
      "12.5\n"
     ]
    },
    {
     "data": {
      "application/vnd.jupyter.widget-view+json": {
       "model_id": "c06c9b7380834d67aa886778f5657732",
       "version_major": 2,
       "version_minor": 0
      },
      "text/plain": [
       "HBox(children=(IntProgress(value=0, max=2), HTML(value='')))"
      ]
     },
     "metadata": {},
     "output_type": "display_data"
    },
    {
     "name": "stdout",
     "output_type": "stream",
     "text": [
      "\n",
      "15.5\n",
      "O O O O O O O O O O O O O \n",
      "O O O O O O O O O O O O O \n",
      "O O O O O O O O O O O O O \n",
      "O O O O O O O . O O O O O \n",
      "O O O O O O O O O O O X X \n",
      "X O X X O O O O X X O X . \n",
      "X O X X X O O O X X X X X \n",
      "X O X X . X O X X X X X . \n",
      "X X O O O O O X X X X X X \n",
      "X X X X O X X O O O X X X \n",
      "X X X X X X X O X X X X X \n",
      "X X X X X O X . O X X X X \n",
      "X X X X X . X X X X X X X \n",
      "15.5\n"
     ]
    },
    {
     "data": {
      "application/vnd.jupyter.widget-view+json": {
       "model_id": "5eda9b8d13b245fc8e1d6b54ae3c75f2",
       "version_major": 2,
       "version_minor": 0
      },
      "text/plain": [
       "HBox(children=(IntProgress(value=0, max=3), HTML(value='')))"
      ]
     },
     "metadata": {},
     "output_type": "display_data"
    },
    {
     "name": "stdout",
     "output_type": "stream",
     "text": [
      "\n",
      "15.5\n",
      "O O O O O O O O O O O O O \n",
      "O O O O O O O O O O O O O \n",
      "O O O O O O O O O O O O O \n",
      "O O O O O O O O O O O O O \n",
      "O O O O O O O O O O O X X \n",
      "X O X X O O O O X X O X . \n",
      "X O X X X O O O X X X X X \n",
      "X O X X . X O X X X X X X \n",
      "X X O O O O O X X X X X X \n",
      "X X X X O X X O O O X X X \n",
      "X X X X X X X O X X X X X \n",
      "X X X X X O X . O X X X X \n",
      "X X X X X . X X X X X X X \n",
      "12.5\n"
     ]
    },
    {
     "data": {
      "application/vnd.jupyter.widget-view+json": {
       "model_id": "a15ac182618d49619dec55a1a0843653",
       "version_major": 2,
       "version_minor": 0
      },
      "text/plain": [
       "HBox(children=(IntProgress(value=0, max=1), HTML(value='')))"
      ]
     },
     "metadata": {},
     "output_type": "display_data"
    },
    {
     "name": "stdout",
     "output_type": "stream",
     "text": [
      "\n",
      "22.5\n",
      "O O O O O O O O O O O O O \n",
      "O O O O O O O O O O O O O \n",
      "O O O O O O O O O O O O O \n",
      "O O O O O O O O O O O O O \n",
      "O O O O O O O O O O O X X \n",
      "X O . . O O O O X X O X . \n",
      "X O . . . O O O X X X X X \n",
      "X O . . O . O X X X X X X \n",
      "X X O O O O O X X X X X X \n",
      "X X X X O X X O O O X X X \n",
      "X X X X X X X O X X X X X \n",
      "X X X X X . X . O X X X X \n",
      "X X X X X X X X X X X X X \n",
      "21.5\n"
     ]
    },
    {
     "data": {
      "application/vnd.jupyter.widget-view+json": {
       "model_id": "7e11a801852b488fa331e4f4845c3251",
       "version_major": 2,
       "version_minor": 0
      },
      "text/plain": [
       "HBox(children=(IntProgress(value=0, max=8), HTML(value='')))"
      ]
     },
     "metadata": {},
     "output_type": "display_data"
    },
    {
     "name": "stdout",
     "output_type": "stream",
     "text": [
      "\n",
      "21.5\n",
      "O O O O O O O O O O O O O \n",
      "O O O O O O O O O O O O O \n",
      "O O O O O O O O O O O O O \n",
      "O O O O O O O O O O O O O \n",
      "O O O O O O O O O O O X X \n",
      "X O X . O O O O X X O X . \n",
      "X O . . . O O O X X X X X \n",
      "X O . . O O O X X X X X X \n",
      "X X O O O O O X X X X X X \n",
      "X X X X O X X O O O X X X \n",
      "X X X X X X X O X X X X X \n",
      "X X X X X . X . O X X X X \n",
      "X X X X X X X X X X X X X \n",
      "20.5\n"
     ]
    },
    {
     "data": {
      "application/vnd.jupyter.widget-view+json": {
       "model_id": "94e87f01e6804687870a94944f4d1e4d",
       "version_major": 2,
       "version_minor": 0
      },
      "text/plain": [
       "HBox(children=(IntProgress(value=0, max=6), HTML(value='')))"
      ]
     },
     "metadata": {},
     "output_type": "display_data"
    },
    {
     "name": "stdout",
     "output_type": "stream",
     "text": [
      "\n",
      "20.5\n",
      "O O O O O O O O O O O O O \n",
      "O O O O O O O O O O O O O \n",
      "O O O O O O O O O O O O O \n",
      "O O O O O O O O O O O O O \n",
      "O O O O O O O O O O O X X \n",
      "X O X X O O O O X X O X . \n",
      "X O . . . O O O X X X X X \n",
      "X O . . O O O X X X X X X \n",
      "X X O O O O O X X X X X X \n",
      "X X X X O X X O O O X X X \n",
      "X X X X X X X O X X X X X \n",
      "X X X X X . X . O X X X X \n",
      "X X X X X X X X X X X X X \n",
      "19.5\n"
     ]
    },
    {
     "data": {
      "application/vnd.jupyter.widget-view+json": {
       "model_id": "4bb6442e137c4b9287e7c559cadfc7a3",
       "version_major": 2,
       "version_minor": 0
      },
      "text/plain": [
       "HBox(children=(IntProgress(value=0, max=5), HTML(value='')))"
      ]
     },
     "metadata": {},
     "output_type": "display_data"
    },
    {
     "name": "stdout",
     "output_type": "stream",
     "text": [
      "\n",
      "19.5\n",
      "O O O O O O O O O O O O O \n",
      "O O O O O O O O O O O O O \n",
      "O O O O O O O O O O O O O \n",
      "O O O O O O O O O O O O O \n",
      "O O O O O O O O O O O X X \n",
      "X O X X O O O O X X O X . \n",
      "X O . . . O O O X X X X X \n",
      "X O X . O O O X X X X X X \n",
      "X X O O O O O X X X X X X \n",
      "X X X X O X X O O O X X X \n",
      "X X X X X X X O X X X X X \n",
      "X X X X X . X . O X X X X \n",
      "X X X X X X X X X X X X X \n",
      "18.5\n"
     ]
    },
    {
     "data": {
      "application/vnd.jupyter.widget-view+json": {
       "model_id": "db602aac0edd49d487524191b039fde1",
       "version_major": 2,
       "version_minor": 0
      },
      "text/plain": [
       "HBox(children=(IntProgress(value=0, max=4), HTML(value='')))"
      ]
     },
     "metadata": {},
     "output_type": "display_data"
    },
    {
     "name": "stdout",
     "output_type": "stream",
     "text": [
      "\n",
      "18.5\n",
      "O O O O O O O O O O O O O \n",
      "O O O O O O O O O O O O O \n",
      "O O O O O O O O O O O O O \n",
      "O O O O O O O O O O O O O \n",
      "O O O O O O O O O O O X X \n",
      "X O X X O O O O X X O X . \n",
      "X O . . X O O O X X X X X \n",
      "X O X . O O O X X X X X X \n",
      "X X O O O O O X X X X X X \n",
      "X X X X O X X O O O X X X \n",
      "X X X X X X X O X X X X X \n",
      "X X X X X . X . O X X X X \n",
      "X X X X X X X X X X X X X \n",
      "17.5\n"
     ]
    },
    {
     "data": {
      "application/vnd.jupyter.widget-view+json": {
       "model_id": "96b045d23e0c43b68794dc2dbf2f8ed4",
       "version_major": 2,
       "version_minor": 0
      },
      "text/plain": [
       "HBox(children=(IntProgress(value=0, max=3), HTML(value='')))"
      ]
     },
     "metadata": {},
     "output_type": "display_data"
    },
    {
     "name": "stdout",
     "output_type": "stream",
     "text": [
      "\n",
      "17.5\n",
      "O O O O O O O O O O O O O \n",
      "O O O O O O O O O O O O O \n",
      "O O O O O O O O O O O O O \n",
      "O O O O O O O O O O O O O \n",
      "O O O O O O O O O O O X X \n",
      "X O X X O O O O X X O X . \n",
      "X O . . X O O O X X X X X \n",
      "X O X X O O O X X X X X X \n",
      "X X O O O O O X X X X X X \n",
      "X X X X O X X O O O X X X \n",
      "X X X X X X X O X X X X X \n",
      "X X X X X . X . O X X X X \n",
      "X X X X X X X X X X X X X \n",
      "-67.5\n"
     ]
    },
    {
     "data": {
      "application/vnd.jupyter.widget-view+json": {
       "model_id": "90ad274fa48e479c82a9c76220511a0f",
       "version_major": 2,
       "version_minor": 0
      },
      "text/plain": [
       "HBox(children=(IntProgress(value=0, max=83), HTML(value='')))"
      ]
     },
     "metadata": {},
     "output_type": "display_data"
    },
    {
     "name": "stdout",
     "output_type": "stream",
     "text": [
      "\n",
      "-66.5\n",
      "O . . . . . . . . . . . . \n",
      ". . . . . . . . . . . . . \n",
      ". . . . . . . . . . . . . \n",
      ". . . . . . . . . . . . . \n",
      ". . . . . . . . . . . X X \n",
      "X . X X . . . . X X . X . \n",
      "X . X . X . . . X X X X X \n",
      "X . X X . . . X X X X X X \n",
      "X X . . . . . X X X X X X \n",
      "X X X X . X X O O O X X X \n",
      "X X X X X X X O X X X X X \n",
      "X X X X X . X . O X X X X \n",
      "X X X X X X X X X X X X X \n",
      "-67.5\n"
     ]
    },
    {
     "data": {
      "application/vnd.jupyter.widget-view+json": {
       "model_id": "407b97384aed4d08b514344aa3c24e57",
       "version_major": 2,
       "version_minor": 0
      },
      "text/plain": [
       "HBox(children=(IntProgress(value=0, max=81), HTML(value='')))"
      ]
     },
     "metadata": {},
     "output_type": "display_data"
    },
    {
     "name": "stdout",
     "output_type": "stream",
     "text": [
      "\n",
      "-66.5\n",
      "O O . . . . . . . . . . . \n",
      ". . . . . . . . X . . . . \n",
      ". . . . . . . . . . . . . \n",
      ". . . . . . . . . . . . . \n",
      ". . . . . . . . . . . X X \n",
      "X . X X . . . . X X . X . \n",
      "X . X . X . . . X X X X X \n",
      "X . X X . . . X X X X X X \n",
      "X X . . . . . X X X X X X \n",
      "X X X X . X X O O O X X X \n",
      "X X X X X X X O X X X X X \n",
      "X X X X X . X . O X X X X \n",
      "X X X X X X X X X X X X X \n",
      "-67.5\n"
     ]
    },
    {
     "data": {
      "application/vnd.jupyter.widget-view+json": {
       "model_id": "fe9997e7db2b40caabab18d65ce3dcdb",
       "version_major": 2,
       "version_minor": 0
      },
      "text/plain": [
       "HBox(children=(IntProgress(value=0, max=79), HTML(value='')))"
      ]
     },
     "metadata": {},
     "output_type": "display_data"
    },
    {
     "name": "stdout",
     "output_type": "stream",
     "text": [
      "\n",
      "-66.5\n",
      "O O O . . . . . . . . . . \n",
      ". . . . . . . . X . . . . \n",
      ". . . . . . . . . . . . . \n",
      ". . . . . . . . . . . . . \n",
      ". . . . . . . . . . . X X \n",
      "X . X X . . . . X X . X . \n",
      "X . X . X . . . X X X X X \n",
      "X . X X . X . X X X X X X \n",
      "X X . . . . . X X X X X X \n",
      "X X X X . X X O O O X X X \n",
      "X X X X X X X O X X X X X \n",
      "X X X X X . X . O X X X X \n",
      "X X X X X X X X X X X X X \n",
      "-67.5\n"
     ]
    },
    {
     "data": {
      "application/vnd.jupyter.widget-view+json": {
       "model_id": "5e7e9296650940968cd4a333d375aeb9",
       "version_major": 2,
       "version_minor": 0
      },
      "text/plain": [
       "HBox(children=(IntProgress(value=0, max=77), HTML(value='')))"
      ]
     },
     "metadata": {},
     "output_type": "display_data"
    },
    {
     "name": "stdout",
     "output_type": "stream",
     "text": [
      "\n",
      "-66.5\n",
      "O O O O . . . . . . . . . \n",
      ". . . . . . . . X . . . . \n",
      ". . . . . . . . . . . . . \n",
      ". . . . . . . X . . . . . \n",
      ". . . . . . . . . . . X X \n",
      "X . X X . . . . X X . X . \n",
      "X . X . X . . . X X X X X \n",
      "X . X X . X . X X X X X X \n",
      "X X . . . . . X X X X X X \n",
      "X X X X . X X O O O X X X \n",
      "X X X X X X X O X X X X X \n",
      "X X X X X . X . O X X X X \n",
      "X X X X X X X X X X X X X \n",
      "-67.5\n"
     ]
    },
    {
     "data": {
      "application/vnd.jupyter.widget-view+json": {
       "model_id": "542c88c9019e4d90bb8d9e6179a8d358",
       "version_major": 2,
       "version_minor": 0
      },
      "text/plain": [
       "HBox(children=(IntProgress(value=0, max=75), HTML(value='')))"
      ]
     },
     "metadata": {},
     "output_type": "display_data"
    },
    {
     "name": "stdout",
     "output_type": "stream",
     "text": [
      "\n",
      "-66.5\n",
      "O O O O O . . . . . . . . \n",
      ". X . . . . . . X . . . . \n",
      ". . . . . . . . . . . . . \n",
      ". . . . . . . X . . . . . \n",
      ". . . . . . . . . . . X X \n",
      "X . X X . . . . X X . X . \n",
      "X . X . X . . . X X X X X \n",
      "X . X X . X . X X X X X X \n",
      "X X . . . . . X X X X X X \n",
      "X X X X . X X O O O X X X \n",
      "X X X X X X X O X X X X X \n",
      "X X X X X . X . O X X X X \n",
      "X X X X X X X X X X X X X \n",
      "-67.5\n"
     ]
    },
    {
     "data": {
      "application/vnd.jupyter.widget-view+json": {
       "model_id": "c779a39ec60d4f0ca8517277d42358fa",
       "version_major": 2,
       "version_minor": 0
      },
      "text/plain": [
       "HBox(children=(IntProgress(value=0, max=73), HTML(value='')))"
      ]
     },
     "metadata": {},
     "output_type": "display_data"
    },
    {
     "name": "stdout",
     "output_type": "stream",
     "text": [
      "\n",
      "-66.5\n",
      "O O O O O O . . . . . . . \n",
      ". X X . . . . . X . . . . \n",
      ". . . . . . . . . . . . . \n",
      ". . . . . . . X . . . . . \n",
      ". . . . . . . . . . . X X \n",
      "X . X X . . . . X X . X . \n",
      "X . X . X . . . X X X X X \n",
      "X . X X . X . X X X X X X \n",
      "X X . . . . . X X X X X X \n",
      "X X X X . X X O O O X X X \n",
      "X X X X X X X O X X X X X \n",
      "X X X X X . X . O X X X X \n",
      "X X X X X X X X X X X X X \n",
      "-67.5\n"
     ]
    },
    {
     "data": {
      "application/vnd.jupyter.widget-view+json": {
       "model_id": "66d6d6685d8b455d9b419dfb84a01c17",
       "version_major": 2,
       "version_minor": 0
      },
      "text/plain": [
       "HBox(children=(IntProgress(value=0, max=71), HTML(value='')))"
      ]
     },
     "metadata": {},
     "output_type": "display_data"
    },
    {
     "name": "stdout",
     "output_type": "stream",
     "text": [
      "\n",
      "-66.5\n",
      "O O O O O O O . . . . . . \n",
      ". X X . . . . . X . . . . \n",
      "X . . . . . . . . . . . . \n",
      ". . . . . . . X . . . . . \n",
      ". . . . . . . . . . . X X \n",
      "X . X X . . . . X X . X . \n",
      "X . X . X . . . X X X X X \n",
      "X . X X . X . X X X X X X \n",
      "X X . . . . . X X X X X X \n",
      "X X X X . X X O O O X X X \n",
      "X X X X X X X O X X X X X \n",
      "X X X X X . X . O X X X X \n",
      "X X X X X X X X X X X X X \n",
      "-67.5\n"
     ]
    },
    {
     "data": {
      "application/vnd.jupyter.widget-view+json": {
       "model_id": "3d4e5d7ae2954e7ead82d89c0e8a77af",
       "version_major": 2,
       "version_minor": 0
      },
      "text/plain": [
       "HBox(children=(IntProgress(value=0, max=69), HTML(value='')))"
      ]
     },
     "metadata": {},
     "output_type": "display_data"
    },
    {
     "name": "stdout",
     "output_type": "stream",
     "text": [
      "\n",
      "-66.5\n",
      "O O O O O O O O . . . . . \n",
      ". X X . . . X . X . . . . \n",
      "X . . . . . . . . . . . . \n",
      ". . . . . . . X . . . . . \n",
      ". . . . . . . . . . . X X \n",
      "X . X X . . . . X X . X . \n",
      "X . X . X . . . X X X X X \n",
      "X . X X . X . X X X X X X \n",
      "X X . . . . . X X X X X X \n",
      "X X X X . X X O O O X X X \n",
      "X X X X X X X O X X X X X \n",
      "X X X X X . X . O X X X X \n",
      "X X X X X X X X X X X X X \n",
      "-67.5\n"
     ]
    },
    {
     "data": {
      "application/vnd.jupyter.widget-view+json": {
       "model_id": "07571a09e9e44b3da8acf9fd4db02dd1",
       "version_major": 2,
       "version_minor": 0
      },
      "text/plain": [
       "HBox(children=(IntProgress(value=0, max=67), HTML(value='')))"
      ]
     },
     "metadata": {},
     "output_type": "display_data"
    },
    {
     "name": "stdout",
     "output_type": "stream",
     "text": [
      "\n",
      "-66.5\n",
      "O O O O O O O O O . . . . \n",
      ". X X . . . X X X . . . . \n",
      "X . . . . . . . . . . . . \n",
      ". . . . . . . X . . . . . \n",
      ". . . . . . . . . . . X X \n",
      "X . X X . . . . X X . X . \n",
      "X . X . X . . . X X X X X \n",
      "X . X X . X . X X X X X X \n",
      "X X . . . . . X X X X X X \n",
      "X X X X . X X O O O X X X \n",
      "X X X X X X X O X X X X X \n",
      "X X X X X . X . O X X X X \n",
      "X X X X X X X X X X X X X \n",
      "-67.5\n"
     ]
    },
    {
     "data": {
      "application/vnd.jupyter.widget-view+json": {
       "model_id": "e340fb16a95142e9b8aea3f632541971",
       "version_major": 2,
       "version_minor": 0
      },
      "text/plain": [
       "HBox(children=(IntProgress(value=0, max=65), HTML(value='')))"
      ]
     },
     "metadata": {},
     "output_type": "display_data"
    },
    {
     "name": "stdout",
     "output_type": "stream",
     "text": [
      "\n",
      "-66.5\n",
      "O O O O O O O O O O . . . \n",
      ". X X . . . X X X . . . . \n",
      "X . . . . . . . . . . . . \n",
      ". . . . . . . X . . . . . \n",
      ". . . . . . . . . . . X X \n",
      "X . X X . . X . X X . X . \n",
      "X . X . X . . . X X X X X \n",
      "X . X X . X . X X X X X X \n",
      "X X . . . . . X X X X X X \n",
      "X X X X . X X O O O X X X \n",
      "X X X X X X X O X X X X X \n",
      "X X X X X . X . O X X X X \n",
      "X X X X X X X X X X X X X \n",
      "-66.5\n"
     ]
    },
    {
     "data": {
      "application/vnd.jupyter.widget-view+json": {
       "model_id": "0df20184697f4f75a47b5956f868db5d",
       "version_major": 2,
       "version_minor": 0
      },
      "text/plain": [
       "HBox(children=(IntProgress(value=0, max=64), HTML(value='')))"
      ]
     },
     "metadata": {},
     "output_type": "display_data"
    },
    {
     "name": "stdout",
     "output_type": "stream",
     "text": [
      "\n",
      "-65.5\n",
      "O O O O O O O O O O O . . \n",
      ". X X . . . X X X . . . . \n",
      "X . . . . . . . . . . . . \n",
      ". . . . . . . X . . . . . \n",
      ". . . . . . . . . . . X X \n",
      "X . X X . . X . X X . X . \n",
      "X . X . X . . . X X X X X \n",
      "X . X X . X . X X X X X X \n",
      "X X . . . . . X X X X X X \n",
      "X X X X . X X O O O X X X \n",
      "X X X X X X X O X X X X X \n",
      "X X X X X . X . O X X X X \n",
      "X X X X X X X X X X X X X \n",
      "-66.5\n"
     ]
    },
    {
     "data": {
      "application/vnd.jupyter.widget-view+json": {
       "model_id": "a0baeec0777f4a9d9454033b6871f2d3",
       "version_major": 2,
       "version_minor": 0
      },
      "text/plain": [
       "HBox(children=(IntProgress(value=0, max=62), HTML(value='')))"
      ]
     },
     "metadata": {},
     "output_type": "display_data"
    },
    {
     "name": "stdout",
     "output_type": "stream",
     "text": [
      "\n",
      "-65.5\n",
      "O O O O O O O O O O O O . \n",
      ". X X . . . X X X . . . . \n",
      "X . . . . . . . . . . . . \n",
      ". . . . . . . X . X . . . \n",
      ". . . . . . . . . . . X X \n",
      "X . X X . . X . X X . X . \n",
      "X . X . X . . . X X X X X \n",
      "X . X X . X . X X X X X X \n",
      "X X . . . . . X X X X X X \n",
      "X X X X . X X O O O X X X \n",
      "X X X X X X X O X X X X X \n",
      "X X X X X . X . O X X X X \n",
      "X X X X X X X X X X X X X \n",
      "-65.5\n"
     ]
    },
    {
     "data": {
      "application/vnd.jupyter.widget-view+json": {
       "model_id": "839d8cc5eb3640ec8d84cca4cdaeb5ef",
       "version_major": 2,
       "version_minor": 0
      },
      "text/plain": [
       "HBox(children=(IntProgress(value=0, max=61), HTML(value='')))"
      ]
     },
     "metadata": {},
     "output_type": "display_data"
    },
    {
     "name": "stdout",
     "output_type": "stream",
     "text": [
      "\n",
      "-64.5\n",
      "O O O O O O O O O O O O O \n",
      ". X X . . . X X X . . . . \n",
      "X . . . . . . . . . . . . \n",
      ". . . . . . . X . X . . . \n",
      ". . . . . . . . . . . X X \n",
      "X . X X . . X . X X . X . \n",
      "X . X . X . . . X X X X X \n",
      "X . X X . X . X X X X X X \n",
      "X X . . . . . X X X X X X \n",
      "X X X X . X X O O O X X X \n",
      "X X X X X X X O X X X X X \n",
      "X X X X X . X . O X X X X \n",
      "X X X X X X X X X X X X X \n",
      "-65.5\n"
     ]
    },
    {
     "data": {
      "application/vnd.jupyter.widget-view+json": {
       "model_id": "e5df0c8582534a08adcd0ebaddfd5714",
       "version_major": 2,
       "version_minor": 0
      },
      "text/plain": [
       "HBox(children=(IntProgress(value=0, max=59), HTML(value='')))"
      ]
     },
     "metadata": {},
     "output_type": "display_data"
    },
    {
     "name": "stdout",
     "output_type": "stream",
     "text": [
      "\n",
      "-64.5\n",
      "O O O O O O O O O O O O O \n",
      "O X X . . . X X X . . . . \n",
      "X . . . . . . . . . . . . \n",
      ". . . . . . X X . X . . . \n",
      ". . . . . . . . . . . X X \n",
      "X . X X . . X . X X . X . \n",
      "X . X . X . . . X X X X X \n",
      "X . X X . X . X X X X X X \n",
      "X X . . . . . X X X X X X \n",
      "X X X X . X X O O O X X X \n",
      "X X X X X X X O X X X X X \n",
      "X X X X X . X . O X X X X \n",
      "X X X X X X X X X X X X X \n",
      "-64.5\n"
     ]
    },
    {
     "data": {
      "application/vnd.jupyter.widget-view+json": {
       "model_id": "0de91114218146ee9fc979aff0ff9c97",
       "version_major": 2,
       "version_minor": 0
      },
      "text/plain": [
       "HBox(children=(IntProgress(value=0, max=58), HTML(value='')))"
      ]
     },
     "metadata": {},
     "output_type": "display_data"
    },
    {
     "name": "stdout",
     "output_type": "stream",
     "text": [
      "\n",
      "-63.5\n",
      "O O O O O O O O O O O O O \n",
      "O X X O . . X X X . . . . \n",
      "X . . . . . . . . . . . . \n",
      ". . . . . . X X . X . . . \n",
      ". . . . . . . . . . . X X \n",
      "X . X X . . X . X X . X . \n",
      "X . X . X . . . X X X X X \n",
      "X . X X . X . X X X X X X \n",
      "X X . . . . . X X X X X X \n",
      "X X X X . X X O O O X X X \n",
      "X X X X X X X O X X X X X \n",
      "X X X X X . X . O X X X X \n",
      "X X X X X X X X X X X X X \n",
      "-63.5\n"
     ]
    },
    {
     "data": {
      "application/vnd.jupyter.widget-view+json": {
       "model_id": "2e6187834eb8445b85d0d19e1259547e",
       "version_major": 2,
       "version_minor": 0
      },
      "text/plain": [
       "HBox(children=(IntProgress(value=0, max=57), HTML(value='')))"
      ]
     },
     "metadata": {},
     "output_type": "display_data"
    },
    {
     "name": "stdout",
     "output_type": "stream",
     "text": [
      "\n",
      "-62.5\n",
      "O O O O O O O O O O O O O \n",
      "O X X O O . X X X . . . . \n",
      "X . . . . . . . . . . . . \n",
      ". . . . . . X X . X . . . \n",
      ". . . . . . . . . . . X X \n",
      "X . X X . . X . X X . X . \n",
      "X . X . X . . . X X X X X \n",
      "X . X X . X . X X X X X X \n",
      "X X . . . . . X X X X X X \n",
      "X X X X . X X O O O X X X \n",
      "X X X X X X X O X X X X X \n",
      "X X X X X . X . O X X X X \n",
      "X X X X X X X X X X X X X \n",
      "-63.5\n"
     ]
    },
    {
     "data": {
      "application/vnd.jupyter.widget-view+json": {
       "model_id": "354edf25626d4edba34882026781eb59",
       "version_major": 2,
       "version_minor": 0
      },
      "text/plain": [
       "HBox(children=(IntProgress(value=0, max=55), HTML(value='')))"
      ]
     },
     "metadata": {},
     "output_type": "display_data"
    },
    {
     "name": "stdout",
     "output_type": "stream",
     "text": [
      "\n",
      "-62.5\n",
      "O O O O O O O O O O O O O \n",
      "O X X O O O X X X . . . . \n",
      "X . . . . . . . . . . . . \n",
      ". . . . . . X X X X . . . \n",
      ". . . . . . . . . . . X X \n",
      "X . X X . . X . X X . X . \n",
      "X . X . X . . . X X X X X \n",
      "X . X X . X . X X X X X X \n",
      "X X . . . . . X X X X X X \n",
      "X X X X . X X O O O X X X \n",
      "X X X X X X X O X X X X X \n",
      "X X X X X . X . O X X X X \n",
      "X X X X X X X X X X X X X \n",
      "-62.5\n"
     ]
    },
    {
     "data": {
      "application/vnd.jupyter.widget-view+json": {
       "model_id": "9aed80ed410545878f2cf3ea7635ca85",
       "version_major": 2,
       "version_minor": 0
      },
      "text/plain": [
       "HBox(children=(IntProgress(value=0, max=54), HTML(value='')))"
      ]
     },
     "metadata": {},
     "output_type": "display_data"
    },
    {
     "name": "stdout",
     "output_type": "stream",
     "text": [
      "\n",
      "-61.5\n",
      "O O O O O O O O O O O O O \n",
      "O X X O O O X X X O . . . \n",
      "X . . . . . . . . . . . . \n",
      ". . . . . . X X X X . . . \n",
      ". . . . . . . . . . . X X \n",
      "X . X X . . X . X X . X . \n",
      "X . X . X . . . X X X X X \n",
      "X . X X . X . X X X X X X \n",
      "X X . . . . . X X X X X X \n",
      "X X X X . X X O O O X X X \n",
      "X X X X X X X O X X X X X \n",
      "X X X X X . X . O X X X X \n",
      "X X X X X X X X X X X X X \n",
      "-61.5\n"
     ]
    },
    {
     "data": {
      "application/vnd.jupyter.widget-view+json": {
       "model_id": "c630ab5049c1490fb075bfc4f4f71989",
       "version_major": 2,
       "version_minor": 0
      },
      "text/plain": [
       "HBox(children=(IntProgress(value=0, max=53), HTML(value='')))"
      ]
     },
     "metadata": {},
     "output_type": "display_data"
    },
    {
     "name": "stdout",
     "output_type": "stream",
     "text": [
      "\n",
      "-60.5\n",
      "O O O O O O O O O O O O O \n",
      "O X X O O O X X X O O . . \n",
      "X . . . . . . . . . . . . \n",
      ". . . . . . X X X X . . . \n",
      ". . . . . . . . . . . X X \n",
      "X . X X . . X . X X . X . \n",
      "X . X . X . . . X X X X X \n",
      "X . X X . X . X X X X X X \n",
      "X X . . . . . X X X X X X \n",
      "X X X X . X X O O O X X X \n",
      "X X X X X X X O X X X X X \n",
      "X X X X X . X . O X X X X \n",
      "X X X X X X X X X X X X X \n",
      "-60.5\n"
     ]
    },
    {
     "data": {
      "application/vnd.jupyter.widget-view+json": {
       "model_id": "6214d36099ab4aaab1572b370737a486",
       "version_major": 2,
       "version_minor": 0
      },
      "text/plain": [
       "HBox(children=(IntProgress(value=0, max=52), HTML(value='')))"
      ]
     },
     "metadata": {},
     "output_type": "display_data"
    },
    {
     "name": "stdout",
     "output_type": "stream",
     "text": [
      "\n",
      "-59.5\n",
      "O O O O O O O O O O O O O \n",
      "O X X O O O X X X O O O . \n",
      "X . . . . . . . . . . . . \n",
      ". . . . . . X X X X . . . \n",
      ". . . . . . . . . . . X X \n",
      "X . X X . . X . X X . X . \n",
      "X . X . X . . . X X X X X \n",
      "X . X X . X . X X X X X X \n",
      "X X . . . . . X X X X X X \n",
      "X X X X . X X O O O X X X \n",
      "X X X X X X X O X X X X X \n",
      "X X X X X . X . O X X X X \n",
      "X X X X X X X X X X X X X \n",
      "-60.5\n"
     ]
    },
    {
     "data": {
      "application/vnd.jupyter.widget-view+json": {
       "model_id": "6ccf7b16697b447297ebc7fa38a9f869",
       "version_major": 2,
       "version_minor": 0
      },
      "text/plain": [
       "HBox(children=(IntProgress(value=0, max=50), HTML(value='')))"
      ]
     },
     "metadata": {},
     "output_type": "display_data"
    },
    {
     "name": "stdout",
     "output_type": "stream",
     "text": [
      "\n",
      "-59.5\n",
      "O O O O O O O O O O O O O \n",
      "O X X O O O X X X O O O O \n",
      "X . . . . . X . . . . . . \n",
      ". . . . . . X X X X . . . \n",
      ". . . . . . . . . . . X X \n",
      "X . X X . . X . X X . X . \n",
      "X . X . X . . . X X X X X \n",
      "X . X X . X . X X X X X X \n",
      "X X . . . . . X X X X X X \n",
      "X X X X . X X O O O X X X \n",
      "X X X X X X X O X X X X X \n",
      "X X X X X . X . O X X X X \n",
      "X X X X X X X X X X X X X \n",
      "-59.5\n"
     ]
    },
    {
     "data": {
      "application/vnd.jupyter.widget-view+json": {
       "model_id": "623832b688a1487db5afe646a0e1b484",
       "version_major": 2,
       "version_minor": 0
      },
      "text/plain": [
       "HBox(children=(IntProgress(value=0, max=49), HTML(value='')))"
      ]
     },
     "metadata": {},
     "output_type": "display_data"
    },
    {
     "name": "stdout",
     "output_type": "stream",
     "text": [
      "\n",
      "-58.5\n",
      "O O O O O O O O O O O O O \n",
      "O X X O O O X X X O O O O \n",
      "X O . . . . X . . . . . . \n",
      ". . . . . . X X X X . . . \n",
      ". . . . . . . . . . . X X \n",
      "X . X X . . X . X X . X . \n",
      "X . X . X . . . X X X X X \n",
      "X . X X . X . X X X X X X \n",
      "X X . . . . . X X X X X X \n",
      "X X X X . X X O O O X X X \n",
      "X X X X X X X O X X X X X \n",
      "X X X X X . X . O X X X X \n",
      "X X X X X X X X X X X X X \n",
      "-58.5\n"
     ]
    },
    {
     "data": {
      "application/vnd.jupyter.widget-view+json": {
       "model_id": "035cf520eefe42da9d427e3eeb366280",
       "version_major": 2,
       "version_minor": 0
      },
      "text/plain": [
       "HBox(children=(IntProgress(value=0, max=48), HTML(value='')))"
      ]
     },
     "metadata": {},
     "output_type": "display_data"
    },
    {
     "name": "stdout",
     "output_type": "stream",
     "text": [
      "\n",
      "-57.5\n",
      "O O O O O O O O O O O O O \n",
      "O X X O O O X X X O O O O \n",
      "X O . O . . X . . . . . . \n",
      ". . . . . . X X X X . . . \n",
      ". . . . . . . . . . . X X \n",
      "X . X X . . X . X X . X . \n",
      "X . X . X . . . X X X X X \n",
      "X . X X . X . X X X X X X \n",
      "X X . . . . . X X X X X X \n",
      "X X X X . X X O O O X X X \n",
      "X X X X X X X O X X X X X \n",
      "X X X X X . X . O X X X X \n",
      "X X X X X X X X X X X X X \n",
      "-58.5\n"
     ]
    },
    {
     "data": {
      "application/vnd.jupyter.widget-view+json": {
       "model_id": "be95f27325654a85b337f6a54498c1bd",
       "version_major": 2,
       "version_minor": 0
      },
      "text/plain": [
       "HBox(children=(IntProgress(value=0, max=46), HTML(value='')))"
      ]
     },
     "metadata": {},
     "output_type": "display_data"
    },
    {
     "name": "stdout",
     "output_type": "stream",
     "text": [
      "\n",
      "-57.5\n",
      "O O O O O O O O O O O O O \n",
      "O X X O O O X X X O O O O \n",
      "X O . O O X X . . . . . . \n",
      ". . . . . . X X X X . . . \n",
      ". . . . . . . . . . . X X \n",
      "X . X X . . X . X X . X . \n",
      "X . X . X . . . X X X X X \n",
      "X . X X . X . X X X X X X \n",
      "X X . . . . . X X X X X X \n",
      "X X X X . X X O O O X X X \n",
      "X X X X X X X O X X X X X \n",
      "X X X X X . X . O X X X X \n",
      "X X X X X X X X X X X X X \n",
      "-58.5\n"
     ]
    },
    {
     "data": {
      "application/vnd.jupyter.widget-view+json": {
       "model_id": "55e863c39b6541789ff0aa8d47ef3bfe",
       "version_major": 2,
       "version_minor": 0
      },
      "text/plain": [
       "HBox(children=(IntProgress(value=0, max=44), HTML(value='')))"
      ]
     },
     "metadata": {},
     "output_type": "display_data"
    },
    {
     "name": "stdout",
     "output_type": "stream",
     "text": [
      "\n",
      "-57.5\n",
      "O O O O O O O O O O O O O \n",
      "O X X O O O X X X O O O O \n",
      "X O . O O X X O . . . . . \n",
      ". . . X . . X X X X . . . \n",
      ". . . . . . . . . . . X X \n",
      "X . X X . . X . X X . X . \n",
      "X . X . X . . . X X X X X \n",
      "X . X X . X . X X X X X X \n",
      "X X . . . . . X X X X X X \n",
      "X X X X . X X O O O X X X \n",
      "X X X X X X X O X X X X X \n",
      "X X X X X . X . O X X X X \n",
      "X X X X X X X X X X X X X \n",
      "-57.5\n"
     ]
    },
    {
     "data": {
      "application/vnd.jupyter.widget-view+json": {
       "model_id": "fe2d0cc85076468b92e5cddd197095d2",
       "version_major": 2,
       "version_minor": 0
      },
      "text/plain": [
       "HBox(children=(IntProgress(value=0, max=43), HTML(value='')))"
      ]
     },
     "metadata": {},
     "output_type": "display_data"
    },
    {
     "name": "stdout",
     "output_type": "stream",
     "text": [
      "\n",
      "-56.5\n",
      "O O O O O O O O O O O O O \n",
      "O X X O O O X X X O O O O \n",
      "X O . O O X X O O . . . . \n",
      ". . . X . . X X X X . . . \n",
      ". . . . . . . . . . . X X \n",
      "X . X X . . X . X X . X . \n",
      "X . X . X . . . X X X X X \n",
      "X . X X . X . X X X X X X \n",
      "X X . . . . . X X X X X X \n",
      "X X X X . X X O O O X X X \n",
      "X X X X X X X O X X X X X \n",
      "X X X X X . X . O X X X X \n",
      "X X X X X X X X X X X X X \n",
      "-56.5\n"
     ]
    },
    {
     "data": {
      "application/vnd.jupyter.widget-view+json": {
       "model_id": "ad18ca1dabf7477baf271d283afed9f1",
       "version_major": 2,
       "version_minor": 0
      },
      "text/plain": [
       "HBox(children=(IntProgress(value=0, max=42), HTML(value='')))"
      ]
     },
     "metadata": {},
     "output_type": "display_data"
    },
    {
     "name": "stdout",
     "output_type": "stream",
     "text": [
      "\n",
      "-55.5\n",
      "O O O O O O O O O O O O O \n",
      "O X X O O O X X X O O O O \n",
      "X O . O O X X O O O . . . \n",
      ". . . X . . X X X X . . . \n",
      ". . . . . . . . . . . X X \n",
      "X . X X . . X . X X . X . \n",
      "X . X . X . . . X X X X X \n",
      "X . X X . X . X X X X X X \n",
      "X X . . . . . X X X X X X \n",
      "X X X X . X X O O O X X X \n",
      "X X X X X X X O X X X X X \n",
      "X X X X X . X . O X X X X \n",
      "X X X X X X X X X X X X X \n",
      "-55.5\n"
     ]
    },
    {
     "data": {
      "application/vnd.jupyter.widget-view+json": {
       "model_id": "040df835593f4207ab0237bfb31627e6",
       "version_major": 2,
       "version_minor": 0
      },
      "text/plain": [
       "HBox(children=(IntProgress(value=0, max=41), HTML(value='')))"
      ]
     },
     "metadata": {},
     "output_type": "display_data"
    },
    {
     "name": "stdout",
     "output_type": "stream",
     "text": [
      "\n",
      "-54.5\n",
      "O O O O O O O O O O O O O \n",
      "O X X O O O X X X O O O O \n",
      "X O . O O X X O O O O . . \n",
      ". . . X . . X X X X . . . \n",
      ". . . . . . . . . . . X X \n",
      "X . X X . . X . X X . X . \n",
      "X . X . X . . . X X X X X \n",
      "X . X X . X . X X X X X X \n",
      "X X . . . . . X X X X X X \n",
      "X X X X . X X O O O X X X \n",
      "X X X X X X X O X X X X X \n",
      "X X X X X . X . O X X X X \n",
      "X X X X X X X X X X X X X \n",
      "-54.5\n"
     ]
    },
    {
     "data": {
      "application/vnd.jupyter.widget-view+json": {
       "model_id": "ccf44ccb361e4641ae6a78864e394f15",
       "version_major": 2,
       "version_minor": 0
      },
      "text/plain": [
       "HBox(children=(IntProgress(value=0, max=40), HTML(value='')))"
      ]
     },
     "metadata": {},
     "output_type": "display_data"
    },
    {
     "name": "stdout",
     "output_type": "stream",
     "text": [
      "\n",
      "-53.5\n",
      "O O O O O O O O O O O O O \n",
      "O X X O O O X X X O O O O \n",
      "X O . O O X X O O O O O . \n",
      ". . . X . . X X X X . . . \n",
      ". . . . . . . . . . . X X \n",
      "X . X X . . X . X X . X . \n",
      "X . X . X . . . X X X X X \n",
      "X . X X . X . X X X X X X \n",
      "X X . . . . . X X X X X X \n",
      "X X X X . X X O O O X X X \n",
      "X X X X X X X O X X X X X \n",
      "X X X X X . X . O X X X X \n",
      "X X X X X X X X X X X X X \n",
      "-53.5\n"
     ]
    },
    {
     "data": {
      "application/vnd.jupyter.widget-view+json": {
       "model_id": "d97afb751ec6496db2f140c8acc983fc",
       "version_major": 2,
       "version_minor": 0
      },
      "text/plain": [
       "HBox(children=(IntProgress(value=0, max=39), HTML(value='')))"
      ]
     },
     "metadata": {},
     "output_type": "display_data"
    },
    {
     "name": "stdout",
     "output_type": "stream",
     "text": [
      "\n",
      "-52.5\n",
      "O O O O O O O O O O O O O \n",
      "O X X O O O X X X O O O O \n",
      "X O . O O X X O O O O O O \n",
      ". . . X . . X X X X . . . \n",
      ". . . . . . . . . . . X X \n",
      "X . X X . . X . X X . X . \n",
      "X . X . X . . . X X X X X \n",
      "X . X X . X . X X X X X X \n",
      "X X . . . . . X X X X X X \n",
      "X X X X . X X O O O X X X \n",
      "X X X X X X X O X X X X X \n",
      "X X X X X . X . O X X X X \n",
      "X X X X X X X X X X X X X \n",
      "-52.5\n"
     ]
    },
    {
     "data": {
      "application/vnd.jupyter.widget-view+json": {
       "model_id": "96ff0d223c4040d0b362f09e825c0b8a",
       "version_major": 2,
       "version_minor": 0
      },
      "text/plain": [
       "HBox(children=(IntProgress(value=0, max=38), HTML(value='')))"
      ]
     },
     "metadata": {},
     "output_type": "display_data"
    },
    {
     "name": "stdout",
     "output_type": "stream",
     "text": [
      "\n",
      "-51.5\n",
      "O O O O O O O O O O O O O \n",
      "O X X O O O X X X O O O O \n",
      "X O . O O X X O O O O O O \n",
      ". O . X . . X X X X . . . \n",
      ". . . . . . . . . . . X X \n",
      "X . X X . . X . X X . X . \n",
      "X . X . X . . . X X X X X \n",
      "X . X X . X . X X X X X X \n",
      "X X . . . . . X X X X X X \n",
      "X X X X . X X O O O X X X \n",
      "X X X X X X X O X X X X X \n",
      "X X X X X . X . O X X X X \n",
      "X X X X X X X X X X X X X \n",
      "-51.5\n"
     ]
    },
    {
     "data": {
      "application/vnd.jupyter.widget-view+json": {
       "model_id": "273716b07cb7469589f8c8c148b19698",
       "version_major": 2,
       "version_minor": 0
      },
      "text/plain": [
       "HBox(children=(IntProgress(value=0, max=37), HTML(value='')))"
      ]
     },
     "metadata": {},
     "output_type": "display_data"
    },
    {
     "name": "stdout",
     "output_type": "stream",
     "text": [
      "\n",
      "-50.5\n",
      "O O O O O O O O O O O O O \n",
      "O X X O O O X X X O O O O \n",
      "X O . O O X X O O O O O O \n",
      ". O O X . . X X X X . . . \n",
      ". . . . . . . . . . . X X \n",
      "X . X X . . X . X X . X . \n",
      "X . X . X . . . X X X X X \n",
      "X . X X . X . X X X X X X \n",
      "X X . . . . . X X X X X X \n",
      "X X X X . X X O O O X X X \n",
      "X X X X X X X O X X X X X \n",
      "X X X X X . X . O X X X X \n",
      "X X X X X X X X X X X X X \n",
      "-50.5\n"
     ]
    },
    {
     "data": {
      "application/vnd.jupyter.widget-view+json": {
       "model_id": "27955b86b94b42549e53f2abea0b0ede",
       "version_major": 2,
       "version_minor": 0
      },
      "text/plain": [
       "HBox(children=(IntProgress(value=0, max=36), HTML(value='')))"
      ]
     },
     "metadata": {},
     "output_type": "display_data"
    },
    {
     "name": "stdout",
     "output_type": "stream",
     "text": [
      "\n",
      "-49.5\n",
      "O O O O O O O O O O O O O \n",
      "O X X O O O X X X O O O O \n",
      "X O . O O X X O O O O O O \n",
      ". O O X O . X X X X . . . \n",
      ". . . . . . . . . . . X X \n",
      "X . X X . . X . X X . X . \n",
      "X . X . X . . . X X X X X \n",
      "X . X X . X . X X X X X X \n",
      "X X . . . . . X X X X X X \n",
      "X X X X . X X O O O X X X \n",
      "X X X X X X X O X X X X X \n",
      "X X X X X . X . O X X X X \n",
      "X X X X X X X X X X X X X \n",
      "-49.5\n"
     ]
    },
    {
     "data": {
      "application/vnd.jupyter.widget-view+json": {
       "model_id": "d9d7ba398a6d437899fe79f424b75e17",
       "version_major": 2,
       "version_minor": 0
      },
      "text/plain": [
       "HBox(children=(IntProgress(value=0, max=35), HTML(value='')))"
      ]
     },
     "metadata": {},
     "output_type": "display_data"
    },
    {
     "name": "stdout",
     "output_type": "stream",
     "text": [
      "\n",
      "-48.5\n",
      "O O O O O O O O O O O O O \n",
      "O X X O O O X X X O O O O \n",
      "X O . O O X X O O O O O O \n",
      ". O O X O O X X X X . . . \n",
      ". . . . . . . . . . . X X \n",
      "X . X X . . X . X X . X . \n",
      "X . X . X . . . X X X X X \n",
      "X . X X . X . X X X X X X \n",
      "X X . . . . . X X X X X X \n",
      "X X X X . X X O O O X X X \n",
      "X X X X X X X O X X X X X \n",
      "X X X X X . X . O X X X X \n",
      "X X X X X X X X X X X X X \n",
      "-48.5\n"
     ]
    },
    {
     "data": {
      "application/vnd.jupyter.widget-view+json": {
       "model_id": "409ee541644c45d9982b7e09f8085de0",
       "version_major": 2,
       "version_minor": 0
      },
      "text/plain": [
       "HBox(children=(IntProgress(value=0, max=34), HTML(value='')))"
      ]
     },
     "metadata": {},
     "output_type": "display_data"
    },
    {
     "name": "stdout",
     "output_type": "stream",
     "text": [
      "\n",
      "-47.5\n",
      "O O O O O O O O O O O O O \n",
      "O X X O O O X X X O O O O \n",
      "X O . O O X X O O O O O O \n",
      ". O O X O O X X X X O . . \n",
      ". . . . . . . . . . . X X \n",
      "X . X X . . X . X X . X . \n",
      "X . X . X . . . X X X X X \n",
      "X . X X . X . X X X X X X \n",
      "X X . . . . . X X X X X X \n",
      "X X X X . X X O O O X X X \n",
      "X X X X X X X O X X X X X \n",
      "X X X X X . X . O X X X X \n",
      "X X X X X X X X X X X X X \n",
      "-47.5\n"
     ]
    },
    {
     "data": {
      "application/vnd.jupyter.widget-view+json": {
       "model_id": "b718e56a75a843688418d9cf596facc4",
       "version_major": 2,
       "version_minor": 0
      },
      "text/plain": [
       "HBox(children=(IntProgress(value=0, max=33), HTML(value='')))"
      ]
     },
     "metadata": {},
     "output_type": "display_data"
    },
    {
     "name": "stdout",
     "output_type": "stream",
     "text": [
      "\n",
      "-46.5\n",
      "O O O O O O O O O O O O O \n",
      "O X X O O O X X X O O O O \n",
      "X O . O O X X O O O O O O \n",
      ". O O X O O X X X X O O . \n",
      ". . . . . . . . . . . X X \n",
      "X . X X . . X . X X . X . \n",
      "X . X . X . . . X X X X X \n",
      "X . X X . X . X X X X X X \n",
      "X X . . . . . X X X X X X \n",
      "X X X X . X X O O O X X X \n",
      "X X X X X X X O X X X X X \n",
      "X X X X X . X . O X X X X \n",
      "X X X X X X X X X X X X X \n",
      "-46.5\n"
     ]
    },
    {
     "data": {
      "application/vnd.jupyter.widget-view+json": {
       "model_id": "c7a7430ee13d4564932c14da16f42282",
       "version_major": 2,
       "version_minor": 0
      },
      "text/plain": [
       "HBox(children=(IntProgress(value=0, max=32), HTML(value='')))"
      ]
     },
     "metadata": {},
     "output_type": "display_data"
    },
    {
     "name": "stdout",
     "output_type": "stream",
     "text": [
      "\n",
      "-45.5\n",
      "O O O O O O O O O O O O O \n",
      "O X X O O O X X X O O O O \n",
      "X O . O O X X O O O O O O \n",
      ". O O X O O X X X X O O O \n",
      ". . . . . . . . . . . X X \n",
      "X . X X . . X . X X . X . \n",
      "X . X . X . . . X X X X X \n",
      "X . X X . X . X X X X X X \n",
      "X X . . . . . X X X X X X \n",
      "X X X X . X X O O O X X X \n",
      "X X X X X X X O X X X X X \n",
      "X X X X X . X . O X X X X \n",
      "X X X X X X X X X X X X X \n",
      "-45.5\n"
     ]
    },
    {
     "data": {
      "application/vnd.jupyter.widget-view+json": {
       "model_id": "aaa2c45ffe2c4d978c6635c508cc5220",
       "version_major": 2,
       "version_minor": 0
      },
      "text/plain": [
       "HBox(children=(IntProgress(value=0, max=31), HTML(value='')))"
      ]
     },
     "metadata": {},
     "output_type": "display_data"
    },
    {
     "name": "stdout",
     "output_type": "stream",
     "text": [
      "\n",
      "-44.5\n",
      "O O O O O O O O O O O O O \n",
      "O X X O O O X X X O O O O \n",
      "X O . O O X X O O O O O O \n",
      ". O O X O O X X X X O O O \n",
      "O . . . . . . . . . . X X \n",
      "X . X X . . X . X X . X . \n",
      "X . X . X . . . X X X X X \n",
      "X . X X . X . X X X X X X \n",
      "X X . . . . . X X X X X X \n",
      "X X X X . X X O O O X X X \n",
      "X X X X X X X O X X X X X \n",
      "X X X X X . X . O X X X X \n",
      "X X X X X X X X X X X X X \n",
      "-44.5\n"
     ]
    },
    {
     "data": {
      "application/vnd.jupyter.widget-view+json": {
       "model_id": "decab4b287b34d059f4c7891dad0e4a0",
       "version_major": 2,
       "version_minor": 0
      },
      "text/plain": [
       "HBox(children=(IntProgress(value=0, max=30), HTML(value='')))"
      ]
     },
     "metadata": {},
     "output_type": "display_data"
    },
    {
     "name": "stdout",
     "output_type": "stream",
     "text": [
      "\n",
      "-43.5\n",
      "O O O O O O O O O O O O O \n",
      "O X X O O O X X X O O O O \n",
      "X O . O O X X O O O O O O \n",
      ". O O X O O X X X X O O O \n",
      "O O . . . . . . . . . X X \n",
      "X . X X . . X . X X . X . \n",
      "X . X . X . . . X X X X X \n",
      "X . X X . X . X X X X X X \n",
      "X X . . . . . X X X X X X \n",
      "X X X X . X X O O O X X X \n",
      "X X X X X X X O X X X X X \n",
      "X X X X X . X . O X X X X \n",
      "X X X X X X X X X X X X X \n",
      "-43.5\n"
     ]
    },
    {
     "data": {
      "application/vnd.jupyter.widget-view+json": {
       "model_id": "28d2fd4dfe3741a7bf0ed1dfd41656ec",
       "version_major": 2,
       "version_minor": 0
      },
      "text/plain": [
       "HBox(children=(IntProgress(value=0, max=29), HTML(value='')))"
      ]
     },
     "metadata": {},
     "output_type": "display_data"
    },
    {
     "name": "stdout",
     "output_type": "stream",
     "text": [
      "\n",
      "-42.5\n",
      "O O O O O O O O O O O O O \n",
      "O X X O O O X X X O O O O \n",
      "X O . O O X X O O O O O O \n",
      ". O O X O O X X X X O O O \n",
      "O O O . . . . . . . . X X \n",
      "X . X X . . X . X X . X . \n",
      "X . X . X . . . X X X X X \n",
      "X . X X . X . X X X X X X \n",
      "X X . . . . . X X X X X X \n",
      "X X X X . X X O O O X X X \n",
      "X X X X X X X O X X X X X \n",
      "X X X X X . X . O X X X X \n",
      "X X X X X X X X X X X X X \n",
      "-42.5\n"
     ]
    },
    {
     "data": {
      "application/vnd.jupyter.widget-view+json": {
       "model_id": "4adeaea58d7a44b595fd93c1048268ff",
       "version_major": 2,
       "version_minor": 0
      },
      "text/plain": [
       "HBox(children=(IntProgress(value=0, max=28), HTML(value='')))"
      ]
     },
     "metadata": {},
     "output_type": "display_data"
    },
    {
     "name": "stdout",
     "output_type": "stream",
     "text": [
      "\n",
      "-41.5\n",
      "O O O O O O O O O O O O O \n",
      "O X X O O O X X X O O O O \n",
      "X O . O O X X O O O O O O \n",
      ". O O X O O X X X X O O O \n",
      "O O O . O . . . . . . X X \n",
      "X . X X . . X . X X . X . \n",
      "X . X . X . . . X X X X X \n",
      "X . X X . X . X X X X X X \n",
      "X X . . . . . X X X X X X \n",
      "X X X X . X X O O O X X X \n",
      "X X X X X X X O X X X X X \n",
      "X X X X X . X . O X X X X \n",
      "X X X X X X X X X X X X X \n",
      "-41.5\n"
     ]
    },
    {
     "data": {
      "application/vnd.jupyter.widget-view+json": {
       "model_id": "b6e2b0b5f3234a2887250143f84fe839",
       "version_major": 2,
       "version_minor": 0
      },
      "text/plain": [
       "HBox(children=(IntProgress(value=0, max=27), HTML(value='')))"
      ]
     },
     "metadata": {},
     "output_type": "display_data"
    },
    {
     "name": "stdout",
     "output_type": "stream",
     "text": [
      "\n",
      "-40.5\n",
      "O O O O O O O O O O O O O \n",
      "O X X O O O X X X O O O O \n",
      "X O . O O X X O O O O O O \n",
      ". O O X O O X X X X O O O \n",
      "O O O . O O . . . . . X X \n",
      "X . X X . . X . X X . X . \n",
      "X . X . X . . . X X X X X \n",
      "X . X X . X . X X X X X X \n",
      "X X . . . . . X X X X X X \n",
      "X X X X . X X O O O X X X \n",
      "X X X X X X X O X X X X X \n",
      "X X X X X . X . O X X X X \n",
      "X X X X X X X X X X X X X \n",
      "-40.5\n"
     ]
    },
    {
     "data": {
      "application/vnd.jupyter.widget-view+json": {
       "model_id": "f02605b003fe4d8788cdf09ab7bfdbd4",
       "version_major": 2,
       "version_minor": 0
      },
      "text/plain": [
       "HBox(children=(IntProgress(value=0, max=26), HTML(value='')))"
      ]
     },
     "metadata": {},
     "output_type": "display_data"
    },
    {
     "name": "stdout",
     "output_type": "stream",
     "text": [
      "\n",
      "-39.5\n",
      "O O O O O O O O O O O O O \n",
      "O X X O O O X X X O O O O \n",
      "X O . O O X X O O O O O O \n",
      ". O O X O O X X X X O O O \n",
      "O O O . O O O . . . . X X \n",
      "X . X X . . X . X X . X . \n",
      "X . X . X . . . X X X X X \n",
      "X . X X . X . X X X X X X \n",
      "X X . . . . . X X X X X X \n",
      "X X X X . X X O O O X X X \n",
      "X X X X X X X O X X X X X \n",
      "X X X X X . X . O X X X X \n",
      "X X X X X X X X X X X X X \n",
      "-39.5\n"
     ]
    },
    {
     "data": {
      "application/vnd.jupyter.widget-view+json": {
       "model_id": "0983ad4169e648e1b0e9243425254603",
       "version_major": 2,
       "version_minor": 0
      },
      "text/plain": [
       "HBox(children=(IntProgress(value=0, max=25), HTML(value='')))"
      ]
     },
     "metadata": {},
     "output_type": "display_data"
    },
    {
     "name": "stdout",
     "output_type": "stream",
     "text": [
      "\n",
      "-38.5\n",
      "O O O O O O O O O O O O O \n",
      "O X X O O O X X X O O O O \n",
      "X O . O O X X O O O O O O \n",
      ". O O X O O X X X X O O O \n",
      "O O O . O O O O . . . X X \n",
      "X . X X . . X . X X . X . \n",
      "X . X . X . . . X X X X X \n",
      "X . X X . X . X X X X X X \n",
      "X X . . . . . X X X X X X \n",
      "X X X X . X X O O O X X X \n",
      "X X X X X X X O X X X X X \n",
      "X X X X X . X . O X X X X \n",
      "X X X X X X X X X X X X X \n",
      "-38.5\n"
     ]
    },
    {
     "data": {
      "application/vnd.jupyter.widget-view+json": {
       "model_id": "a432fec6b36c46d3acb37138211b877a",
       "version_major": 2,
       "version_minor": 0
      },
      "text/plain": [
       "HBox(children=(IntProgress(value=0, max=24), HTML(value='')))"
      ]
     },
     "metadata": {},
     "output_type": "display_data"
    },
    {
     "name": "stdout",
     "output_type": "stream",
     "text": [
      "\n",
      "-37.5\n",
      "O O O O O O O O O O O O O \n",
      "O X X O O O X X X O O O O \n",
      "X O . O O X X O O O O O O \n",
      ". O O X O O X X X X O O O \n",
      "O O O . O O O O O . . X X \n",
      "X . X X . . X . X X . X . \n",
      "X . X . X . . . X X X X X \n",
      "X . X X . X . X X X X X X \n",
      "X X . . . . . X X X X X X \n",
      "X X X X . X X O O O X X X \n",
      "X X X X X X X O X X X X X \n",
      "X X X X X . X . O X X X X \n",
      "X X X X X X X X X X X X X \n",
      "-37.5\n"
     ]
    },
    {
     "data": {
      "application/vnd.jupyter.widget-view+json": {
       "model_id": "2bcd0402f38a475e86116a84a00f8784",
       "version_major": 2,
       "version_minor": 0
      },
      "text/plain": [
       "HBox(children=(IntProgress(value=0, max=23), HTML(value='')))"
      ]
     },
     "metadata": {},
     "output_type": "display_data"
    },
    {
     "name": "stdout",
     "output_type": "stream",
     "text": [
      "\n",
      "-36.5\n",
      "O O O O O O O O O O O O O \n",
      "O X X O O O X X X O O O O \n",
      "X O . O O X X O O O O O O \n",
      ". O O X O O X X X X O O O \n",
      "O O O . O O O O O . O X X \n",
      "X . X X . . X . X X . X . \n",
      "X . X . X . . . X X X X X \n",
      "X . X X . X . X X X X X X \n",
      "X X . . . . . X X X X X X \n",
      "X X X X . X X O O O X X X \n",
      "X X X X X X X O X X X X X \n",
      "X X X X X . X . O X X X X \n",
      "X X X X X X X X X X X X X \n",
      "-36.5\n"
     ]
    },
    {
     "data": {
      "application/vnd.jupyter.widget-view+json": {
       "model_id": "7ae1e1fca1124986823f9841d581f04a",
       "version_major": 2,
       "version_minor": 0
      },
      "text/plain": [
       "HBox(children=(IntProgress(value=0, max=22), HTML(value='')))"
      ]
     },
     "metadata": {},
     "output_type": "display_data"
    },
    {
     "name": "stdout",
     "output_type": "stream",
     "text": [
      "\n",
      "-35.5\n",
      "O O O O O O O O O O O O O \n",
      "O X X O O O X X X O O O O \n",
      "X O . O O X X O O O O O O \n",
      ". O O X O O X X X X O O O \n",
      "O O O . O O O O O . O X X \n",
      "X O X X . . X . X X . X . \n",
      "X . X . X . . . X X X X X \n",
      "X . X X . X . X X X X X X \n",
      "X X . . . . . X X X X X X \n",
      "X X X X . X X O O O X X X \n",
      "X X X X X X X O X X X X X \n",
      "X X X X X . X . O X X X X \n",
      "X X X X X X X X X X X X X \n",
      "-35.5\n"
     ]
    },
    {
     "data": {
      "application/vnd.jupyter.widget-view+json": {
       "model_id": "4f5b2a71dca3481391a1449bcb816f82",
       "version_major": 2,
       "version_minor": 0
      },
      "text/plain": [
       "HBox(children=(IntProgress(value=0, max=21), HTML(value='')))"
      ]
     },
     "metadata": {},
     "output_type": "display_data"
    },
    {
     "name": "stdout",
     "output_type": "stream",
     "text": [
      "\n",
      "-34.5\n",
      "O O O O O O O O O O O O O \n",
      "O X X O O O X X X O O O O \n",
      "X O . O O X X O O O O O O \n",
      ". O O X O O X X X X O O O \n",
      "O O O . O O O O O . O X X \n",
      "X O X X O . X . X X . X . \n",
      "X . X . X . . . X X X X X \n",
      "X . X X . X . X X X X X X \n",
      "X X . . . . . X X X X X X \n",
      "X X X X . X X O O O X X X \n",
      "X X X X X X X O X X X X X \n",
      "X X X X X . X . O X X X X \n",
      "X X X X X X X X X X X X X \n",
      "-34.5\n"
     ]
    },
    {
     "data": {
      "application/vnd.jupyter.widget-view+json": {
       "model_id": "120240ac37754a6b8c385d2aff383de4",
       "version_major": 2,
       "version_minor": 0
      },
      "text/plain": [
       "HBox(children=(IntProgress(value=0, max=20), HTML(value='')))"
      ]
     },
     "metadata": {},
     "output_type": "display_data"
    },
    {
     "name": "stdout",
     "output_type": "stream",
     "text": [
      "\n",
      "-33.5\n",
      "O O O O O O O O O O O O O \n",
      "O X X O O O X X X O O O O \n",
      "X O . O O X X O O O O O O \n",
      ". O O X O O X X X X O O O \n",
      "O O O . O O O O O . O X X \n",
      "X O X X O O X . X X . X . \n",
      "X . X . X . . . X X X X X \n",
      "X . X X . X . X X X X X X \n",
      "X X . . . . . X X X X X X \n",
      "X X X X . X X O O O X X X \n",
      "X X X X X X X O X X X X X \n",
      "X X X X X . X . O X X X X \n",
      "X X X X X X X X X X X X X \n",
      "-33.5\n"
     ]
    },
    {
     "data": {
      "application/vnd.jupyter.widget-view+json": {
       "model_id": "ed414fc61a984bff8f618d7937290311",
       "version_major": 2,
       "version_minor": 0
      },
      "text/plain": [
       "HBox(children=(IntProgress(value=0, max=19), HTML(value='')))"
      ]
     },
     "metadata": {},
     "output_type": "display_data"
    },
    {
     "name": "stdout",
     "output_type": "stream",
     "text": [
      "\n",
      "-32.5\n",
      "O O O O O O O O O O O O O \n",
      "O X X O O O X X X O O O O \n",
      "X O . O O X X O O O O O O \n",
      ". O O X O O X X X X O O O \n",
      "O O O . O O O O O . O X X \n",
      "X O X X O O X O X X . X . \n",
      "X . X . X . . . X X X X X \n",
      "X . X X . X . X X X X X X \n",
      "X X . . . . . X X X X X X \n",
      "X X X X . X X O O O X X X \n",
      "X X X X X X X O X X X X X \n",
      "X X X X X . X . O X X X X \n",
      "X X X X X X X X X X X X X \n",
      "-32.5\n"
     ]
    },
    {
     "data": {
      "application/vnd.jupyter.widget-view+json": {
       "model_id": "17f3a805820b4e6db61b8e383f9a8dd7",
       "version_major": 2,
       "version_minor": 0
      },
      "text/plain": [
       "HBox(children=(IntProgress(value=0, max=18), HTML(value='')))"
      ]
     },
     "metadata": {},
     "output_type": "display_data"
    },
    {
     "name": "stdout",
     "output_type": "stream",
     "text": [
      "\n",
      "-31.5\n",
      "O O O O O O O O O O O O O \n",
      "O X X O O O X X X O O O O \n",
      "X O . O O X X O O O O O O \n",
      ". O O X O O X X X X O O O \n",
      "O O O . O O O O O . O X X \n",
      "X O X X O O X O X X O X . \n",
      "X . X . X . . . X X X X X \n",
      "X . X X . X . X X X X X X \n",
      "X X . . . . . X X X X X X \n",
      "X X X X . X X O O O X X X \n",
      "X X X X X X X O X X X X X \n",
      "X X X X X . X . O X X X X \n",
      "X X X X X X X X X X X X X \n",
      "-31.5\n"
     ]
    },
    {
     "data": {
      "application/vnd.jupyter.widget-view+json": {
       "model_id": "e15aa7307b4a41218a7d393fe2df4ec1",
       "version_major": 2,
       "version_minor": 0
      },
      "text/plain": [
       "HBox(children=(IntProgress(value=0, max=17), HTML(value='')))"
      ]
     },
     "metadata": {},
     "output_type": "display_data"
    },
    {
     "name": "stdout",
     "output_type": "stream",
     "text": [
      "\n",
      "-30.5\n",
      "O O O O O O O O O O O O O \n",
      "O X X O O O X X X O O O O \n",
      "X O . O O X X O O O O O O \n",
      ". O O X O O X X X X O O O \n",
      "O O O . O O O O O . O X X \n",
      "X O X X O O X O X X O X . \n",
      "X O X . X . . . X X X X X \n",
      "X . X X . X . X X X X X X \n",
      "X X . . . . . X X X X X X \n",
      "X X X X . X X O O O X X X \n",
      "X X X X X X X O X X X X X \n",
      "X X X X X . X . O X X X X \n",
      "X X X X X X X X X X X X X \n",
      "-30.5\n"
     ]
    },
    {
     "data": {
      "application/vnd.jupyter.widget-view+json": {
       "model_id": "cf65941ab91d44319ceab482e78bb959",
       "version_major": 2,
       "version_minor": 0
      },
      "text/plain": [
       "HBox(children=(IntProgress(value=0, max=16), HTML(value='')))"
      ]
     },
     "metadata": {},
     "output_type": "display_data"
    },
    {
     "name": "stdout",
     "output_type": "stream",
     "text": [
      "\n",
      "-29.5\n",
      "O O O O O O O O O O O O O \n",
      "O X X O O O X X X O O O O \n",
      "X O . O O X X O O O O O O \n",
      ". O O X O O X X X X O O O \n",
      "O O O . O O O O O . O X X \n",
      "X O X X O O X O X X O X . \n",
      "X O X . X O . . X X X X X \n",
      "X . X X . X . X X X X X X \n",
      "X X . . . . . X X X X X X \n",
      "X X X X . X X O O O X X X \n",
      "X X X X X X X O X X X X X \n",
      "X X X X X . X . O X X X X \n",
      "X X X X X X X X X X X X X \n",
      "-29.5\n"
     ]
    },
    {
     "data": {
      "application/vnd.jupyter.widget-view+json": {
       "model_id": "9e0afd06d63b41e88fe4fd9d8ba3c38a",
       "version_major": 2,
       "version_minor": 0
      },
      "text/plain": [
       "HBox(children=(IntProgress(value=0, max=15), HTML(value='')))"
      ]
     },
     "metadata": {},
     "output_type": "display_data"
    },
    {
     "name": "stdout",
     "output_type": "stream",
     "text": [
      "\n",
      "-28.5\n",
      "O O O O O O O O O O O O O \n",
      "O X X O O O X X X O O O O \n",
      "X O . O O X X O O O O O O \n",
      ". O O X O O X X X X O O O \n",
      "O O O . O O O O O . O X X \n",
      "X O X X O O X O X X O X . \n",
      "X O X . X O . O X X X X X \n",
      "X . X X . X . X X X X X X \n",
      "X X . . . . . X X X X X X \n",
      "X X X X . X X O O O X X X \n",
      "X X X X X X X O X X X X X \n",
      "X X X X X . X . O X X X X \n",
      "X X X X X X X X X X X X X \n",
      "-28.5\n"
     ]
    },
    {
     "data": {
      "application/vnd.jupyter.widget-view+json": {
       "model_id": "ef76f6fbfaa940fc87beff4733d98fc6",
       "version_major": 2,
       "version_minor": 0
      },
      "text/plain": [
       "HBox(children=(IntProgress(value=0, max=14), HTML(value='')))"
      ]
     },
     "metadata": {},
     "output_type": "display_data"
    },
    {
     "name": "stdout",
     "output_type": "stream",
     "text": [
      "\n",
      "-27.5\n",
      "O O O O O O O O O O O O O \n",
      "O X X O O O X X X O O O O \n",
      "X O . O O X X O O O O O O \n",
      ". O O X O O X X X X O O O \n",
      "O O O . O O O O O . O X X \n",
      "X O X X O O X O X X O X . \n",
      "X O X . X O . O X X X X X \n",
      "X O X X . X . X X X X X X \n",
      "X X . . . . . X X X X X X \n",
      "X X X X . X X O O O X X X \n",
      "X X X X X X X O X X X X X \n",
      "X X X X X . X . O X X X X \n",
      "X X X X X X X X X X X X X \n",
      "-27.5\n"
     ]
    },
    {
     "data": {
      "application/vnd.jupyter.widget-view+json": {
       "model_id": "316d5905c81f4afca6550286cb433eca",
       "version_major": 2,
       "version_minor": 0
      },
      "text/plain": [
       "HBox(children=(IntProgress(value=0, max=13), HTML(value='')))"
      ]
     },
     "metadata": {},
     "output_type": "display_data"
    },
    {
     "name": "stdout",
     "output_type": "stream",
     "text": [
      "\n",
      "-26.5\n",
      "O O O O O O O O O O O O O \n",
      "O X X O O O X X X O O O O \n",
      "X O . O O X X O O O O O O \n",
      ". O O X O O X X X X O O O \n",
      "O O O . O O O O O . O X X \n",
      "X O X X O O X O X X O X . \n",
      "X O X . X O . O X X X X X \n",
      "X O X X . X O X X X X X X \n",
      "X X . . . . . X X X X X X \n",
      "X X X X . X X O O O X X X \n",
      "X X X X X X X O X X X X X \n",
      "X X X X X . X . O X X X X \n",
      "X X X X X X X X X X X X X \n",
      "-26.5\n"
     ]
    },
    {
     "data": {
      "application/vnd.jupyter.widget-view+json": {
       "model_id": "4727532c36a04d1ea20e2849d2ffa2e2",
       "version_major": 2,
       "version_minor": 0
      },
      "text/plain": [
       "HBox(children=(IntProgress(value=0, max=12), HTML(value='')))"
      ]
     },
     "metadata": {},
     "output_type": "display_data"
    },
    {
     "name": "stdout",
     "output_type": "stream",
     "text": [
      "\n",
      "-25.5\n",
      "O O O O O O O O O O O O O \n",
      "O X X O O O X X X O O O O \n",
      "X O . O O X X O O O O O O \n",
      ". O O X O O X X X X O O O \n",
      "O O O . O O O O O . O X X \n",
      "X O X X O O X O X X O X . \n",
      "X O X . X O . O X X X X X \n",
      "X O X X . X O X X X X X X \n",
      "X X O . . . . X X X X X X \n",
      "X X X X . X X O O O X X X \n",
      "X X X X X X X O X X X X X \n",
      "X X X X X . X . O X X X X \n",
      "X X X X X X X X X X X X X \n",
      "-25.5\n"
     ]
    },
    {
     "data": {
      "application/vnd.jupyter.widget-view+json": {
       "model_id": "45170ef0ba2c4d05897189bc6355ccd9",
       "version_major": 2,
       "version_minor": 0
      },
      "text/plain": [
       "HBox(children=(IntProgress(value=0, max=11), HTML(value='')))"
      ]
     },
     "metadata": {},
     "output_type": "display_data"
    },
    {
     "name": "stdout",
     "output_type": "stream",
     "text": [
      "\n",
      "-24.5\n",
      "O O O O O O O O O O O O O \n",
      "O X X O O O X X X O O O O \n",
      "X O . O O X X O O O O O O \n",
      ". O O X O O X X X X O O O \n",
      "O O O . O O O O O . O X X \n",
      "X O X X O O X O X X O X . \n",
      "X O X . X O . O X X X X X \n",
      "X O X X . X O X X X X X X \n",
      "X X O O . . . X X X X X X \n",
      "X X X X . X X O O O X X X \n",
      "X X X X X X X O X X X X X \n",
      "X X X X X . X . O X X X X \n",
      "X X X X X X X X X X X X X \n",
      "-24.5\n"
     ]
    },
    {
     "data": {
      "application/vnd.jupyter.widget-view+json": {
       "model_id": "63cffa3dd3cd4866a0bae835e869feb4",
       "version_major": 2,
       "version_minor": 0
      },
      "text/plain": [
       "HBox(children=(IntProgress(value=0, max=10), HTML(value='')))"
      ]
     },
     "metadata": {},
     "output_type": "display_data"
    },
    {
     "name": "stdout",
     "output_type": "stream",
     "text": [
      "\n",
      "-23.5\n",
      "O O O O O O O O O O O O O \n",
      "O X X O O O X X X O O O O \n",
      "X O . O O X X O O O O O O \n",
      ". O O X O O X X X X O O O \n",
      "O O O . O O O O O . O X X \n",
      "X O X X O O X O X X O X . \n",
      "X O X . X O . O X X X X X \n",
      "X O X X . X O X X X X X X \n",
      "X X O O O . . X X X X X X \n",
      "X X X X . X X O O O X X X \n",
      "X X X X X X X O X X X X X \n",
      "X X X X X . X . O X X X X \n",
      "X X X X X X X X X X X X X \n",
      "-23.5\n"
     ]
    },
    {
     "data": {
      "application/vnd.jupyter.widget-view+json": {
       "model_id": "c8d3d9c1b43a45f6bf85a56706608dc7",
       "version_major": 2,
       "version_minor": 0
      },
      "text/plain": [
       "HBox(children=(IntProgress(value=0, max=9), HTML(value='')))"
      ]
     },
     "metadata": {},
     "output_type": "display_data"
    },
    {
     "name": "stdout",
     "output_type": "stream",
     "text": [
      "\n",
      "-22.5\n",
      "O O O O O O O O O O O O O \n",
      "O X X O O O X X X O O O O \n",
      "X O . O O X X O O O O O O \n",
      ". O O X O O X X X X O O O \n",
      "O O O . O O O O O . O X X \n",
      "X O X X O O X O X X O X . \n",
      "X O X . X O . O X X X X X \n",
      "X O X X . X O X X X X X X \n",
      "X X O O O O . X X X X X X \n",
      "X X X X . X X O O O X X X \n",
      "X X X X X X X O X X X X X \n",
      "X X X X X . X . O X X X X \n",
      "X X X X X X X X X X X X X \n",
      "-22.5\n"
     ]
    },
    {
     "data": {
      "application/vnd.jupyter.widget-view+json": {
       "model_id": "a3876df6df924e2892ac247ead020b33",
       "version_major": 2,
       "version_minor": 0
      },
      "text/plain": [
       "HBox(children=(IntProgress(value=0, max=8), HTML(value='')))"
      ]
     },
     "metadata": {},
     "output_type": "display_data"
    },
    {
     "name": "stdout",
     "output_type": "stream",
     "text": [
      "\n",
      "-21.5\n",
      "O O O O O O O O O O O O O \n",
      "O X X O O O X X X O O O O \n",
      "X O . O O X X O O O O O O \n",
      ". O O X O O X X X X O O O \n",
      "O O O . O O O O O . O X X \n",
      "X O X X O O X O X X O X . \n",
      "X O X . X O . O X X X X X \n",
      "X O X X . X O X X X X X X \n",
      "X X O O O O O X X X X X X \n",
      "X X X X . X X O O O X X X \n",
      "X X X X X X X O X X X X X \n",
      "X X X X X . X . O X X X X \n",
      "X X X X X X X X X X X X X \n",
      "-21.5\n"
     ]
    },
    {
     "data": {
      "application/vnd.jupyter.widget-view+json": {
       "model_id": "8522b6312b634926aead56f603348a7c",
       "version_major": 2,
       "version_minor": 0
      },
      "text/plain": [
       "HBox(children=(IntProgress(value=0, max=7), HTML(value='')))"
      ]
     },
     "metadata": {},
     "output_type": "display_data"
    },
    {
     "name": "stdout",
     "output_type": "stream",
     "text": [
      "\n",
      "-20.5\n",
      "O O O O O O O O O O O O O \n",
      "O X X O O O X X X O O O O \n",
      "X O . O O X X O O O O O O \n",
      ". O O X O O X X X X O O O \n",
      "O O O . O O O O O . O X X \n",
      "X O X X O O X O X X O X . \n",
      "X O X . X O . O X X X X X \n",
      "X O X X . X O X X X X X X \n",
      "X X O O O O O X X X X X X \n",
      "X X X X O X X O O O X X X \n",
      "X X X X X X X O X X X X X \n",
      "X X X X X . X . O X X X X \n",
      "X X X X X X X X X X X X X \n",
      "-20.5\n"
     ]
    },
    {
     "data": {
      "application/vnd.jupyter.widget-view+json": {
       "model_id": "551ce2f24de94cdc824ebece5f94ef67",
       "version_major": 2,
       "version_minor": 0
      },
      "text/plain": [
       "HBox(children=(IntProgress(value=0, max=6), HTML(value='')))"
      ]
     },
     "metadata": {},
     "output_type": "display_data"
    },
    {
     "name": "stdout",
     "output_type": "stream",
     "text": [
      "\n",
      "-18.5\n",
      "O O O O O O O O O O O O O \n",
      "O X X O O O X X X O O O O \n",
      ". O . O O X X O O O O O O \n",
      "O O O X O O X X X X O O O \n",
      "O O O . O O O O O . O X X \n",
      "X O X X O O X O X X O X . \n",
      "X O X . X O . O X X X X X \n",
      "X O X X . X O X X X X X X \n",
      "X X O O O O O X X X X X X \n",
      "X X X X O X X O O O X X X \n",
      "X X X X X X X O X X X X X \n",
      "X X X X X . X . O X X X X \n",
      "X X X X X X X X X X X X X \n",
      "-18.5\n"
     ]
    },
    {
     "data": {
      "application/vnd.jupyter.widget-view+json": {
       "model_id": "b84bd1a8096c4d979dd2780e794e560a",
       "version_major": 2,
       "version_minor": 0
      },
      "text/plain": [
       "HBox(children=(IntProgress(value=0, max=6), HTML(value='')))"
      ]
     },
     "metadata": {},
     "output_type": "display_data"
    },
    {
     "name": "stdout",
     "output_type": "stream",
     "text": [
      "\n",
      "-17.5\n",
      "O O O O O O O O O O O O O \n",
      "O X X O O O X X X O O O O \n",
      "O O . O O X X O O O O O O \n",
      "O O O X O O X X X X O O O \n",
      "O O O . O O O O O . O X X \n",
      "X O X X O O X O X X O X . \n",
      "X O X . X O . O X X X X X \n",
      "X O X X . X O X X X X X X \n",
      "X X O O O O O X X X X X X \n",
      "X X X X O X X O O O X X X \n",
      "X X X X X X X O X X X X X \n",
      "X X X X X . X . O X X X X \n",
      "X X X X X X X X X X X X X \n",
      "-17.5\n"
     ]
    },
    {
     "data": {
      "application/vnd.jupyter.widget-view+json": {
       "model_id": "653b83c215c14eb18c5ca69b96e5d2c3",
       "version_major": 2,
       "version_minor": 0
      },
      "text/plain": [
       "HBox(children=(IntProgress(value=0, max=5), HTML(value='')))"
      ]
     },
     "metadata": {},
     "output_type": "display_data"
    },
    {
     "name": "stdout",
     "output_type": "stream",
     "text": [
      "\n",
      "-14.5\n",
      "O O O O O O O O O O O O O \n",
      "O . . O O O X X X O O O O \n",
      "O O O O O X X O O O O O O \n",
      "O O O X O O X X X X O O O \n",
      "O O O . O O O O O . O X X \n",
      "X O X X O O X O X X O X . \n",
      "X O X . X O . O X X X X X \n",
      "X O X X . X O X X X X X X \n",
      "X X O O O O O X X X X X X \n",
      "X X X X O X X O O O X X X \n",
      "X X X X X X X O X X X X X \n",
      "X X X X X . X . O X X X X \n",
      "X X X X X X X X X X X X X \n",
      "-15.5\n"
     ]
    },
    {
     "data": {
      "application/vnd.jupyter.widget-view+json": {
       "model_id": "c3bb1583e2f841ab88a4b4ecb03f6b88",
       "version_major": 2,
       "version_minor": 0
      },
      "text/plain": [
       "HBox(children=(IntProgress(value=0, max=5), HTML(value='')))"
      ]
     },
     "metadata": {},
     "output_type": "display_data"
    },
    {
     "name": "stdout",
     "output_type": "stream",
     "text": [
      "\n",
      "-12.5\n",
      "O O O O O O O O O O O O O \n",
      "O . O O O O X X X O O O O \n",
      "O O O O O X X O O O O O O \n",
      "O O O X O O X X X X O O O \n",
      "O O O . O O O O O . O X X \n",
      "X O X X O O X O X X O X . \n",
      "X O X . X O . O X X X X X \n",
      "X O X X . X O X X X X X X \n",
      "X X O O O O O X X X X X X \n",
      "X X X X O X X O O O X X X \n",
      "X X X X X X X O X X X X X \n",
      "X X X X X . X . O X X X X \n",
      "X X X X X X X X X X X X X \n",
      "-12.5\n"
     ]
    },
    {
     "data": {
      "application/vnd.jupyter.widget-view+json": {
       "model_id": "6ed3c3ae315040ce9e2c3d21da808a1d",
       "version_major": 2,
       "version_minor": 0
      },
      "text/plain": [
       "HBox(children=(IntProgress(value=0, max=5), HTML(value='')))"
      ]
     },
     "metadata": {},
     "output_type": "display_data"
    },
    {
     "name": "stdout",
     "output_type": "stream",
     "text": [
      "\n",
      "-12.5\n",
      "O O O O O O O O O O O O O \n",
      "O O O O O O X X X O O O O \n",
      "O O O O O X X O O O O O O \n",
      "O O O X O O X X X X O O O \n",
      "O O O . O O O O O . O X X \n",
      "X O X X O O X O X X O X . \n",
      "X O X . X O . O X X X X X \n",
      "X O X X . X O X X X X X X \n",
      "X X O O O O O X X X X X X \n",
      "X X X X O X X O O O X X X \n",
      "X X X X X X X O X X X X X \n",
      "X X X X X . X . O X X X X \n",
      "X X X X X X X X X X X X X \n",
      "-12.5\n"
     ]
    },
    {
     "data": {
      "application/vnd.jupyter.widget-view+json": {
       "model_id": "e5e5a70df2084cf5af7f2c50f67b7c4a",
       "version_major": 2,
       "version_minor": 0
      },
      "text/plain": [
       "HBox(children=(IntProgress(value=0, max=4), HTML(value='')))"
      ]
     },
     "metadata": {},
     "output_type": "display_data"
    },
    {
     "name": "stdout",
     "output_type": "stream",
     "text": [
      "\n",
      "-9.5\n",
      "O O O O O O O O O O O O O \n",
      "O O O O O O X X X O O O O \n",
      "O O O O O X X O O O O O O \n",
      "O O O . O O X X X X O O O \n",
      "O O O O O O O O O . O X X \n",
      "X O X X O O X O X X O X . \n",
      "X O X . X O . O X X X X X \n",
      "X O X X . X O X X X X X X \n",
      "X X O O O O O X X X X X X \n",
      "X X X X O X X O O O X X X \n",
      "X X X X X X X O X X X X X \n",
      "X X X X X . X . O X X X X \n",
      "X X X X X X X X X X X X X \n",
      "-9.5\n"
     ]
    },
    {
     "data": {
      "application/vnd.jupyter.widget-view+json": {
       "model_id": "cadbcb034c364c049a1a1c77f22467ad",
       "version_major": 2,
       "version_minor": 0
      },
      "text/plain": [
       "HBox(children=(IntProgress(value=0, max=4), HTML(value='')))"
      ]
     },
     "metadata": {},
     "output_type": "display_data"
    },
    {
     "name": "stdout",
     "output_type": "stream",
     "text": [
      "\n",
      "-9.5\n",
      "O O O O O O O O O O O O O \n",
      "O O O O O O X X X O O O O \n",
      "O O O O O X X O O O O O O \n",
      "O O O O O O X X X X O O O \n",
      "O O O O O O O O O . O X X \n",
      "X O X X O O X O X X O X . \n",
      "X O X . X O . O X X X X X \n",
      "X O X X . X O X X X X X X \n",
      "X X O O O O O X X X X X X \n",
      "X X X X O X X O O O X X X \n",
      "X X X X X X X O X X X X X \n",
      "X X X X X . X . O X X X X \n",
      "X X X X X X X X X X X X X \n",
      "-9.5\n"
     ]
    },
    {
     "data": {
      "application/vnd.jupyter.widget-view+json": {
       "model_id": "4e9c1c6ecb4c487fad5dad25b815c48a",
       "version_major": 2,
       "version_minor": 0
      },
      "text/plain": [
       "HBox(children=(IntProgress(value=0, max=3), HTML(value='')))"
      ]
     },
     "metadata": {},
     "output_type": "display_data"
    },
    {
     "name": "stdout",
     "output_type": "stream",
     "text": [
      "\n",
      "-6.5\n",
      "O O O O O O O O O O O O O \n",
      "O O O O O O X X X O O O O \n",
      "O O O O O X X O O O O O O \n",
      "O O O O O O X X X X O O O \n",
      "O O O O O O O O O . O X X \n",
      "X O X X O O . O X X O X . \n",
      "X O X . X O O O X X X X X \n",
      "X O X X . X O X X X X X X \n",
      "X X O O O O O X X X X X X \n",
      "X X X X O X X O O O X X X \n",
      "X X X X X X X O X X X X X \n",
      "X X X X X . X . O X X X X \n",
      "X X X X X X X X X X X X X \n",
      "-6.5\n"
     ]
    },
    {
     "data": {
      "application/vnd.jupyter.widget-view+json": {
       "model_id": "f56ec66fa3f64c048250b899f4d9ee7a",
       "version_major": 2,
       "version_minor": 0
      },
      "text/plain": [
       "HBox(children=(IntProgress(value=0, max=3), HTML(value='')))"
      ]
     },
     "metadata": {},
     "output_type": "display_data"
    },
    {
     "name": "stdout",
     "output_type": "stream",
     "text": [
      "\n",
      "-6.5\n",
      "O O O O O O O O O O O O O \n",
      "O O O O O O X X X O O O O \n",
      "O O O O O X X O O O O O O \n",
      "O O O O O O X X X X O O O \n",
      "O O O O O O O O O . O X X \n",
      "X O X X O O O O X X O X . \n",
      "X O X . X O O O X X X X X \n",
      "X O X X . X O X X X X X X \n",
      "X X O O O O O X X X X X X \n",
      "X X X X O X X O O O X X X \n",
      "X X X X X X X O X X X X X \n",
      "X X X X X . X . O X X X X \n",
      "X X X X X X X X X X X X X \n",
      "-6.5\n"
     ]
    },
    {
     "data": {
      "application/vnd.jupyter.widget-view+json": {
       "model_id": "936fe78a80634dc781c3b0755bbb1df0",
       "version_major": 2,
       "version_minor": 0
      },
      "text/plain": [
       "HBox(children=(IntProgress(value=0, max=2), HTML(value='')))"
      ]
     },
     "metadata": {},
     "output_type": "display_data"
    },
    {
     "name": "stdout",
     "output_type": "stream",
     "text": [
      "\n",
      "-2.5\n",
      "O O O O O O O O O O O O O \n",
      "O O O O O O X X X O O O O \n",
      "O O O O O X X O O O O O O \n",
      "O O O O O O X X X X O O O \n",
      "O O O O O O O O O . O X X \n",
      "X O X X O O O O X X O X . \n",
      "X O X . X O O O X X X X X \n",
      "X O X X O . O X X X X X X \n",
      "X X O O O O O X X X X X X \n",
      "X X X X O X X O O O X X X \n",
      "X X X X X X X O X X X X X \n",
      "X X X X X . X . O X X X X \n",
      "X X X X X X X X X X X X X \n",
      "-2.5\n"
     ]
    },
    {
     "data": {
      "application/vnd.jupyter.widget-view+json": {
       "model_id": "52683a2a949e489591fe73cc8b4331aa",
       "version_major": 2,
       "version_minor": 0
      },
      "text/plain": [
       "HBox(children=(IntProgress(value=0, max=3), HTML(value='')))"
      ]
     },
     "metadata": {},
     "output_type": "display_data"
    },
    {
     "name": "stdout",
     "output_type": "stream",
     "text": [
      "\n",
      "-2.5\n",
      "O O O O O O O O O O O O O \n",
      "O O O O O O X X X O O O O \n",
      "O O O O O X X O O O O O O \n",
      "O O O O O O X X X X O O O \n",
      "O O O O O O O O O . O X X \n",
      "X O X X O O O O X X O X . \n",
      "X O X . X O O O X X X X X \n",
      "X O X X O O O X X X X X X \n",
      "X X O O O O O X X X X X X \n",
      "X X X X O X X O O O X X X \n",
      "X X X X X X X O X X X X X \n",
      "X X X X X . X . O X X X X \n",
      "X X X X X X X X X X X X X \n",
      "-2.5\n"
     ]
    },
    {
     "data": {
      "application/vnd.jupyter.widget-view+json": {
       "model_id": "911dd7bab2c84762aba018eddb1449d1",
       "version_major": 2,
       "version_minor": 0
      },
      "text/plain": [
       "HBox(children=(IntProgress(value=0, max=2), HTML(value='')))"
      ]
     },
     "metadata": {},
     "output_type": "display_data"
    },
    {
     "name": "stdout",
     "output_type": "stream",
     "text": [
      "\n",
      "5.5\n",
      "O O O O O O O O O O O O O \n",
      "O O O O O O X X X O O O O \n",
      "O O O O O X X O O O O O O \n",
      "O O O O O O X X X X O O O \n",
      "O O O O O O O O O . O X X \n",
      "X O . . O O O O X X O X . \n",
      "X O . O . O O O X X X X X \n",
      "X O . . O O O X X X X X X \n",
      "X X O O O O O X X X X X X \n",
      "X X X X O X X O O O X X X \n",
      "X X X X X X X O X X X X X \n",
      "X X X X X . X . O X X X X \n",
      "X X X X X X X X X X X X X \n",
      "4.5\n"
     ]
    },
    {
     "data": {
      "application/vnd.jupyter.widget-view+json": {
       "model_id": "616b62293f7640af861e61c6cbd56e05",
       "version_major": 2,
       "version_minor": 0
      },
      "text/plain": [
       "HBox(children=(IntProgress(value=0, max=6), HTML(value='')))"
      ]
     },
     "metadata": {},
     "output_type": "display_data"
    },
    {
     "name": "stdout",
     "output_type": "stream",
     "text": [
      "\n",
      "4.5\n",
      "O O O O O O O O O O O O O \n",
      "O O O O O O X X X O O O O \n",
      "O O O O O X X O O O O O O \n",
      "O O O O O O X X X X O O O \n",
      "O O O O O O O O O . O X X \n",
      "X O X . O O O O X X O X . \n",
      "X O . O O O O O X X X X X \n",
      "X O . . O O O X X X X X X \n",
      "X X O O O O O X X X X X X \n",
      "X X X X O X X O O O X X X \n",
      "X X X X X X X O X X X X X \n",
      "X X X X X . X . O X X X X \n",
      "X X X X X X X X X X X X X \n",
      "3.5\n"
     ]
    },
    {
     "data": {
      "application/vnd.jupyter.widget-view+json": {
       "model_id": "1f1542b449704b6a93204f3eea21c028",
       "version_major": 2,
       "version_minor": 0
      },
      "text/plain": [
       "HBox(children=(IntProgress(value=0, max=4), HTML(value='')))"
      ]
     },
     "metadata": {},
     "output_type": "display_data"
    },
    {
     "name": "stdout",
     "output_type": "stream",
     "text": [
      "\n",
      "4.5\n",
      "O O O O O O O O O O O O O \n",
      "O O O O O O X X X O O O O \n",
      "O O O O O X X O O O O O O \n",
      "O O O O O O X X X X O O O \n",
      "O O O O O O O O O . O X X \n",
      "X O X X O O O O X X O X . \n",
      "X O . O O O O O X X X X X \n",
      "X O . O O O O X X X X X X \n",
      "X X O O O O O X X X X X X \n",
      "X X X X O X X O O O X X X \n",
      "X X X X X X X O X X X X X \n",
      "X X X X X . X . O X X X X \n",
      "X X X X X X X X X X X X X \n",
      "3.5\n"
     ]
    },
    {
     "data": {
      "application/vnd.jupyter.widget-view+json": {
       "model_id": "af64df590c7444f5a9afde64d276f464",
       "version_major": 2,
       "version_minor": 0
      },
      "text/plain": [
       "HBox(children=(IntProgress(value=0, max=2), HTML(value='')))"
      ]
     },
     "metadata": {},
     "output_type": "display_data"
    },
    {
     "name": "stdout",
     "output_type": "stream",
     "text": [
      "\n",
      "8.5\n",
      "O O O O O O O O O O O O O \n",
      "O O O O O O X X X O O O O \n",
      "O O O O O X X O O O O O O \n",
      "O O O O O O X X X X O O O \n",
      "O O O O O O O O O . O X X \n",
      "X O . . O O O O X X O X . \n",
      "X O O O O O O O X X X X X \n",
      "X O . O O O O X X X X X X \n",
      "X X O O O O O X X X X X X \n",
      "X X X X O X X O O O X X X \n",
      "X X X X X X X O X X X X X \n",
      "X X X X X . X . O X X X X \n",
      "X X X X X X X X X X X X X \n",
      "7.5\n"
     ]
    },
    {
     "data": {
      "application/vnd.jupyter.widget-view+json": {
       "model_id": "2bc6ba3bed7f46fd9ac361c0a8fe3c61",
       "version_major": 2,
       "version_minor": 0
      },
      "text/plain": [
       "HBox(children=(IntProgress(value=0, max=3), HTML(value='')))"
      ]
     },
     "metadata": {},
     "output_type": "display_data"
    },
    {
     "name": "stdout",
     "output_type": "stream",
     "text": [
      "\n",
      "7.5\n",
      "O O O O O O O O O O O O O \n",
      "O O O O O O X X X O O O O \n",
      "O O O O O X X O O O O O O \n",
      "O O O O O O X X X X O O O \n",
      "O O O O O O O O O . O X X \n",
      "X O X . O O O O X X O X . \n",
      "X O O O O O O O X X X X X \n",
      "X O O O O O O X X X X X X \n",
      "X X O O O O O X X X X X X \n",
      "X X X X O X X O O O X X X \n",
      "X X X X X X X O X X X X X \n",
      "X X X X X . X . O X X X X \n",
      "X X X X X X X X X X X X X \n",
      "7.5\n"
     ]
    },
    {
     "data": {
      "application/vnd.jupyter.widget-view+json": {
       "model_id": "8612e1c77aad429e80e3f1d6e8aaa6fd",
       "version_major": 2,
       "version_minor": 0
      },
      "text/plain": [
       "HBox(children=(IntProgress(value=0, max=2), HTML(value='')))"
      ]
     },
     "metadata": {},
     "output_type": "display_data"
    },
    {
     "name": "stdout",
     "output_type": "stream",
     "text": [
      "\n",
      "10.5\n",
      "O O O O O O O O O O O O O \n",
      "O O O O O O X X X O O O O \n",
      "O O O O O X X O O O O O O \n",
      "O O O O O O X X X X O O O \n",
      "O O O O O O O O O . O X X \n",
      "X O . O O O O O X X O X . \n",
      "X O O O O O O O X X X X X \n",
      "X O O O O O O X X X X X X \n",
      "X X O O O O O X X X X X X \n",
      "X X X X O X X O O O X X X \n",
      "X X X X X X X O X X X X X \n",
      "X X X X X X X . O X X X X \n",
      "X X X X X X X X X X X X X \n",
      "9.5\n"
     ]
    },
    {
     "data": {
      "application/vnd.jupyter.widget-view+json": {
       "model_id": "c31eab2f823b4ad79f2c8985e4a5b6ab",
       "version_major": 2,
       "version_minor": 0
      },
      "text/plain": [
       "HBox(children=(IntProgress(value=0, max=1), HTML(value='')))"
      ]
     },
     "metadata": {},
     "output_type": "display_data"
    },
    {
     "name": "stdout",
     "output_type": "stream",
     "text": [
      "\n",
      "9.5\n",
      "O O O O O O O O O O O O O \n",
      "O O O O O O X X X O O O O \n",
      "O O O O O X X O O O O O O \n",
      "O O O O O O X X X X O O O \n",
      "O O O O O O O O O X O X X \n",
      "X O . O O O O O X X O X . \n",
      "X O O O O O O O X X X X X \n",
      "X O O O O O O X X X X X X \n",
      "X X O O O O O X X X X X X \n",
      "X X X X O X X O O O X X X \n",
      "X X X X X X X O X X X X X \n",
      "X X X X X X X . O X X X X \n",
      "X X X X X X X X X X X X X \n",
      "-71.5\n"
     ]
    },
    {
     "data": {
      "application/vnd.jupyter.widget-view+json": {
       "model_id": "c11331b8e9cf44d690f85636a447b7dd",
       "version_major": 2,
       "version_minor": 0
      },
      "text/plain": [
       "HBox(children=(IntProgress(value=0, max=79), HTML(value='')))"
      ]
     },
     "metadata": {},
     "output_type": "display_data"
    },
    {
     "name": "stdout",
     "output_type": "stream",
     "text": [
      "\n",
      "-70.5\n",
      "O . . . . . . . . . . . . \n",
      ". . . . . . X X X . . . . \n",
      ". . . . . X X . . . . . . \n",
      ". . . . . . X X X X . . . \n",
      ". . . . . . . . . X . X X \n",
      "X . X . . . . . X X . X . \n",
      "X . . . . . . . X X X X X \n",
      "X . . . . . . X X X X X X \n",
      "X X . . . . . X X X X X X \n",
      "X X X X . X X O O O X X X \n",
      "X X X X X X X O X X X X X \n",
      "X X X X X X X . O X X X X \n",
      "X X X X X X X X X X X X X \n",
      "-71.5\n"
     ]
    },
    {
     "data": {
      "application/vnd.jupyter.widget-view+json": {
       "model_id": "5f418d55be1e4a2b90897e5efa7202f7",
       "version_major": 2,
       "version_minor": 0
      },
      "text/plain": [
       "HBox(children=(IntProgress(value=0, max=77), HTML(value='')))"
      ]
     },
     "metadata": {},
     "output_type": "display_data"
    },
    {
     "name": "stdout",
     "output_type": "stream",
     "text": [
      "\n",
      "-70.5\n",
      "O O . . . . . . . . . . . \n",
      ". . . . . . X X X . . . . \n",
      ". . . . . X X . . . . . . \n",
      ". . . . . . X X X X . . . \n",
      ". . . . . . . . . X . X X \n",
      "X . X . . . . . X X . X . \n",
      "X . . . . . . . X X X X X \n",
      "X . . . . X . X X X X X X \n",
      "X X . . . . . X X X X X X \n",
      "X X X X . X X O O O X X X \n",
      "X X X X X X X O X X X X X \n",
      "X X X X X X X . O X X X X \n",
      "X X X X X X X X X X X X X \n",
      "-71.5\n"
     ]
    },
    {
     "data": {
      "application/vnd.jupyter.widget-view+json": {
       "model_id": "1c9e30c10d04492db89d279cc5de13bf",
       "version_major": 2,
       "version_minor": 0
      },
      "text/plain": [
       "HBox(children=(IntProgress(value=0, max=75), HTML(value='')))"
      ]
     },
     "metadata": {},
     "output_type": "display_data"
    },
    {
     "name": "stdout",
     "output_type": "stream",
     "text": [
      "\n",
      "-70.5\n",
      "O O O . . . . . . . . . . \n",
      ". X . . . . X X X . . . . \n",
      ". . . . . X X . . . . . . \n",
      ". . . . . . X X X X . . . \n",
      ". . . . . . . . . X . X X \n",
      "X . X . . . . . X X . X . \n",
      "X . . . . . . . X X X X X \n",
      "X . . . . X . X X X X X X \n",
      "X X . . . . . X X X X X X \n",
      "X X X X . X X O O O X X X \n",
      "X X X X X X X O X X X X X \n",
      "X X X X X X X . O X X X X \n",
      "X X X X X X X X X X X X X \n",
      "-71.5\n"
     ]
    },
    {
     "data": {
      "application/vnd.jupyter.widget-view+json": {
       "model_id": "04f20cb3bfda4958ab9564a7b4426c42",
       "version_major": 2,
       "version_minor": 0
      },
      "text/plain": [
       "HBox(children=(IntProgress(value=0, max=73), HTML(value='')))"
      ]
     },
     "metadata": {},
     "output_type": "display_data"
    },
    {
     "name": "stdout",
     "output_type": "stream",
     "text": [
      "\n",
      "-70.5\n",
      "O O O O . . . . . . . . . \n",
      ". X . . . . X X X . . . . \n",
      ". . . . . X X . . . . . . \n",
      ". . . X . . X X X X . . . \n",
      ". . . . . . . . . X . X X \n",
      "X . X . . . . . X X . X . \n",
      "X . . . . . . . X X X X X \n",
      "X . . . . X . X X X X X X \n",
      "X X . . . . . X X X X X X \n",
      "X X X X . X X O O O X X X \n",
      "X X X X X X X O X X X X X \n",
      "X X X X X X X . O X X X X \n",
      "X X X X X X X X X X X X X \n",
      "-71.5\n"
     ]
    },
    {
     "data": {
      "application/vnd.jupyter.widget-view+json": {
       "model_id": "29f6a89aa88c4914be21784cdb22083a",
       "version_major": 2,
       "version_minor": 0
      },
      "text/plain": [
       "HBox(children=(IntProgress(value=0, max=71), HTML(value='')))"
      ]
     },
     "metadata": {},
     "output_type": "display_data"
    },
    {
     "name": "stdout",
     "output_type": "stream",
     "text": [
      "\n",
      "-70.5\n",
      "O O O O O . . . X . . . . \n",
      ". X . . . . X X X . . . . \n",
      ". . . . . X X . . . . . . \n",
      ". . . X . . X X X X . . . \n",
      ". . . . . . . . . X . X X \n",
      "X . X . . . . . X X . X . \n",
      "X . . . . . . . X X X X X \n",
      "X . . . . X . X X X X X X \n",
      "X X . . . . . X X X X X X \n",
      "X X X X . X X O O O X X X \n",
      "X X X X X X X O X X X X X \n",
      "X X X X X X X . O X X X X \n",
      "X X X X X X X X X X X X X \n",
      "-70.5\n"
     ]
    },
    {
     "data": {
      "application/vnd.jupyter.widget-view+json": {
       "model_id": "a9dcb7f3394348dd899f40b91e8bc1a6",
       "version_major": 2,
       "version_minor": 0
      },
      "text/plain": [
       "HBox(children=(IntProgress(value=0, max=70), HTML(value='')))"
      ]
     },
     "metadata": {},
     "output_type": "display_data"
    },
    {
     "name": "stdout",
     "output_type": "stream",
     "text": [
      "\n",
      "-69.5\n",
      "O O O O O O . . X . . . . \n",
      ". X . . . . X X X . . . . \n",
      ". . . . . X X . . . . . . \n",
      ". . . X . . X X X X . . . \n",
      ". . . . . . . . . X . X X \n",
      "X . X . . . . . X X . X . \n",
      "X . . . . . . . X X X X X \n",
      "X . . . . X . X X X X X X \n",
      "X X . . . . . X X X X X X \n",
      "X X X X . X X O O O X X X \n",
      "X X X X X X X O X X X X X \n",
      "X X X X X X X . O X X X X \n",
      "X X X X X X X X X X X X X \n",
      "-70.5\n"
     ]
    },
    {
     "data": {
      "application/vnd.jupyter.widget-view+json": {
       "model_id": "0ee88970cad54e22883ae285a2e031c3",
       "version_major": 2,
       "version_minor": 0
      },
      "text/plain": [
       "HBox(children=(IntProgress(value=0, max=68), HTML(value='')))"
      ]
     },
     "metadata": {},
     "output_type": "display_data"
    },
    {
     "name": "stdout",
     "output_type": "stream",
     "text": [
      "\n",
      "-69.5\n",
      "O O O O O O O . X . . . . \n",
      ". X X . . . X X X . . . . \n",
      ". . . . . X X . . . . . . \n",
      ". . . X . . X X X X . . . \n",
      ". . . . . . . . . X . X X \n",
      "X . X . . . . . X X . X . \n",
      "X . . . . . . . X X X X X \n",
      "X . . . . X . X X X X X X \n",
      "X X . . . . . X X X X X X \n",
      "X X X X . X X O O O X X X \n",
      "X X X X X X X O X X X X X \n",
      "X X X X X X X . O X X X X \n",
      "X X X X X X X X X X X X X \n",
      "-70.5\n"
     ]
    },
    {
     "data": {
      "application/vnd.jupyter.widget-view+json": {
       "model_id": "590aa913ce564132ac338abf6ae53ce3",
       "version_major": 2,
       "version_minor": 0
      },
      "text/plain": [
       "HBox(children=(IntProgress(value=0, max=66), HTML(value='')))"
      ]
     },
     "metadata": {},
     "output_type": "display_data"
    },
    {
     "name": "stdout",
     "output_type": "stream",
     "text": [
      "\n",
      "-69.5\n",
      "O O O O O O O O X . . . . \n",
      ". X X . . . X X X . X . . \n",
      ". . . . . X X . . . . . . \n",
      ". . . X . . X X X X . . . \n",
      ". . . . . . . . . X . X X \n",
      "X . X . . . . . X X . X . \n",
      "X . . . . . . . X X X X X \n",
      "X . . . . X . X X X X X X \n",
      "X X . . . . . X X X X X X \n",
      "X X X X . X X O O O X X X \n",
      "X X X X X X X O X X X X X \n",
      "X X X X X X X . O X X X X \n",
      "X X X X X X X X X X X X X \n",
      "-70.5\n"
     ]
    },
    {
     "data": {
      "application/vnd.jupyter.widget-view+json": {
       "model_id": "b49b847acd22429d8775a6d9fa95c03e",
       "version_major": 2,
       "version_minor": 0
      },
      "text/plain": [
       "HBox(children=(IntProgress(value=0, max=64), HTML(value='')))"
      ]
     },
     "metadata": {},
     "output_type": "display_data"
    },
    {
     "name": "stdout",
     "output_type": "stream",
     "text": [
      "\n",
      "-69.5\n",
      "O O O O O O O O X O . . . \n",
      ". X X . . . X X X . X . . \n",
      ". . . . . X X . . . . . . \n",
      ". . . X . . X X X X . . . \n",
      ". . . . . . . . . X . X X \n",
      "X . X . . . X . X X . X . \n",
      "X . . . . . . . X X X X X \n",
      "X . . . . X . X X X X X X \n",
      "X X . . . . . X X X X X X \n",
      "X X X X . X X O O O X X X \n",
      "X X X X X X X O X X X X X \n",
      "X X X X X X X . O X X X X \n",
      "X X X X X X X X X X X X X \n",
      "-69.5\n"
     ]
    },
    {
     "data": {
      "application/vnd.jupyter.widget-view+json": {
       "model_id": "b1a8f695c15d486f82043218ce150548",
       "version_major": 2,
       "version_minor": 0
      },
      "text/plain": [
       "HBox(children=(IntProgress(value=0, max=63), HTML(value='')))"
      ]
     },
     "metadata": {},
     "output_type": "display_data"
    },
    {
     "name": "stdout",
     "output_type": "stream",
     "text": [
      "\n",
      "-68.5\n",
      "O O O O O O O O X O O . . \n",
      ". X X . . . X X X . X . . \n",
      ". . . . . X X . . . . . . \n",
      ". . . X . . X X X X . . . \n",
      ". . . . . . . . . X . X X \n",
      "X . X . . . X . X X . X . \n",
      "X . . . . . . . X X X X X \n",
      "X . . . . X . X X X X X X \n",
      "X X . . . . . X X X X X X \n",
      "X X X X . X X O O O X X X \n",
      "X X X X X X X O X X X X X \n",
      "X X X X X X X . O X X X X \n",
      "X X X X X X X X X X X X X \n",
      "-68.5\n"
     ]
    },
    {
     "data": {
      "application/vnd.jupyter.widget-view+json": {
       "model_id": "2c5056eb741343dd8d2bfadfe5454a6d",
       "version_major": 2,
       "version_minor": 0
      },
      "text/plain": [
       "HBox(children=(IntProgress(value=0, max=62), HTML(value='')))"
      ]
     },
     "metadata": {},
     "output_type": "display_data"
    },
    {
     "name": "stdout",
     "output_type": "stream",
     "text": [
      "\n",
      "-67.5\n",
      "O O O O O O O O X O O O . \n",
      ". X X . . . X X X . X . . \n",
      ". . . . . X X . . . . . . \n",
      ". . . X . . X X X X . . . \n",
      ". . . . . . . . . X . X X \n",
      "X . X . . . X . X X . X . \n",
      "X . . . . . . . X X X X X \n",
      "X . . . . X . X X X X X X \n",
      "X X . . . . . X X X X X X \n",
      "X X X X . X X O O O X X X \n",
      "X X X X X X X O X X X X X \n",
      "X X X X X X X . O X X X X \n",
      "X X X X X X X X X X X X X \n",
      "-67.5\n"
     ]
    },
    {
     "data": {
      "application/vnd.jupyter.widget-view+json": {
       "model_id": "2b5bf78bf72c4c1f9d627c082ba7e5f3",
       "version_major": 2,
       "version_minor": 0
      },
      "text/plain": [
       "HBox(children=(IntProgress(value=0, max=61), HTML(value='')))"
      ]
     },
     "metadata": {},
     "output_type": "display_data"
    },
    {
     "name": "stdout",
     "output_type": "stream",
     "text": [
      "\n",
      "-66.5\n",
      "O O O O O O O O X O O O O \n",
      ". X X . . . X X X . X . . \n",
      ". . . . . X X . . . . . . \n",
      ". . . X . . X X X X . . . \n",
      ". . . . . . . . . X . X X \n",
      "X . X . . . X . X X . X . \n",
      "X . . . . . . . X X X X X \n",
      "X . . . . X . X X X X X X \n",
      "X X . . . . . X X X X X X \n",
      "X X X X . X X O O O X X X \n",
      "X X X X X X X O X X X X X \n",
      "X X X X X X X . O X X X X \n",
      "X X X X X X X X X X X X X \n",
      "-66.5\n"
     ]
    },
    {
     "data": {
      "application/vnd.jupyter.widget-view+json": {
       "model_id": "0e50bbdf9858419198fd4eef90314bf9",
       "version_major": 2,
       "version_minor": 0
      },
      "text/plain": [
       "HBox(children=(IntProgress(value=0, max=60), HTML(value='')))"
      ]
     },
     "metadata": {},
     "output_type": "display_data"
    },
    {
     "name": "stdout",
     "output_type": "stream",
     "text": [
      "\n",
      "-65.5\n",
      "O O O O O O O O X O O O O \n",
      "O X X . . . X X X . X . . \n",
      ". . . . . X X . . . . . . \n",
      ". . . X . . X X X X . . . \n",
      ". . . . . . . . . X . X X \n",
      "X . X . . . X . X X . X . \n",
      "X . . . . . . . X X X X X \n",
      "X . . . . X . X X X X X X \n",
      "X X . . . . . X X X X X X \n",
      "X X X X . X X O O O X X X \n",
      "X X X X X X X O X X X X X \n",
      "X X X X X X X . O X X X X \n",
      "X X X X X X X X X X X X X \n",
      "-67.5\n"
     ]
    },
    {
     "data": {
      "application/vnd.jupyter.widget-view+json": {
       "model_id": "d97c004c0d7649d9aef1740d1a0d897b",
       "version_major": 2,
       "version_minor": 0
      },
      "text/plain": [
       "HBox(children=(IntProgress(value=0, max=57), HTML(value='')))"
      ]
     },
     "metadata": {},
     "output_type": "display_data"
    },
    {
     "name": "stdout",
     "output_type": "stream",
     "text": [
      "\n",
      "-66.5\n",
      "O O O O O O O O X O O O O \n",
      "O X X O . . X X X . X . . \n",
      ". . . . . X X . X . . . . \n",
      ". . . X . . X X X X . . . \n",
      ". . . . . . . . . X . X X \n",
      "X . X . . . X . X X . X . \n",
      "X . . . . . . . X X X X X \n",
      "X . . . . X . X X X X X X \n",
      "X X . . . . . X X X X X X \n",
      "X X X X . X X O O O X X X \n",
      "X X X X X X X O X X X X X \n",
      "X X X X X X X . O X X X X \n",
      "X X X X X X X X X X X X X \n",
      "-66.5\n"
     ]
    },
    {
     "data": {
      "application/vnd.jupyter.widget-view+json": {
       "model_id": "ff3bdd252c5b41be9bb56f242b1231a9",
       "version_major": 2,
       "version_minor": 0
      },
      "text/plain": [
       "HBox(children=(IntProgress(value=0, max=56), HTML(value='')))"
      ]
     },
     "metadata": {},
     "output_type": "display_data"
    },
    {
     "name": "stdout",
     "output_type": "stream",
     "text": [
      "\n",
      "-65.5\n",
      "O O O O O O O O X O O O O \n",
      "O X X O O . X X X . X . . \n",
      ". . . . . X X . X . . . . \n",
      ". . . X . . X X X X . . . \n",
      ". . . . . . . . . X . X X \n",
      "X . X . . . X . X X . X . \n",
      "X . . . . . . . X X X X X \n",
      "X . . . . X . X X X X X X \n",
      "X X . . . . . X X X X X X \n",
      "X X X X . X X O O O X X X \n",
      "X X X X X X X O X X X X X \n",
      "X X X X X X X . O X X X X \n",
      "X X X X X X X X X X X X X \n",
      "-65.5\n"
     ]
    },
    {
     "data": {
      "application/vnd.jupyter.widget-view+json": {
       "model_id": "366597817a8748b0b9b88c92adfdb127",
       "version_major": 2,
       "version_minor": 0
      },
      "text/plain": [
       "HBox(children=(IntProgress(value=0, max=55), HTML(value='')))"
      ]
     },
     "metadata": {},
     "output_type": "display_data"
    },
    {
     "name": "stdout",
     "output_type": "stream",
     "text": [
      "\n",
      "-64.5\n",
      "O O O O O O O O X O O O O \n",
      "O X X O O O X X X . X . . \n",
      ". . . . . X X . X . . . . \n",
      ". . . X . . X X X X . . . \n",
      ". . . . . . . . . X . X X \n",
      "X . X . . . X . X X . X . \n",
      "X . . . . . . . X X X X X \n",
      "X . . . . X . X X X X X X \n",
      "X X . . . . . X X X X X X \n",
      "X X X X . X X O O O X X X \n",
      "X X X X X X X O X X X X X \n",
      "X X X X X X X . O X X X X \n",
      "X X X X X X X X X X X X X \n",
      "-65.5\n"
     ]
    },
    {
     "data": {
      "application/vnd.jupyter.widget-view+json": {
       "model_id": "92d699f7f89640d5a997c612b95d43d9",
       "version_major": 2,
       "version_minor": 0
      },
      "text/plain": [
       "HBox(children=(IntProgress(value=0, max=53), HTML(value='')))"
      ]
     },
     "metadata": {},
     "output_type": "display_data"
    },
    {
     "name": "stdout",
     "output_type": "stream",
     "text": [
      "\n",
      "-64.5\n",
      "O O O O O O O O X O O O O \n",
      "O X X O O O X X X O X . . \n",
      "X . . . . X X . X . . . . \n",
      ". . . X . . X X X X . . . \n",
      ". . . . . . . . . X . X X \n",
      "X . X . . . X . X X . X . \n",
      "X . . . . . . . X X X X X \n",
      "X . . . . X . X X X X X X \n",
      "X X . . . . . X X X X X X \n",
      "X X X X . X X O O O X X X \n",
      "X X X X X X X O X X X X X \n",
      "X X X X X X X . O X X X X \n",
      "X X X X X X X X X X X X X \n",
      "-64.5\n"
     ]
    },
    {
     "data": {
      "application/vnd.jupyter.widget-view+json": {
       "model_id": "91d894b6aae54eb5bd0ba6fb259cc3d6",
       "version_major": 2,
       "version_minor": 0
      },
      "text/plain": [
       "HBox(children=(IntProgress(value=0, max=52), HTML(value='')))"
      ]
     },
     "metadata": {},
     "output_type": "display_data"
    },
    {
     "name": "stdout",
     "output_type": "stream",
     "text": [
      "\n",
      "-63.5\n",
      "O O O O O O O O X O O O O \n",
      "O X X O O O X X X O X O . \n",
      "X . . . . X X . X . . . . \n",
      ". . . X . . X X X X . . . \n",
      ". . . . . . . . . X . X X \n",
      "X . X . . . X . X X . X . \n",
      "X . . . . . . . X X X X X \n",
      "X . . . . X . X X X X X X \n",
      "X X . . . . . X X X X X X \n",
      "X X X X . X X O O O X X X \n",
      "X X X X X X X O X X X X X \n",
      "X X X X X X X . O X X X X \n",
      "X X X X X X X X X X X X X \n",
      "-63.5\n"
     ]
    },
    {
     "data": {
      "application/vnd.jupyter.widget-view+json": {
       "model_id": "03f311029623466692d4e214b92c45d3",
       "version_major": 2,
       "version_minor": 0
      },
      "text/plain": [
       "HBox(children=(IntProgress(value=0, max=51), HTML(value='')))"
      ]
     },
     "metadata": {},
     "output_type": "display_data"
    },
    {
     "name": "stdout",
     "output_type": "stream",
     "text": [
      "\n",
      "-62.5\n",
      "O O O O O O O O X O O O O \n",
      "O X X O O O X X X O X O O \n",
      "X . . . . X X . X . . . . \n",
      ". . . X . . X X X X . . . \n",
      ". . . . . . . . . X . X X \n",
      "X . X . . . X . X X . X . \n",
      "X . . . . . . . X X X X X \n",
      "X . . . . X . X X X X X X \n",
      "X X . . . . . X X X X X X \n",
      "X X X X . X X O O O X X X \n",
      "X X X X X X X O X X X X X \n",
      "X X X X X X X . O X X X X \n",
      "X X X X X X X X X X X X X \n"
     ]
    }
   ],
   "source": [
    "for i in range(200):\n",
    "    s = env_mank.get_history()\n",
    "    policy, value = fnet.predict(s)\n",
    "    policy = env_mank.get_legal_moves()*policy\n",
    "    action = np.argmax(policy)\n",
    "    env_mank.step(action)\n",
    "    if (env_mank.isComplete()):\n",
    "        print(env_mank.get_winner())\n",
    "        break\n",
    "    print(env_mank.curr_score())    \n",
    "    legal_moves = np.nonzero(env_mank.get_legal_moves())[0]\n",
    "    opp_action = a.get_action(s,action)\n",
    "    env_mank.step(opp_action)\n",
    "    print(env_mank.curr_score())\n",
    "    env_mank.print_board()\n",
    "    if (env_mank.isComplete()):\n",
    "        print(env_mank.get_winner())\n",
    "        break"
   ]
  },
  {
   "cell_type": "code",
   "execution_count": 15,
   "metadata": {},
   "outputs": [
    {
     "data": {
      "text/plain": [
       "5.5"
      ]
     },
     "execution_count": 15,
     "metadata": {},
     "output_type": "execute_result"
    }
   ],
   "source": [
    "a.get_action"
   ]
  },
  {
   "cell_type": "code",
   "execution_count": null,
   "metadata": {},
   "outputs": [],
   "source": []
  }
 ],
 "metadata": {
  "kernelspec": {
   "display_name": "Python 3",
   "language": "python",
   "name": "python3"
  },
  "language_info": {
   "codemirror_mode": {
    "name": "ipython",
    "version": 3
   },
   "file_extension": ".py",
   "mimetype": "text/x-python",
   "name": "python",
   "nbconvert_exporter": "python",
   "pygments_lexer": "ipython3",
   "version": "3.7.4"
  }
 },
 "nbformat": 4,
 "nbformat_minor": 2
}
