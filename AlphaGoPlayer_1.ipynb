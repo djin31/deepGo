{
 "cells": [
  {
   "cell_type": "code",
   "execution_count": 2,
   "metadata": {},
   "outputs": [],
   "source": [
    "from utils_1 import goenv, fnet"
   ]
  },
  {
   "cell_type": "code",
   "execution_count": null,
   "metadata": {},
   "outputs": [],
   "source": [
    "class AlphaGoPlayer():\n",
    "    def __init__(self, init_state, seed, player_color):\n",
    "        self.init_state=init_state\n",
    "        self.seed = seed\n",
    "        self.player_color = player_color\n",
    "\n",
    "    def get_action(self, cur_state):\n",
    "        # Do Coolstuff using cur_state\n",
    "        # Check illegal Move\n",
    "        print ('i am player 1')\n",
    "        return 169\n",
    "\n",
    "        action = np.random.randint(0, 169)\n",
    "        return action"
   ]
  }
 ],
 "metadata": {
  "kernelspec": {
   "display_name": "Python 3",
   "language": "python",
   "name": "python3"
  },
  "language_info": {
   "codemirror_mode": {
    "name": "ipython",
    "version": 3
   },
   "file_extension": ".py",
   "mimetype": "text/x-python",
   "name": "python",
   "nbconvert_exporter": "python",
   "pygments_lexer": "ipython3",
   "version": "3.7.4"
  }
 },
 "nbformat": 4,
 "nbformat_minor": 2
}
