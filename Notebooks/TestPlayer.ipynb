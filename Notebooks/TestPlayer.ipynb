{
 "cells": [
  {
   "cell_type": "markdown",
   "metadata": {},
   "source": [
    "# Testing various models by playing match against each other"
   ]
  },
  {
   "cell_type": "code",
   "execution_count": 2,
   "metadata": {},
   "outputs": [],
   "source": [
    "# Imports\n",
    "from utils_1.goenv import GoEnv,_format_state, create_env_copy\n",
    "from utils_1.fnet import NeuralTrainer, AlphaNeural\n",
    "import numpy as np\n",
    "from tqdm.auto import tqdm"
   ]
  },
  {
   "cell_type": "markdown",
   "metadata": {},
   "source": [
    "## Simple Policy Player"
   ]
  },
  {
   "cell_type": "code",
   "execution_count": 3,
   "metadata": {},
   "outputs": [],
   "source": [
    "class AlphaGoPlayer():\n",
    "    def __init__(self, player_color, path = \"utils_1/nov8/net30.model\", play_random=False, debug=True, **useless_args):\n",
    "        # setup parameters\n",
    "        self.player_color = player_color\n",
    "        self.random_player = play_random\n",
    "        \n",
    "        # init environment\n",
    "        if player_color==1:\n",
    "            self.env = GoEnv(player_color=\"black\", board_size=13)\n",
    "        else:\n",
    "            self.env = GoEnv(player_color=\"white\", board_size=13)\n",
    "        self.env.reset()\n",
    "        self.debug=debug\n",
    "        \n",
    "        # load neural network\n",
    "        self.model = NeuralTrainer(res_blocks=10, board_size=13)\n",
    "        self.model.load_model(path)\n",
    "        \n",
    "    def get_action(self, cur_state, opponent_action):\n",
    "        if opponent_action>=0:\n",
    "            self.env.step(opponent_action)\n",
    "            if self.debug:\n",
    "                print('-------------------------------------')\n",
    "                print('opponent_action: ' + str(opponent_action))\n",
    "                print('-------------------------------------')\n",
    "        \n",
    "        legal_moves = self.env.get_legal_moves()\n",
    "        if self.random_player:\n",
    "                actions = np.nonzero(self.env.get_legal_moves())[0]\n",
    "                action = np.random.choice(actions)\n",
    "        else:\n",
    "            policy, value = self.model.predict(self.env.get_history())\n",
    "            policy = policy*legal_moves\n",
    "            action = np.argmax(policy)\n",
    "            \n",
    "        self.env.step(action)\n",
    "        \n",
    "        if self.debug:\n",
    "            print('-------------------------------------')\n",
    "            print('player_action: ' + str(action))\n",
    "            print('-------------------------------------')\n",
    "            self.env.print_board()\n",
    "        \n",
    "        return action"
   ]
  },
  {
   "cell_type": "markdown",
   "metadata": {},
   "source": [
    "# 1DepthPlayer (in testing phase)"
   ]
  },
  {
   "cell_type": "code",
   "execution_count": 4,
   "metadata": {},
   "outputs": [],
   "source": [
    "class MaxPValPlayer:\n",
    "    def __init__(self, board_size, player_color, max_depth=3, path=None):\n",
    "        self.board_size = board_size\n",
    "        self.max_depth = max_depth\n",
    "        self.player_color = player_color\n",
    "        \n",
    "        # load neural network\n",
    "        self.model = NeuralTrainer(res_blocks=10, board_size=13)\n",
    "        self.model.load_model(path)\n",
    "        \n",
    "        \n",
    "    def search(self, state):\n",
    "        # Which player to play in this state\n",
    "        player_turn = state.player_turn()\n",
    "        \n",
    "        stack = state.get_history()\n",
    "        p, v = self.model.predict(stack)\n",
    "        \n",
    "        valid_moves = state.get_legal_moves()\n",
    "        \n",
    "        children = []; actions = []\n",
    "        for a in np.nonzero(valid_moves)[0]:\n",
    "            try:\n",
    "                state_copy = create_env_copy(state)\n",
    "                state_copy.step(a)\n",
    "                children.append(state_copy)\n",
    "                actions.append(a)\n",
    "            except:\n",
    "                continue\n",
    "                \n",
    "        stack_list = [state.get_history() for state in children]\n",
    "        pi_list, v_list = self.model.predict(stack_list)\n",
    "        \n",
    "#         print (len(actions), type(actions))\n",
    "#         print (len(p), type(p))\n",
    "#         print (len(v_list), type(v_list))\n",
    "        \n",
    "        # The values are w.r.t to the children - for parent it's the negative\n",
    "        v_list = -1 * v_list\n",
    "        v_list = np.exp(v_list)/np.sum(np.exp(v_list))\n",
    "        \n",
    "        values = np.zeros(len(p))\n",
    "        for v, a in zip(v_list, actions):\n",
    "            values[a] = v\n",
    "            \n",
    "#         print (len(values), type(values))\n",
    "#         print (len(actions), type(actions))\n",
    "        \n",
    "        probs = p * values\n",
    "        \n",
    "#         print (len(probs))\n",
    "#         print ('-------------------------------------------------')\n",
    "        return np.argmax(probs)\n"
   ]
  },
  {
   "cell_type": "code",
   "execution_count": 5,
   "metadata": {},
   "outputs": [],
   "source": [
    "class Depth1Player():\n",
    "    def __init__(self, player_color, path = \"utils_1/nov8/net30.model\", debug=True, **useless_args):\n",
    "        # setup parameters\n",
    "        self.player_color = player_color\n",
    "        \n",
    "        self.player = MaxPValPlayer(board_size=13, player_color=player_color, max_depth=1, path=path)\n",
    "        \n",
    "        # init environment\n",
    "        if player_color==1:\n",
    "            self.env = GoEnv(player_color=\"black\", board_size=13)\n",
    "        else:\n",
    "            self.env = GoEnv(player_color=\"white\", board_size=13)\n",
    "        self.env.reset()\n",
    "        \n",
    "        \n",
    "    def get_action(self, cur_state, opponent_action):\n",
    "        if opponent_action>=0:\n",
    "            self.env.step(opponent_action)\n",
    "        \n",
    "        action = self.player.search(self.env)\n",
    "        self.env.step(action)\n",
    "        \n",
    "        return action"
   ]
  },
  {
   "cell_type": "markdown",
   "metadata": {},
   "source": [
    "# Playing Matches"
   ]
  },
  {
   "cell_type": "code",
   "execution_count": 6,
   "metadata": {},
   "outputs": [],
   "source": [
    "def play_matches(a1_configs, a2_configs, num_matches=20,\n",
    "                 player_colors={'black': 'a1', 'white': 'a2'}, tournament_no=1):\n",
    "    # Play matches between a1 and a2\n",
    "    print ('Starting Tournament #%d' % tournament_no)\n",
    "    print (player_colors)\n",
    "    \n",
    "    wins = {\n",
    "        'a1': 0,\n",
    "        'a2': 0\n",
    "    }\n",
    "\n",
    "    for match_no in tqdm(range(num_matches)):\n",
    "        state = GoEnv(\"black\", board_size=13)\n",
    "        state.reset()\n",
    "        \n",
    "        if 'depth1' in a1_configs:\n",
    "            a1 = Depth1Player(**a1_configs)\n",
    "        else:\n",
    "            a1 = AlphaGoPlayer(**a1_configs)\n",
    "        \n",
    "        if 'depth1' in a2_configs:\n",
    "            a2 = Depth1Player(**a2_configs)\n",
    "        else:\n",
    "            a2 = AlphaGoPlayer(**a2_configs)\n",
    "\n",
    "        a1_action = -1\n",
    "        a2_action = -1\n",
    "\n",
    "        for i in range(400):\n",
    "            if(i==399):\n",
    "                print(\"Limit reached\")\n",
    "\n",
    "            a1_action = a1.get_action('null', a2_action)\n",
    "            _, _, done = state.step(a1_action)\n",
    "            if (done or state.isComplete()):\n",
    "                break   \n",
    "\n",
    "            a2_action = a2.get_action('null', a1_action)\n",
    "            _, _, done = state.step(a2_action)\n",
    "            if (done or state.isComplete()):\n",
    "                break\n",
    "\n",
    "        winner = -1 * state.get_winner()\n",
    "        if winner == 1:\n",
    "            # It's black's victory\n",
    "            wins[player_colors['black']] += 1\n",
    "        else:\n",
    "            # It's white victory\n",
    "            wins[player_colors['white']] += 1\n",
    "\n",
    "#         if ((match_no+1) / num_matches >= 0.5):\n",
    "        if ((match_no+1) % 10 == 0):\n",
    "            # Log after every 10 matches\n",
    "            print (wins)\n",
    "\n",
    "    print(wins)\n",
    "    print ('-----------------------------------------------------------------------------')"
   ]
  },
  {
   "cell_type": "code",
   "execution_count": 7,
   "metadata": {},
   "outputs": [
    {
     "name": "stdout",
     "output_type": "stream",
     "text": [
      "Starting Tournament #1\n",
      "{'black': 'a1', 'white': 'a2'}\n"
     ]
    },
    {
     "data": {
      "application/vnd.jupyter.widget-view+json": {
       "model_id": "c176cf13ac1543ddbd9cfcfade6508c8",
       "version_major": 2,
       "version_minor": 0
      },
      "text/plain": [
       "HBox(children=(IntProgress(value=0, max=20), HTML(value='')))"
      ]
     },
     "metadata": {},
     "output_type": "display_data"
    },
    {
     "ename": "KeyboardInterrupt",
     "evalue": "",
     "output_type": "error",
     "traceback": [
      "\u001b[0;31m---------------------------------------------------------------------------\u001b[0m",
      "\u001b[0;31mKeyboardInterrupt\u001b[0m                         Traceback (most recent call last)",
      "\u001b[0;32m<ipython-input-7-60803188f78d>\u001b[0m in \u001b[0;36m<module>\u001b[0;34m\u001b[0m\n\u001b[1;32m      3\u001b[0m \u001b[0ma1_configs\u001b[0m \u001b[0;34m=\u001b[0m \u001b[0;34m{\u001b[0m\u001b[0;34m'player_color'\u001b[0m\u001b[0;34m:\u001b[0m \u001b[0;36m1\u001b[0m\u001b[0;34m,\u001b[0m \u001b[0;34m'path'\u001b[0m\u001b[0;34m:\u001b[0m \u001b[0;34m\"utils_nov8/nov8/net37.model\"\u001b[0m\u001b[0;34m,\u001b[0m \u001b[0;34m'debug'\u001b[0m\u001b[0;34m:\u001b[0m \u001b[0;32mFalse\u001b[0m\u001b[0;34m}\u001b[0m\u001b[0;34m\u001b[0m\u001b[0;34m\u001b[0m\u001b[0m\n\u001b[1;32m      4\u001b[0m \u001b[0ma2_configs\u001b[0m \u001b[0;34m=\u001b[0m \u001b[0;34m{\u001b[0m\u001b[0;34m'player_color'\u001b[0m\u001b[0;34m:\u001b[0m \u001b[0;36m2\u001b[0m\u001b[0;34m,\u001b[0m \u001b[0;34m'path'\u001b[0m\u001b[0;34m:\u001b[0m \u001b[0;34m\"utils_nov8/nov8/net55.model\"\u001b[0m\u001b[0;34m,\u001b[0m \u001b[0;34m'debug'\u001b[0m\u001b[0;34m:\u001b[0m \u001b[0;32mFalse\u001b[0m\u001b[0;34m}\u001b[0m\u001b[0;34m\u001b[0m\u001b[0;34m\u001b[0m\u001b[0m\n\u001b[0;32m----> 5\u001b[0;31m \u001b[0mplay_matches\u001b[0m\u001b[0;34m(\u001b[0m\u001b[0ma1_configs\u001b[0m\u001b[0;34m,\u001b[0m \u001b[0ma2_configs\u001b[0m\u001b[0;34m,\u001b[0m \u001b[0mplayer_colors\u001b[0m\u001b[0;34m=\u001b[0m\u001b[0mplayer_colors\u001b[0m\u001b[0;34m,\u001b[0m \u001b[0mtournament_no\u001b[0m\u001b[0;34m=\u001b[0m\u001b[0;36m1\u001b[0m\u001b[0;34m)\u001b[0m\u001b[0;34m\u001b[0m\u001b[0;34m\u001b[0m\u001b[0m\n\u001b[0m",
      "\u001b[0;32m<ipython-input-6-ed6eac1bdf86>\u001b[0m in \u001b[0;36mplay_matches\u001b[0;34m(a1_configs, a2_configs, num_matches, player_colors, tournament_no)\u001b[0m\n\u001b[1;32m     22\u001b[0m             \u001b[0ma2\u001b[0m \u001b[0;34m=\u001b[0m \u001b[0mDepth1Player\u001b[0m\u001b[0;34m(\u001b[0m\u001b[0;34m**\u001b[0m\u001b[0ma2_configs\u001b[0m\u001b[0;34m)\u001b[0m\u001b[0;34m\u001b[0m\u001b[0;34m\u001b[0m\u001b[0m\n\u001b[1;32m     23\u001b[0m         \u001b[0;32melse\u001b[0m\u001b[0;34m:\u001b[0m\u001b[0;34m\u001b[0m\u001b[0;34m\u001b[0m\u001b[0m\n\u001b[0;32m---> 24\u001b[0;31m             \u001b[0ma2\u001b[0m \u001b[0;34m=\u001b[0m \u001b[0mAlphaGoPlayer\u001b[0m\u001b[0;34m(\u001b[0m\u001b[0;34m**\u001b[0m\u001b[0ma2_configs\u001b[0m\u001b[0;34m)\u001b[0m\u001b[0;34m\u001b[0m\u001b[0;34m\u001b[0m\u001b[0m\n\u001b[0m\u001b[1;32m     25\u001b[0m \u001b[0;34m\u001b[0m\u001b[0m\n\u001b[1;32m     26\u001b[0m         \u001b[0ma1_action\u001b[0m \u001b[0;34m=\u001b[0m \u001b[0;34m-\u001b[0m\u001b[0;36m1\u001b[0m\u001b[0;34m\u001b[0m\u001b[0;34m\u001b[0m\u001b[0m\n",
      "\u001b[0;32m<ipython-input-3-357ee3fe4b35>\u001b[0m in \u001b[0;36m__init__\u001b[0;34m(self, player_color, path, play_random, debug, **useless_args)\u001b[0m\n\u001b[1;32m     15\u001b[0m         \u001b[0;31m# load neural network\u001b[0m\u001b[0;34m\u001b[0m\u001b[0;34m\u001b[0m\u001b[0;34m\u001b[0m\u001b[0m\n\u001b[1;32m     16\u001b[0m         \u001b[0mself\u001b[0m\u001b[0;34m.\u001b[0m\u001b[0mmodel\u001b[0m \u001b[0;34m=\u001b[0m \u001b[0mNeuralTrainer\u001b[0m\u001b[0;34m(\u001b[0m\u001b[0mres_blocks\u001b[0m\u001b[0;34m=\u001b[0m\u001b[0;36m10\u001b[0m\u001b[0;34m,\u001b[0m \u001b[0mboard_size\u001b[0m\u001b[0;34m=\u001b[0m\u001b[0;36m13\u001b[0m\u001b[0;34m)\u001b[0m\u001b[0;34m\u001b[0m\u001b[0;34m\u001b[0m\u001b[0m\n\u001b[0;32m---> 17\u001b[0;31m         \u001b[0mself\u001b[0m\u001b[0;34m.\u001b[0m\u001b[0mmodel\u001b[0m\u001b[0;34m.\u001b[0m\u001b[0mload_model\u001b[0m\u001b[0;34m(\u001b[0m\u001b[0mpath\u001b[0m\u001b[0;34m)\u001b[0m\u001b[0;34m\u001b[0m\u001b[0;34m\u001b[0m\u001b[0m\n\u001b[0m\u001b[1;32m     18\u001b[0m \u001b[0;34m\u001b[0m\u001b[0m\n\u001b[1;32m     19\u001b[0m     \u001b[0;32mdef\u001b[0m \u001b[0mget_action\u001b[0m\u001b[0;34m(\u001b[0m\u001b[0mself\u001b[0m\u001b[0;34m,\u001b[0m \u001b[0mcur_state\u001b[0m\u001b[0;34m,\u001b[0m \u001b[0mopponent_action\u001b[0m\u001b[0;34m)\u001b[0m\u001b[0;34m:\u001b[0m\u001b[0;34m\u001b[0m\u001b[0;34m\u001b[0m\u001b[0m\n",
      "\u001b[0;32m~/rl/deepGo/utils_1/fnet.py\u001b[0m in \u001b[0;36mload_model\u001b[0;34m(self, checkpoint_path)\u001b[0m\n\u001b[1;32m    190\u001b[0m \u001b[0;34m\u001b[0m\u001b[0m\n\u001b[1;32m    191\u001b[0m     \u001b[0;32mdef\u001b[0m \u001b[0mload_model\u001b[0m\u001b[0;34m(\u001b[0m\u001b[0mself\u001b[0m\u001b[0;34m,\u001b[0m \u001b[0mcheckpoint_path\u001b[0m\u001b[0;34m)\u001b[0m\u001b[0;34m:\u001b[0m\u001b[0;34m\u001b[0m\u001b[0;34m\u001b[0m\u001b[0m\n\u001b[0;32m--> 192\u001b[0;31m         \u001b[0mself\u001b[0m\u001b[0;34m.\u001b[0m\u001b[0mnet\u001b[0m\u001b[0;34m.\u001b[0m\u001b[0mload_state_dict\u001b[0m\u001b[0;34m(\u001b[0m\u001b[0mtorch\u001b[0m\u001b[0;34m.\u001b[0m\u001b[0mload\u001b[0m\u001b[0;34m(\u001b[0m\u001b[0mcheckpoint_path\u001b[0m\u001b[0;34m)\u001b[0m\u001b[0;34m)\u001b[0m\u001b[0;34m\u001b[0m\u001b[0;34m\u001b[0m\u001b[0m\n\u001b[0m",
      "\u001b[0;32m~/anaconda3/envs/AlphaGo/lib/python3.7/site-packages/torch/nn/modules/module.py\u001b[0m in \u001b[0;36mload_state_dict\u001b[0;34m(self, state_dict, strict)\u001b[0m\n\u001b[1;32m    822\u001b[0m                     \u001b[0mload\u001b[0m\u001b[0;34m(\u001b[0m\u001b[0mchild\u001b[0m\u001b[0;34m,\u001b[0m \u001b[0mprefix\u001b[0m \u001b[0;34m+\u001b[0m \u001b[0mname\u001b[0m \u001b[0;34m+\u001b[0m \u001b[0;34m'.'\u001b[0m\u001b[0;34m)\u001b[0m\u001b[0;34m\u001b[0m\u001b[0;34m\u001b[0m\u001b[0m\n\u001b[1;32m    823\u001b[0m \u001b[0;34m\u001b[0m\u001b[0m\n\u001b[0;32m--> 824\u001b[0;31m         \u001b[0mload\u001b[0m\u001b[0;34m(\u001b[0m\u001b[0mself\u001b[0m\u001b[0;34m)\u001b[0m\u001b[0;34m\u001b[0m\u001b[0;34m\u001b[0m\u001b[0m\n\u001b[0m\u001b[1;32m    825\u001b[0m         \u001b[0mload\u001b[0m \u001b[0;34m=\u001b[0m \u001b[0;32mNone\u001b[0m  \u001b[0;31m# break load->load reference cycle\u001b[0m\u001b[0;34m\u001b[0m\u001b[0;34m\u001b[0m\u001b[0m\n\u001b[1;32m    826\u001b[0m \u001b[0;34m\u001b[0m\u001b[0m\n",
      "\u001b[0;32m~/anaconda3/envs/AlphaGo/lib/python3.7/site-packages/torch/nn/modules/module.py\u001b[0m in \u001b[0;36mload\u001b[0;34m(module, prefix)\u001b[0m\n\u001b[1;32m    820\u001b[0m             \u001b[0;32mfor\u001b[0m \u001b[0mname\u001b[0m\u001b[0;34m,\u001b[0m \u001b[0mchild\u001b[0m \u001b[0;32min\u001b[0m \u001b[0mmodule\u001b[0m\u001b[0;34m.\u001b[0m\u001b[0m_modules\u001b[0m\u001b[0;34m.\u001b[0m\u001b[0mitems\u001b[0m\u001b[0;34m(\u001b[0m\u001b[0;34m)\u001b[0m\u001b[0;34m:\u001b[0m\u001b[0;34m\u001b[0m\u001b[0;34m\u001b[0m\u001b[0m\n\u001b[1;32m    821\u001b[0m                 \u001b[0;32mif\u001b[0m \u001b[0mchild\u001b[0m \u001b[0;32mis\u001b[0m \u001b[0;32mnot\u001b[0m \u001b[0;32mNone\u001b[0m\u001b[0;34m:\u001b[0m\u001b[0;34m\u001b[0m\u001b[0;34m\u001b[0m\u001b[0m\n\u001b[0;32m--> 822\u001b[0;31m                     \u001b[0mload\u001b[0m\u001b[0;34m(\u001b[0m\u001b[0mchild\u001b[0m\u001b[0;34m,\u001b[0m \u001b[0mprefix\u001b[0m \u001b[0;34m+\u001b[0m \u001b[0mname\u001b[0m \u001b[0;34m+\u001b[0m \u001b[0;34m'.'\u001b[0m\u001b[0;34m)\u001b[0m\u001b[0;34m\u001b[0m\u001b[0;34m\u001b[0m\u001b[0m\n\u001b[0m\u001b[1;32m    823\u001b[0m \u001b[0;34m\u001b[0m\u001b[0m\n\u001b[1;32m    824\u001b[0m         \u001b[0mload\u001b[0m\u001b[0;34m(\u001b[0m\u001b[0mself\u001b[0m\u001b[0;34m)\u001b[0m\u001b[0;34m\u001b[0m\u001b[0;34m\u001b[0m\u001b[0m\n",
      "\u001b[0;32m~/anaconda3/envs/AlphaGo/lib/python3.7/site-packages/torch/nn/modules/module.py\u001b[0m in \u001b[0;36mload\u001b[0;34m(module, prefix)\u001b[0m\n\u001b[1;32m    820\u001b[0m             \u001b[0;32mfor\u001b[0m \u001b[0mname\u001b[0m\u001b[0;34m,\u001b[0m \u001b[0mchild\u001b[0m \u001b[0;32min\u001b[0m \u001b[0mmodule\u001b[0m\u001b[0;34m.\u001b[0m\u001b[0m_modules\u001b[0m\u001b[0;34m.\u001b[0m\u001b[0mitems\u001b[0m\u001b[0;34m(\u001b[0m\u001b[0;34m)\u001b[0m\u001b[0;34m:\u001b[0m\u001b[0;34m\u001b[0m\u001b[0;34m\u001b[0m\u001b[0m\n\u001b[1;32m    821\u001b[0m                 \u001b[0;32mif\u001b[0m \u001b[0mchild\u001b[0m \u001b[0;32mis\u001b[0m \u001b[0;32mnot\u001b[0m \u001b[0;32mNone\u001b[0m\u001b[0;34m:\u001b[0m\u001b[0;34m\u001b[0m\u001b[0;34m\u001b[0m\u001b[0m\n\u001b[0;32m--> 822\u001b[0;31m                     \u001b[0mload\u001b[0m\u001b[0;34m(\u001b[0m\u001b[0mchild\u001b[0m\u001b[0;34m,\u001b[0m \u001b[0mprefix\u001b[0m \u001b[0;34m+\u001b[0m \u001b[0mname\u001b[0m \u001b[0;34m+\u001b[0m \u001b[0;34m'.'\u001b[0m\u001b[0;34m)\u001b[0m\u001b[0;34m\u001b[0m\u001b[0;34m\u001b[0m\u001b[0m\n\u001b[0m\u001b[1;32m    823\u001b[0m \u001b[0;34m\u001b[0m\u001b[0m\n\u001b[1;32m    824\u001b[0m         \u001b[0mload\u001b[0m\u001b[0;34m(\u001b[0m\u001b[0mself\u001b[0m\u001b[0;34m)\u001b[0m\u001b[0;34m\u001b[0m\u001b[0;34m\u001b[0m\u001b[0m\n",
      "\u001b[0;32m~/anaconda3/envs/AlphaGo/lib/python3.7/site-packages/torch/nn/modules/module.py\u001b[0m in \u001b[0;36mload\u001b[0;34m(module, prefix)\u001b[0m\n\u001b[1;32m    820\u001b[0m             \u001b[0;32mfor\u001b[0m \u001b[0mname\u001b[0m\u001b[0;34m,\u001b[0m \u001b[0mchild\u001b[0m \u001b[0;32min\u001b[0m \u001b[0mmodule\u001b[0m\u001b[0;34m.\u001b[0m\u001b[0m_modules\u001b[0m\u001b[0;34m.\u001b[0m\u001b[0mitems\u001b[0m\u001b[0;34m(\u001b[0m\u001b[0;34m)\u001b[0m\u001b[0;34m:\u001b[0m\u001b[0;34m\u001b[0m\u001b[0;34m\u001b[0m\u001b[0m\n\u001b[1;32m    821\u001b[0m                 \u001b[0;32mif\u001b[0m \u001b[0mchild\u001b[0m \u001b[0;32mis\u001b[0m \u001b[0;32mnot\u001b[0m \u001b[0;32mNone\u001b[0m\u001b[0;34m:\u001b[0m\u001b[0;34m\u001b[0m\u001b[0;34m\u001b[0m\u001b[0m\n\u001b[0;32m--> 822\u001b[0;31m                     \u001b[0mload\u001b[0m\u001b[0;34m(\u001b[0m\u001b[0mchild\u001b[0m\u001b[0;34m,\u001b[0m \u001b[0mprefix\u001b[0m \u001b[0;34m+\u001b[0m \u001b[0mname\u001b[0m \u001b[0;34m+\u001b[0m \u001b[0;34m'.'\u001b[0m\u001b[0;34m)\u001b[0m\u001b[0;34m\u001b[0m\u001b[0;34m\u001b[0m\u001b[0m\n\u001b[0m\u001b[1;32m    823\u001b[0m \u001b[0;34m\u001b[0m\u001b[0m\n\u001b[1;32m    824\u001b[0m         \u001b[0mload\u001b[0m\u001b[0;34m(\u001b[0m\u001b[0mself\u001b[0m\u001b[0;34m)\u001b[0m\u001b[0;34m\u001b[0m\u001b[0;34m\u001b[0m\u001b[0m\n",
      "\u001b[0;32m~/anaconda3/envs/AlphaGo/lib/python3.7/site-packages/torch/nn/modules/module.py\u001b[0m in \u001b[0;36mload\u001b[0;34m(module, prefix)\u001b[0m\n\u001b[1;32m    817\u001b[0m             \u001b[0mlocal_metadata\u001b[0m \u001b[0;34m=\u001b[0m \u001b[0;34m{\u001b[0m\u001b[0;34m}\u001b[0m \u001b[0;32mif\u001b[0m \u001b[0mmetadata\u001b[0m \u001b[0;32mis\u001b[0m \u001b[0;32mNone\u001b[0m \u001b[0;32melse\u001b[0m \u001b[0mmetadata\u001b[0m\u001b[0;34m.\u001b[0m\u001b[0mget\u001b[0m\u001b[0;34m(\u001b[0m\u001b[0mprefix\u001b[0m\u001b[0;34m[\u001b[0m\u001b[0;34m:\u001b[0m\u001b[0;34m-\u001b[0m\u001b[0;36m1\u001b[0m\u001b[0;34m]\u001b[0m\u001b[0;34m,\u001b[0m \u001b[0;34m{\u001b[0m\u001b[0;34m}\u001b[0m\u001b[0;34m)\u001b[0m\u001b[0;34m\u001b[0m\u001b[0;34m\u001b[0m\u001b[0m\n\u001b[1;32m    818\u001b[0m             module._load_from_state_dict(\n\u001b[0;32m--> 819\u001b[0;31m                 state_dict, prefix, local_metadata, True, missing_keys, unexpected_keys, error_msgs)\n\u001b[0m\u001b[1;32m    820\u001b[0m             \u001b[0;32mfor\u001b[0m \u001b[0mname\u001b[0m\u001b[0;34m,\u001b[0m \u001b[0mchild\u001b[0m \u001b[0;32min\u001b[0m \u001b[0mmodule\u001b[0m\u001b[0;34m.\u001b[0m\u001b[0m_modules\u001b[0m\u001b[0;34m.\u001b[0m\u001b[0mitems\u001b[0m\u001b[0;34m(\u001b[0m\u001b[0;34m)\u001b[0m\u001b[0;34m:\u001b[0m\u001b[0;34m\u001b[0m\u001b[0;34m\u001b[0m\u001b[0m\n\u001b[1;32m    821\u001b[0m                 \u001b[0;32mif\u001b[0m \u001b[0mchild\u001b[0m \u001b[0;32mis\u001b[0m \u001b[0;32mnot\u001b[0m \u001b[0;32mNone\u001b[0m\u001b[0;34m:\u001b[0m\u001b[0;34m\u001b[0m\u001b[0;34m\u001b[0m\u001b[0m\n",
      "\u001b[0;32m~/anaconda3/envs/AlphaGo/lib/python3.7/site-packages/torch/nn/modules/batchnorm.py\u001b[0m in \u001b[0;36m_load_from_state_dict\u001b[0;34m(self, state_dict, prefix, local_metadata, strict, missing_keys, unexpected_keys, error_msgs)\u001b[0m\n\u001b[1;32m     98\u001b[0m         super(_BatchNorm, self)._load_from_state_dict(\n\u001b[1;32m     99\u001b[0m             \u001b[0mstate_dict\u001b[0m\u001b[0;34m,\u001b[0m \u001b[0mprefix\u001b[0m\u001b[0;34m,\u001b[0m \u001b[0mlocal_metadata\u001b[0m\u001b[0;34m,\u001b[0m \u001b[0mstrict\u001b[0m\u001b[0;34m,\u001b[0m\u001b[0;34m\u001b[0m\u001b[0;34m\u001b[0m\u001b[0m\n\u001b[0;32m--> 100\u001b[0;31m             missing_keys, unexpected_keys, error_msgs)\n\u001b[0m\u001b[1;32m    101\u001b[0m \u001b[0;34m\u001b[0m\u001b[0m\n\u001b[1;32m    102\u001b[0m \u001b[0;34m\u001b[0m\u001b[0m\n",
      "\u001b[0;32m~/anaconda3/envs/AlphaGo/lib/python3.7/site-packages/torch/nn/modules/module.py\u001b[0m in \u001b[0;36m_load_from_state_dict\u001b[0;34m(self, state_dict, prefix, local_metadata, strict, missing_keys, unexpected_keys, error_msgs)\u001b[0m\n\u001b[1;32m    780\u001b[0m         \u001b[0;32mif\u001b[0m \u001b[0mstrict\u001b[0m\u001b[0;34m:\u001b[0m\u001b[0;34m\u001b[0m\u001b[0;34m\u001b[0m\u001b[0m\n\u001b[1;32m    781\u001b[0m             \u001b[0;32mfor\u001b[0m \u001b[0mkey\u001b[0m \u001b[0;32min\u001b[0m \u001b[0mstate_dict\u001b[0m\u001b[0;34m.\u001b[0m\u001b[0mkeys\u001b[0m\u001b[0;34m(\u001b[0m\u001b[0;34m)\u001b[0m\u001b[0;34m:\u001b[0m\u001b[0;34m\u001b[0m\u001b[0;34m\u001b[0m\u001b[0m\n\u001b[0;32m--> 782\u001b[0;31m                 \u001b[0;32mif\u001b[0m \u001b[0mkey\u001b[0m\u001b[0;34m.\u001b[0m\u001b[0mstartswith\u001b[0m\u001b[0;34m(\u001b[0m\u001b[0mprefix\u001b[0m\u001b[0;34m)\u001b[0m\u001b[0;34m:\u001b[0m\u001b[0;34m\u001b[0m\u001b[0;34m\u001b[0m\u001b[0m\n\u001b[0m\u001b[1;32m    783\u001b[0m                     \u001b[0minput_name\u001b[0m \u001b[0;34m=\u001b[0m \u001b[0mkey\u001b[0m\u001b[0;34m[\u001b[0m\u001b[0mlen\u001b[0m\u001b[0;34m(\u001b[0m\u001b[0mprefix\u001b[0m\u001b[0;34m)\u001b[0m\u001b[0;34m:\u001b[0m\u001b[0;34m]\u001b[0m\u001b[0;34m\u001b[0m\u001b[0;34m\u001b[0m\u001b[0m\n\u001b[1;32m    784\u001b[0m                     \u001b[0minput_name\u001b[0m \u001b[0;34m=\u001b[0m \u001b[0minput_name\u001b[0m\u001b[0;34m.\u001b[0m\u001b[0msplit\u001b[0m\u001b[0;34m(\u001b[0m\u001b[0;34m'.'\u001b[0m\u001b[0;34m,\u001b[0m \u001b[0;36m1\u001b[0m\u001b[0;34m)\u001b[0m\u001b[0;34m[\u001b[0m\u001b[0;36m0\u001b[0m\u001b[0;34m]\u001b[0m  \u001b[0;31m# get the name of param/buffer/child\u001b[0m\u001b[0;34m\u001b[0m\u001b[0;34m\u001b[0m\u001b[0m\n",
      "\u001b[0;31mKeyboardInterrupt\u001b[0m: "
     ]
    }
   ],
   "source": [
    "# Match 1\n",
    "player_colors = {'black': 'a1', 'white': 'a2'}\n",
    "a1_configs = {'player_color': 1, 'path': \"utils_nov8/nov8/net37.model\", 'debug': False}\n",
    "a2_configs = {'player_color': 2, 'path': \"utils_nov8/nov8/net55.model\", 'debug': False}\n",
    "play_matches(a1_configs, a2_configs, player_colors=player_colors, tournament_no=1)\n"
   ]
  },
  {
   "cell_type": "code",
   "execution_count": null,
   "metadata": {},
   "outputs": [],
   "source": [
    "# Match 2\n",
    "player_colors = {'black': 'a2', 'white': 'a1'}\n",
    "a1_configs = {'player_color': 2, 'path': \"utils_nov8/nov8/net37.model\", 'debug': False}\n",
    "a2_configs = {'player_color': 1, 'path': \"utils_nov8/nov8/net55.model\", 'debug': False}\n",
    "play_matches(a1_configs, a2_configs, player_colors=player_colors, tournament_no=1)"
   ]
  },
  {
   "cell_type": "code",
   "execution_count": null,
   "metadata": {},
   "outputs": [],
   "source": [
    "# Match 1=3\n",
    "player_colors = {'black': 'a1', 'white': 'a2'}\n",
    "a1_configs = {'player_color': 1, 'path': \"utils_nov8/nov8/net37.model\", 'debug': False}\n",
    "a2_configs = {'player_color': 2, 'path': \"utils_1/nov9-correct/net11.model\", 'debug': False}\n",
    "play_matches(a1_configs, a2_configs, player_colors=player_colors, tournament_no=3)\n"
   ]
  },
  {
   "cell_type": "code",
   "execution_count": null,
   "metadata": {},
   "outputs": [],
   "source": [
    "# Match 4\n",
    "player_colors = {'black': 'a2', 'white': 'a1'}\n",
    "a1_configs = {'player_color': 2, 'path': \"utils_nov8/nov8/net37.model\", 'debug': False}\n",
    "a2_configs = {'player_color': 1, 'path': \"utils_1/nov9-correct/net11.model\", 'debug': False}\n",
    "play_matches(a1_configs, a2_configs, player_colors=player_colors, tournament_no=4)\n"
   ]
  },
  {
   "cell_type": "code",
   "execution_count": null,
   "metadata": {},
   "outputs": [],
   "source": [
    "# Match 5\n",
    "player_colors = {'black': 'a1', 'white': 'a2'}\n",
    "a1_configs = {'player_color': 1, 'path': \"utils_nov8/nov8/net37.model\", 'debug': False}\n",
    "a2_configs = {'player_color': 2, 'path': \"utils_1/nov9-correct/net11.model\", 'debug': False, 'play_random': True}\n",
    "play_matches(a1_configs, a2_configs, player_colors=player_colors, tournament_no=5)\n"
   ]
  },
  {
   "cell_type": "code",
   "execution_count": null,
   "metadata": {},
   "outputs": [],
   "source": [
    "# Match 6\n",
    "player_colors = {'black': 'a2', 'white': 'a1'}\n",
    "a1_configs = {'player_color': 2, 'path': \"utils_nov8/nov8/net37.model\", 'debug': False}\n",
    "a2_configs = {'player_color': 1, 'path': \"utils_1/nov9-correct/net11.model\", 'debug': False, 'play_random': True}\n",
    "play_matches(a1_configs, a2_configs, player_colors=player_colors, tournament_no=6)\n"
   ]
  },
  {
   "cell_type": "code",
   "execution_count": null,
   "metadata": {},
   "outputs": [],
   "source": [
    "# Match 7\n",
    "player_colors = {'black': 'a1', 'white': 'a2'}\n",
    "a1_configs = {'player_color': 1, 'path': \"utils_nov8/nov8/net37.model\", 'debug': False, 'play_random': True}\n",
    "a2_configs = {'player_color': 2, 'path': \"utils_1/nov9-correct/net11.model\", 'debug': False}\n",
    "play_matches(a1_configs, a2_configs, player_colors=player_colors, tournament_no=5)\n"
   ]
  },
  {
   "cell_type": "code",
   "execution_count": null,
   "metadata": {},
   "outputs": [],
   "source": [
    "# Match 7\n",
    "player_colors = {'black': 'a2', 'white': 'a1'}\n",
    "a1_configs = {'player_color': 2, 'path': \"utils_nov8/nov8/net37.model\", 'debug': False, 'play_random': True}\n",
    "a2_configs = {'player_color': 1, 'path': \"utils_1/nov9-correct/net11.model\", 'debug': False}\n",
    "play_matches(a1_configs, a2_configs, player_colors=player_colors, tournament_no=5)\n"
   ]
  },
  {
   "cell_type": "code",
   "execution_count": null,
   "metadata": {},
   "outputs": [],
   "source": [
    "player_colors = {'black': 'a1', 'white': 'a2'}\n",
    "a1_configs = {'player_color': 1, 'path': \"utils_nov8/nov8/net55.model\", 'debug': False}\n",
    "a2_configs = {'player_color': 2, 'path': \"utils_nov8/nov10/net1.model\", 'debug': False}\n",
    "play_matches(a1_configs, a2_configs, player_colors=player_colors, tournament_no=1)\n"
   ]
  },
  {
   "cell_type": "code",
   "execution_count": null,
   "metadata": {},
   "outputs": [],
   "source": [
    "player_colors = {'black': 'a2', 'white': 'a1'}\n",
    "a1_configs = {'player_color': 2, 'path': \"utils_nov8/nov8/net55.model\", 'debug': False}\n",
    "a2_configs = {'player_color': 1, 'path': \"utils_nov8/nov10/net1.model\", 'debug': False}\n",
    "play_matches(a1_configs, a2_configs, player_colors=player_colors, tournament_no=1)\n"
   ]
  },
  {
   "cell_type": "code",
   "execution_count": null,
   "metadata": {},
   "outputs": [],
   "source": [
    "player_colors = {'black': 'a2', 'white': 'a1'}\n",
    "a1_configs = {'player_color': 2, 'path': \"utils_nov8/nov8/net55.model\", 'debug': False, 'play_random': True}\n",
    "a2_configs = {'player_color': 1, 'path': \"utils_nov8/nov10/net1.model\", 'debug': False}\n",
    "play_matches(a1_configs, a2_configs, player_colors=player_colors, tournament_no=1)\n"
   ]
  },
  {
   "cell_type": "code",
   "execution_count": 18,
   "metadata": {},
   "outputs": [
    {
     "name": "stdout",
     "output_type": "stream",
     "text": [
      "Starting Tournament #1\n",
      "{'black': 'a1', 'white': 'a2'}\n"
     ]
    },
    {
     "data": {
      "application/vnd.jupyter.widget-view+json": {
       "model_id": "eabc9279b3f246dea733ce27680b4a35",
       "version_major": 2,
       "version_minor": 0
      },
      "text/plain": [
       "HBox(children=(IntProgress(value=0, max=20), HTML(value='')))"
      ]
     },
     "metadata": {},
     "output_type": "display_data"
    },
    {
     "name": "stdout",
     "output_type": "stream",
     "text": [
      "{'a1': 2, 'a2': 8}\n",
      "{'a1': 3, 'a2': 17}\n",
      "\n",
      "{'a1': 3, 'a2': 17}\n",
      "-----------------------------------------------------------------------------\n"
     ]
    }
   ],
   "source": [
    "player_colors = {'black': 'a1', 'white': 'a2'}\n",
    "a1_configs = {'player_color': 1, 'path': \"utils_nov8/nov8/net55.model\", 'debug': False, 'play_random': True}\n",
    "a2_configs = {'player_color': 2, 'path': \"utils_nov8/nov10/net1.model\", 'debug': False}\n",
    "play_matches(a1_configs, a2_configs, player_colors=player_colors, tournament_no=1)\n"
   ]
  },
  {
   "cell_type": "code",
   "execution_count": 6,
   "metadata": {
    "scrolled": true
   },
   "outputs": [
    {
     "name": "stdout",
     "output_type": "stream",
     "text": [
      "Starting Tournament #1\n",
      "{'black': 'a1', 'white': 'a2'}\n"
     ]
    },
    {
     "data": {
      "application/vnd.jupyter.widget-view+json": {
       "model_id": "4da2ffc599434ad8bc0333112c7ab5d2",
       "version_major": 2,
       "version_minor": 0
      },
      "text/plain": [
       "HBox(children=(IntProgress(value=0, max=2), HTML(value='')))"
      ]
     },
     "metadata": {},
     "output_type": "display_data"
    },
    {
     "name": "stdout",
     "output_type": "stream",
     "text": [
      "{'a1': 0, 'a2': 1}\n",
      "{'a1': 1, 'a2': 1}\n",
      "\n",
      "{'a1': 1, 'a2': 1}\n",
      "-----------------------------------------------------------------------------\n"
     ]
    }
   ],
   "source": [
    "player_colors = {'black': 'a1', 'white': 'a2'}\n",
    "a1_configs = {'player_color': 1, 'path': \"utils_nov8/nov8/net55.model\", 'debug': False, 'play_random': True}\n",
    "a2_configs = {'player_color': 2, 'path': \"utils_nov8/nov10/net1.model\", 'debug': False, 'depth1': True}\n",
    "play_matches(a1_configs, a2_configs, player_colors=player_colors, tournament_no=1, num_matches=2)\n"
   ]
  },
  {
   "cell_type": "code",
   "execution_count": 8,
   "metadata": {},
   "outputs": [
    {
     "name": "stdout",
     "output_type": "stream",
     "text": [
      "Starting Tournament #5\n",
      "{'black': 'a2', 'white': 'a1'}\n"
     ]
    },
    {
     "data": {
      "application/vnd.jupyter.widget-view+json": {
       "model_id": "6fc4b209de7143718d1b1985c82e5642",
       "version_major": 2,
       "version_minor": 0
      },
      "text/plain": [
       "HBox(children=(IntProgress(value=0, max=6), HTML(value='')))"
      ]
     },
     "metadata": {},
     "output_type": "display_data"
    },
    {
     "name": "stdout",
     "output_type": "stream",
     "text": [
      "{'a1': 1, 'a2': 2}\n",
      "{'a1': 2, 'a2': 2}\n",
      "{'a1': 3, 'a2': 2}\n",
      "{'a1': 4, 'a2': 2}\n",
      "\n",
      "{'a1': 4, 'a2': 2}\n",
      "-----------------------------------------------------------------------------\n"
     ]
    }
   ],
   "source": [
    "# Match 7\n",
    "player_colors = {'black': 'a2', 'white': 'a1'}\n",
    "a1_configs = {'player_color': 2, 'path': \"utils_nov8/nov8/net37.model\", 'debug': False, 'play_random': True}\n",
    "a2_configs = {'player_color': 1, 'path': \"utils_1/nov9-correct/net11.model\", 'debug': False, 'depth1': True}\n",
    "play_matches(a1_configs, a2_configs, player_colors=player_colors, tournament_no=5, num_matches=6)\n"
   ]
  },
  {
   "cell_type": "code",
   "execution_count": 10,
   "metadata": {},
   "outputs": [
    {
     "name": "stdout",
     "output_type": "stream",
     "text": [
      "Starting Tournament #5\n",
      "{'black': 'a2', 'white': 'a1'}\n"
     ]
    },
    {
     "data": {
      "application/vnd.jupyter.widget-view+json": {
       "model_id": "443231568a9b4bdbaab237245d29253f",
       "version_major": 2,
       "version_minor": 0
      },
      "text/plain": [
       "HBox(children=(IntProgress(value=0, max=10), HTML(value='')))"
      ]
     },
     "metadata": {},
     "output_type": "display_data"
    },
    {
     "name": "stdout",
     "output_type": "stream",
     "text": [
      "{'a1': 5, 'a2': 0}\n",
      "{'a1': 6, 'a2': 0}\n",
      "{'a1': 7, 'a2': 0}\n",
      "{'a1': 8, 'a2': 0}\n",
      "{'a1': 9, 'a2': 0}\n",
      "{'a1': 10, 'a2': 0}\n",
      "\n",
      "{'a1': 10, 'a2': 0}\n",
      "-----------------------------------------------------------------------------\n"
     ]
    }
   ],
   "source": [
    "# Match 7\n",
    "player_colors = {'black': 'a2', 'white': 'a1'}\n",
    "a1_configs = {'player_color': 2, 'path': \"utils_nov8/nov8/net37.model\", 'debug': False}\n",
    "a2_configs = {'player_color': 1, 'path': \"utils_1/nov9-correct/net11.model\", 'debug': False, 'depth1': True}\n",
    "play_matches(a1_configs, a2_configs, player_colors=player_colors, tournament_no=5, num_matches=10)\n"
   ]
  },
  {
   "cell_type": "code",
   "execution_count": 9,
   "metadata": {},
   "outputs": [
    {
     "name": "stdout",
     "output_type": "stream",
     "text": [
      "Starting Tournament #5\n",
      "{'black': 'a2', 'white': 'a1'}\n"
     ]
    },
    {
     "data": {
      "application/vnd.jupyter.widget-view+json": {
       "model_id": "ed8441dba00e40b3b4f6cc79f08ccbb4",
       "version_major": 2,
       "version_minor": 0
      },
      "text/plain": [
       "HBox(children=(IntProgress(value=0, max=20), HTML(value='')))"
      ]
     },
     "metadata": {},
     "output_type": "display_data"
    },
    {
     "name": "stdout",
     "output_type": "stream",
     "text": [
      "{'a1': 10, 'a2': 0}\n",
      "{'a1': 20, 'a2': 0}\n",
      "\n",
      "{'a1': 20, 'a2': 0}\n",
      "-----------------------------------------------------------------------------\n"
     ]
    }
   ],
   "source": [
    "# Match 7\n",
    "player_colors = {'black': 'a2', 'white': 'a1'}\n",
    "a1_configs = {'player_color': 2, 'path': \"utils_nov8/nov8/net37.model\", 'debug': False}\n",
    "a2_configs = {'player_color': 1, 'path': \"utils_nov10/nov10/net4.model\", 'debug': False}\n",
    "play_matches(a1_configs, a2_configs, player_colors=player_colors, tournament_no=5, num_matches=20)\n"
   ]
  },
  {
   "cell_type": "code",
   "execution_count": 10,
   "metadata": {},
   "outputs": [
    {
     "name": "stdout",
     "output_type": "stream",
     "text": [
      "Starting Tournament #5\n",
      "{'black': 'a1', 'white': 'a2'}\n"
     ]
    },
    {
     "data": {
      "application/vnd.jupyter.widget-view+json": {
       "model_id": "0a63358e907c48ba8cc183f059132362",
       "version_major": 2,
       "version_minor": 0
      },
      "text/plain": [
       "HBox(children=(IntProgress(value=0, max=20), HTML(value='')))"
      ]
     },
     "metadata": {},
     "output_type": "display_data"
    },
    {
     "name": "stdout",
     "output_type": "stream",
     "text": [
      "{'a1': 10, 'a2': 0}\n",
      "{'a1': 20, 'a2': 0}\n",
      "\n",
      "{'a1': 20, 'a2': 0}\n",
      "-----------------------------------------------------------------------------\n"
     ]
    }
   ],
   "source": [
    "# Match 7\n",
    "player_colors = {'black': 'a1', 'white': 'a2'}\n",
    "a1_configs = {'player_color': 1, 'path': \"utils_nov8/nov8/net37.model\", 'debug': False}\n",
    "a2_configs = {'player_color': 2, 'path': \"utils_nov10/nov10/net4.model\", 'debug': False}\n",
    "play_matches(a1_configs, a2_configs, player_colors=player_colors, tournament_no=5, num_matches=20)\n"
   ]
  },
  {
   "cell_type": "code",
   "execution_count": 8,
   "metadata": {},
   "outputs": [
    {
     "name": "stdout",
     "output_type": "stream",
     "text": [
      "Starting Tournament #5\n",
      "{'black': 'a2', 'white': 'a1'}\n"
     ]
    },
    {
     "data": {
      "application/vnd.jupyter.widget-view+json": {
       "model_id": "d4a0ea12d6cb4e98bc0afbce710f6e49",
       "version_major": 2,
       "version_minor": 0
      },
      "text/plain": [
       "HBox(children=(IntProgress(value=0, max=20), HTML(value='')))"
      ]
     },
     "metadata": {},
     "output_type": "display_data"
    },
    {
     "name": "stdout",
     "output_type": "stream",
     "text": [
      "{'a1': 8, 'a2': 2}\n",
      "{'a1': 16, 'a2': 4}\n",
      "\n",
      "{'a1': 16, 'a2': 4}\n",
      "-----------------------------------------------------------------------------\n"
     ]
    }
   ],
   "source": [
    "# Match 7\n",
    "player_colors = {'black': 'a2', 'white': 'a1'}\n",
    "a1_configs = {'player_color': 2, 'path': \"utils_nov8/nov8/net37.model\", 'debug': False, 'play_random': True}\n",
    "a2_configs = {'player_color': 1, 'path': \"utils_nov10/nov10/net8.model\", 'debug': False}\n",
    "play_matches(a1_configs, a2_configs, player_colors=player_colors, tournament_no=5, num_matches=20)\n"
   ]
  },
  {
   "cell_type": "code",
   "execution_count": 9,
   "metadata": {},
   "outputs": [
    {
     "name": "stdout",
     "output_type": "stream",
     "text": [
      "Starting Tournament #5\n",
      "{'black': 'a1', 'white': 'a2'}\n"
     ]
    },
    {
     "data": {
      "application/vnd.jupyter.widget-view+json": {
       "model_id": "c91f41545c3d4e4eb6434b57ddb9cf94",
       "version_major": 2,
       "version_minor": 0
      },
      "text/plain": [
       "HBox(children=(IntProgress(value=0, max=20), HTML(value='')))"
      ]
     },
     "metadata": {},
     "output_type": "display_data"
    },
    {
     "name": "stdout",
     "output_type": "stream",
     "text": [
      "{'a1': 8, 'a2': 2}\n",
      "{'a1': 16, 'a2': 4}\n",
      "\n",
      "{'a1': 16, 'a2': 4}\n",
      "-----------------------------------------------------------------------------\n"
     ]
    }
   ],
   "source": [
    "# Match 7\n",
    "player_colors = {'black': 'a1', 'white': 'a2'}\n",
    "a1_configs = {'player_color': 1, 'path': \"utils_nov8/nov8/net37.model\", 'debug': False, 'play_random': True}\n",
    "a2_configs = {'player_color': 2, 'path': \"utils_nov10/nov10/net8.model\", 'debug': False}\n",
    "play_matches(a1_configs, a2_configs, player_colors=player_colors, tournament_no=5, num_matches=20)\n"
   ]
  }
 ],
 "metadata": {
  "kernelspec": {
   "display_name": "Python 3",
   "language": "python",
   "name": "python3"
  },
  "language_info": {
   "codemirror_mode": {
    "name": "ipython",
    "version": 3
   },
   "file_extension": ".py",
   "mimetype": "text/x-python",
   "name": "python",
   "nbconvert_exporter": "python",
   "pygments_lexer": "ipython3",
   "version": "3.7.4"
  }
 },
 "nbformat": 4,
 "nbformat_minor": 2
}
