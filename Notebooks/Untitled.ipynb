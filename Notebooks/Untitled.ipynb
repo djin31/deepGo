{
 "cells": [
  {
   "cell_type": "code",
   "execution_count": 2,
   "metadata": {},
   "outputs": [],
   "source": [
    "from utils_1.goenv import GoEnv,_format_state, create_env_copy\n",
    "from utils_1.fnet import NeuralTrainer, AlphaNeural\n",
    "import numpy as np\n",
    "import goSim\n",
    "from tqdm.auto import tqdm"
   ]
  },
  {
   "cell_type": "code",
   "execution_count": 3,
   "metadata": {},
   "outputs": [],
   "source": [
    "class AlphaGoPlayer():\n",
    "    def __init__(self, init_state, seed, player_color, path = \"utils_1/nov8/net30.model\",debug=True):\n",
    "        # setup parameters\n",
    "        self.init_state = init_state\n",
    "        self.seed = seed\n",
    "        self.player_color = player_color\n",
    "        \n",
    "        # init environment\n",
    "        if player_color==1:\n",
    "            self.env = GoEnv(player_color=\"black\", board_size=13)\n",
    "        else:\n",
    "            self.env = GoEnv(player_color=\"white\", board_size=13)\n",
    "        self.env.reset()\n",
    "        self.debug=debug\n",
    "        \n",
    "        # load neural network\n",
    "        self.model = NeuralTrainer(res_blocks=10, board_size=13)\n",
    "        self.model.load_model(path)\n",
    "        \n",
    "    def get_action(self, cur_state, opponent_action):\n",
    "        if opponent_action>=0:\n",
    "            self.env.step(opponent_action)\n",
    "            if self.debug:\n",
    "                print('-------------------------------------')\n",
    "                print('opponent_action: ' + str(opponent_action))\n",
    "                print('-------------------------------------')\n",
    "        \n",
    "        policy, value = self.model.predict(self.env.get_history())\n",
    "        legal_moves = self.env.get_legal_moves()\n",
    "        policy = policy*legal_moves\n",
    "        action = np.argmax(policy)\n",
    "        self.env.step(action)\n",
    "        \n",
    "        if self.debug:\n",
    "            print('-------------------------------------')\n",
    "            print('player_action: ' + str(action))\n",
    "            print('-------------------------------------')\n",
    "            self.env.print_board()\n",
    "        \n",
    "        return action"
   ]
  },
  {
   "cell_type": "markdown",
   "metadata": {},
   "source": [
    "# Mankaran's implementation"
   ]
  },
  {
   "cell_type": "code",
   "execution_count": 7,
   "metadata": {
    "scrolled": true
   },
   "outputs": [
    {
     "data": {
      "application/vnd.jupyter.widget-view+json": {
       "model_id": "31fbe1a8c7f04817b3c85e3f12723bdd",
       "version_major": 2,
       "version_minor": 0
      },
      "text/plain": [
       "HBox(children=(IntProgress(value=0), HTML(value='')))"
      ]
     },
     "metadata": {},
     "output_type": "display_data"
    },
    {
     "name": "stdout",
     "output_type": "stream",
     "text": [
      "1 0.0\n",
      "11 0.7272727272727273\n",
      "21 0.7619047619047619\n",
      "31 0.7419354838709677\n",
      "41 0.7804878048780488\n",
      "51 0.803921568627451\n",
      "61 0.819672131147541\n",
      "71 0.8309859154929577\n",
      "81 0.8024691358024691\n",
      "91 0.8021978021978022\n",
      "\n",
      "0.79\n"
     ]
    }
   ],
   "source": [
    "vic = 0\n",
    "matches = 100\n",
    "for jk in tqdm(range(matches)):\n",
    "    env_mank = GoEnv(\"black\", board_size=13)\n",
    "    s = env_mank.reset();\n",
    "    opp_action=-1\n",
    "    a1 = AlphaGoPlayer(s,1,1,\"utils_nov8/nov8/net36.model\", False)\n",
    "    a2 = AlphaGoPlayer(s, 1, 2, \"utils_nov8/nov8/net36.model\", False)\n",
    "#     a1 = AlphaGoPlayer(s,1,1,\"utils_1/nov9/net11.model\", False)\n",
    "#     a2 = AlphaGoPlayer(s, 1, 2, \"utils_nov8/nov8/net37.model\", False)\n",
    "    for i in range(400):\n",
    "        if(i==399):\n",
    "            print(\"Limit reached\")\n",
    "        s = env_mank.get_history()\n",
    "        action = np.nonzero(env_mank.get_legal_moves())[0]\n",
    "        action = np.random.choice(action)\n",
    "        action = a1.get_action(s,opp_action)\n",
    "        env_mank.step(action)\n",
    "        if (env_mank.isComplete()):\n",
    "#             print(action, opp_action)\n",
    "#             print(env_mank.curr_score())\n",
    "#             print(env_mank.get_winner())\n",
    "#             print(\"Num_moves:\" + str(i+1))\n",
    "            break   \n",
    "\n",
    "        opp_action = np.nonzero(env_mank.get_legal_moves())[0]\n",
    "        opp_action = np.random.choice(opp_action)\n",
    "#         opp_action = a2.get_action(s,action)\n",
    "        env_mank.step(opp_action)\n",
    "    #     print(action, opp_action)\n",
    "    #     print(env_mank.curr_score())\n",
    "    #     env_mank.print_board()\n",
    "        if (env_mank.isComplete()):\n",
    "#             print(env_mank.curr_score())\n",
    "#             print(env_mank.get_winner())\n",
    "#             print(\"Num_moves:\" + str(i+1))\n",
    "            break\n",
    "#     print(env_mank.curr_score())\n",
    "    if(env_mank.curr_score()<0):\n",
    "        vic += 1\n",
    "    if(jk%10==0):\n",
    "        print(jk+1,vic/(jk+1))\n",
    "#     print(\"Loop ended\")\n",
    "print(vic/matches)"
   ]
  },
  {
   "cell_type": "markdown",
   "metadata": {},
   "source": [
    "# My Implementation"
   ]
  },
  {
   "cell_type": "code",
   "execution_count": 9,
   "metadata": {},
   "outputs": [
    {
     "data": {
      "application/vnd.jupyter.widget-view+json": {
       "model_id": "b606d29444b44307b8920a0a07de2157",
       "version_major": 2,
       "version_minor": 0
      },
      "text/plain": [
       "HBox(children=(IntProgress(value=0), HTML(value='')))"
      ]
     },
     "metadata": {},
     "output_type": "display_data"
    },
    {
     "name": "stdout",
     "output_type": "stream",
     "text": [
      "{'a1': 10, 'a2': 0}\n",
      "{'a1': 20, 'a2': 0}\n",
      "{'a1': 30, 'a2': 0}\n",
      "{'a1': 40, 'a2': 0}\n",
      "{'a1': 50, 'a2': 0}\n",
      "{'a1': 60, 'a2': 0}\n",
      "{'a1': 70, 'a2': 0}\n",
      "{'a1': 80, 'a2': 0}\n",
      "{'a1': 90, 'a2': 0}\n",
      "{'a1': 100, 'a2': 0}\n",
      "\n",
      "{'a1': 100, 'a2': 0}\n"
     ]
    }
   ],
   "source": [
    "players = {\n",
    "    'black': 'a1',\n",
    "    'white': 'a2'\n",
    "}\n",
    "\n",
    "wins = {\n",
    "    'a1': 0,\n",
    "    'a2': 0\n",
    "}\n",
    "\n",
    "matches = 100\n",
    "    \n",
    "for match_no in tqdm(range(matches)):\n",
    "    state = GoEnv(\"black\", board_size=13)\n",
    "    s = state.reset()\n",
    "    \n",
    "    a1 = AlphaGoPlayer(s, 1, 1,\"utils_nov8/nov8/net37.model\", False)\n",
    "    a2 = AlphaGoPlayer(s, 1, 2, \"utils_1/nov9-correct/net11.model\", False)\n",
    "\n",
    "    a1_action = -1\n",
    "    a2_action = -1\n",
    "    \n",
    "    for i in range(400):\n",
    "        if(i==399):\n",
    "            print(\"Limit reached\")\n",
    "            \n",
    "#         stack = state.get_history()\n",
    "        a1_action = a1.get_action('null', a2_action)\n",
    "        state.step(a1_action)\n",
    "        if (state.isComplete()):\n",
    "            break   \n",
    "\n",
    "        a2_action = a2.get_action('null', a1_action)\n",
    "        state.step(a2_action)\n",
    "        \n",
    "        if (state.isComplete()):\n",
    "            break\n",
    "            \n",
    "    winner = -1 * state.get_winner()\n",
    "    if winner == 1:\n",
    "        # It's black's victory\n",
    "        wins[players['black']] += 1\n",
    "    else:\n",
    "        # It's white victory\n",
    "        wins[players['white']] += 1\n",
    "    \n",
    "    if ((match_no + 1) % 10 == 0):\n",
    "        # Log after every 10 matches\n",
    "        print (wins)\n",
    "\n",
    "print(wins)"
   ]
  }
 ],
 "metadata": {
  "kernelspec": {
   "display_name": "Python 3",
   "language": "python",
   "name": "python3"
  },
  "language_info": {
   "codemirror_mode": {
    "name": "ipython",
    "version": 3
   },
   "file_extension": ".py",
   "mimetype": "text/x-python",
   "name": "python",
   "nbconvert_exporter": "python",
   "pygments_lexer": "ipython3",
   "version": "3.7.4"
  }
 },
 "nbformat": 4,
 "nbformat_minor": 2
}
