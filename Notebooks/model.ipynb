{
 "cells": [
  {
   "cell_type": "code",
   "execution_count": 2,
   "metadata": {},
   "outputs": [],
   "source": [
    "import numpy as np\n",
    "from tqdm.auto import tqdm\n",
    "\n",
    "import torch\n",
    "import torch.nn as nn\n",
    "import torch.nn.functional as F\n",
    "from torch.utils.data import TensorDataset, DataLoader"
   ]
  },
  {
   "cell_type": "code",
   "execution_count": 3,
   "metadata": {},
   "outputs": [
    {
     "data": {
      "text/plain": [
       "0"
      ]
     },
     "execution_count": 3,
     "metadata": {},
     "output_type": "execute_result"
    }
   ],
   "source": [
    "torch.cuda.current_device()"
   ]
  },
  {
   "cell_type": "code",
   "execution_count": 4,
   "metadata": {},
   "outputs": [],
   "source": [
    "class ConvBlock(nn.Module):\n",
    "    def __init__(self, in_filters, out_filters, kernel_size=3, batchnorm=True, padding=1):\n",
    "        super(ConvBlock, self).__init__()\n",
    "        self.c1 = nn.Conv2d(in_filters, out_filters, kernel_size, padding=padding)\n",
    "        self.bn = batchnorm\n",
    "        self.b1 = nn.BatchNorm2d(out_filters)\n",
    "        \n",
    "    def forward(self, x):\n",
    "        x = self.c1(x)\n",
    "        if self.bn: \n",
    "            x = self.b1(x)\n",
    "        return x"
   ]
  },
  {
   "cell_type": "code",
   "execution_count": 5,
   "metadata": {},
   "outputs": [],
   "source": [
    "class ResidualBlock(nn.Module):\n",
    "    def __init__(self, filters, kernel_size=3, batchnorm=True, activ=F.relu, padding=1):\n",
    "        '''\n",
    "        filters: number of input and output filters for convolution layer\n",
    "        if modifying kernel_size adjust the padding too\n",
    "        '''\n",
    "        super(ResidualBlock, self).__init__()\n",
    "        self.activ = activ\n",
    "        self.conv1 = ConvBlock(in_filters=filters, out_filters=filters, \n",
    "                               kernel_size=kernel_size, batchnorm=batchnorm, padding=padding)\n",
    "        self.conv2 = ConvBlock(in_filters=filters, out_filters=filters, \n",
    "                               kernel_size=kernel_size, batchnorm=batchnorm, padding=padding)\n",
    "    \n",
    "    def forward(self,x):\n",
    "        x_mod = self.activ(self.conv1(x))\n",
    "        x_mod = self.conv2(x_mod)\n",
    "        x_mod = self.activ(x_mod+x)\n",
    "        return x_mod"
   ]
  },
  {
   "cell_type": "code",
   "execution_count": 6,
   "metadata": {},
   "outputs": [],
   "source": [
    "class PolicyHead(nn.Module):\n",
    "    def __init__(self, filters=2, kernel_size=1, batchnorm=True, activ=F.relu, board_size=13, res_filters=256, padding=0):\n",
    "        super(PolicyHead, self).__init__()\n",
    "        self.conv = ConvBlock(in_filters=res_filters, out_filters=filters, \n",
    "                              kernel_size=kernel_size, batchnorm=batchnorm, padding=padding)\n",
    "        self.activ = activ\n",
    "        self.fc_infeatures = filters*board_size*board_size\n",
    "        self.fc = nn.Linear(in_features=self.fc_infeatures, out_features=board_size*board_size+1)\n",
    "    \n",
    "    def forward(self,x):\n",
    "        x = self.activ(self.conv(x))\n",
    "        x = x.view(x.size(0),-1)\n",
    "        x = self.fc(x)\n",
    "        # print(x)\n",
    "        return torch.softmax(x,1)"
   ]
  },
  {
   "cell_type": "code",
   "execution_count": 7,
   "metadata": {},
   "outputs": [],
   "source": [
    "class ValueHead(nn.Module):\n",
    "    def __init__(self, filters=1, kernel_size=1, batchnorm=True, activ=F.relu, board_size=13, res_filters=256, padding=0):\n",
    "        super(ValueHead, self).__init__()\n",
    "        self.conv = ConvBlock(in_filters=res_filters, out_filters=filters, \n",
    "                              kernel_size=kernel_size, batchnorm=batchnorm,  padding=padding)\n",
    "        self.activ = activ\n",
    "        self.fc_infeatures = filters*board_size*board_size\n",
    "        self.fc1 = nn.Linear(in_features=self.fc_infeatures, out_features=256)\n",
    "        self.fc2 = nn.Linear(in_features=256, out_features=1)\n",
    "    \n",
    "    def forward(self,x):\n",
    "        x = self.activ(self.conv(x))\n",
    "        x = x.view(x.size(0),-1)\n",
    "        x = self.fc1(x)\n",
    "        x = self.fc2(x)\n",
    "        return torch.tanh(x)"
   ]
  },
  {
   "cell_type": "code",
   "execution_count": 8,
   "metadata": {},
   "outputs": [],
   "source": [
    "class AlphaNeural(nn.Module):\n",
    "    def __init__(self, res_blocks, board_size):\n",
    "        super(AlphaNeural, self).__init__()\n",
    "        self.res_blocks = res_blocks\n",
    "        self.board_size = board_size\n",
    "        self.input_stack = 17\n",
    "        self.res_filters = 256\n",
    "        \n",
    "        self.conv1 = ConvBlock(in_filters=self.input_stack, out_filters=self.res_filters)\n",
    "        for i in range(self.res_blocks):\n",
    "            self.add_module(\"ResBlock\"+str(i), ResidualBlock(filters=self.res_filters))\n",
    "        self.policy_head = PolicyHead(board_size=self.board_size, res_filters=self.res_filters)\n",
    "        self.value_head = ValueHead(board_size=self.board_size, res_filters=self.res_filters)\n",
    "    \n",
    "    def forward(self,x):\n",
    "        x = torch.relu(self.conv1(x))\n",
    "        # print(x.shape)\n",
    "        for i in range(self.res_blocks):\n",
    "            x = self._modules[\"ResBlock\"+str(i)](x)\n",
    "        # print(x.shape)\n",
    "\n",
    "        action = self.policy_head(x)\n",
    "        # print(action)\n",
    "        value = self.value_head(x)\n",
    "        return action, value"
   ]
  },
  {
   "cell_type": "code",
   "execution_count": 9,
   "metadata": {},
   "outputs": [],
   "source": [
    "model = AlphaNeural(res_blocks=1, board_size=13)"
   ]
  },
  {
   "cell_type": "code",
   "execution_count": 10,
   "metadata": {},
   "outputs": [],
   "source": [
    "x = torch.rand(6,17,13,13)"
   ]
  },
  {
   "cell_type": "code",
   "execution_count": 11,
   "metadata": {},
   "outputs": [
    {
     "data": {
      "text/plain": [
       "torch.Size([6, 170])"
      ]
     },
     "execution_count": 11,
     "metadata": {},
     "output_type": "execute_result"
    }
   ],
   "source": [
    "model(x)[0].shape"
   ]
  },
  {
   "cell_type": "code",
   "execution_count": 12,
   "metadata": {},
   "outputs": [],
   "source": [
    "class NeuralTrainer():\n",
    "    def __init__(self, res_blocks, board_size, lr=1e-3, epochs=10, batch_size=64):\n",
    "        self.net = AlphaNeural(res_blocks=res_blocks, board_size=board_size)\n",
    "        self.lr = lr\n",
    "        self.epochs = epochs\n",
    "        self.batch_size = batch_size\n",
    "        self.value_crit = torch.nn.MSELoss(reduction=\"mean\")\n",
    "        \n",
    "        self.cuda_flag = torch.cuda.is_available()\n",
    "        if self.cuda_flag:\n",
    "            self.net = self.net.cuda()\n",
    "    \n",
    "    def train(self, examples, logging=True, log_file=None):\n",
    "        '''examples is list containing (state, policy, value)'''\n",
    "        \n",
    "        opt = torch.optim.Adam(self.net.parameters(), weight_decay=1e-4)\n",
    "        self.net.train()\n",
    "        states = torch.Tensor([x[0] for x in examples])\n",
    "        policies = torch.Tensor([x[1] for x in examples])\n",
    "        values = torch.Tensor([x[2] for x in examples])\n",
    "        train_dataset = TensorDataset(states, policies, values)\n",
    "        train_loader = DataLoader(train_dataset, batch_size=self.batch_size, shuffle=True)\n",
    "        policy_loss = 0\n",
    "        value_loss = 0\n",
    "        for epoch in range(self.epochs):\n",
    "            policy_loss = 0\n",
    "            value_loss = 0\n",
    "            for s,pi,v in train_loader:\n",
    "                if self.cuda_flag:\n",
    "                    s,pi,v = s.contiguous().cuda(), pi.contiguous().cuda(), v.contiguous().cuda()\n",
    "                \n",
    "                pred_pi, pred_v = self.net(s)\n",
    "                \n",
    "                pi_loss =  -torch.sum(torch.log(pred_pi)*pi)/pi.size(0) # this loss calculates how closely the two policies match\n",
    "                val_loss = self.value_crit(pred_v.view(-1), v)\n",
    "                \n",
    "                policy_loss+=pi_loss.item()\n",
    "                value_loss+=val_loss.item()\n",
    "                \n",
    "                total_loss = pi_loss+val_loss\n",
    "                \n",
    "                opt.zero_grad()\n",
    "                total_loss.backward()\n",
    "                opt.step()\n",
    "            policy_loss/=len(train_loader)\n",
    "            value_loss/=len(train_loader)\n",
    "            if logging:\n",
    "                print(\"Epoch:{} Policy Loss:{} Value Loss:{}\".format(epoch, policy_loss, value_loss))\n",
    "        \n",
    "            if log_file is not None:\n",
    "                with open(log_file, 'a') as f:\n",
    "                    timestamp = str(datetime.datetime.now()).split('.')[0]\n",
    "                    f.write(\"{} | Epoch:{} Policy Loss:{} Value Loss:{}\\n\".format(timestamp, epoch, policy_loss, value_loss))\n",
    "\n",
    "        if log_file is not None:\n",
    "            with open(log_file, 'a') as f:\n",
    "                f.write('\\n') # An extra space after each training\n",
    "\n",
    "        return policy_loss, value_loss\n",
    "    \n",
    "    def predict(self, board):\n",
    "        # preparing input\n",
    "        board = np.array(board)\n",
    "        board = torch.FloatTensor(board.astype(np.float64))\n",
    "        if self.cuda_flag: \n",
    "            board = board.contiguous().cuda()\n",
    "        \n",
    "        if (board.dim()==3):\n",
    "            board = board.unsqueeze(0)\n",
    "       \n",
    "        self.net.eval()\n",
    "        with torch.no_grad():\n",
    "            pi, v = self.net(board)\n",
    "        \n",
    "        if (board.size(0)==1):\n",
    "            return pi.data.cpu().numpy()[0], v.data.cpu().numpy()[0]\n",
    "        return pi.data.cpu().numpy(), v.data.cpu().numpy()\n",
    "    \n",
    "    def save_model(self, checkpoint_path):\n",
    "        torch.save(self.net.state_dict(), checkpoint_path)\n",
    "    \n",
    "    def load_model(self, checkpoint_path):\n",
    "        self.net.load_state_dict(torch.load(checkpoint_path))"
   ]
  },
  {
   "cell_type": "code",
   "execution_count": 21,
   "metadata": {},
   "outputs": [],
   "source": [
    "trainer = NeuralTrainer(4,13, epochs=3,lr=0.1)"
   ]
  },
  {
   "cell_type": "code",
   "execution_count": 22,
   "metadata": {},
   "outputs": [],
   "source": [
    "examples = []\n",
    "for _ in range(16000):\n",
    "    board, policy, value = np.random.randint(0,2,(17,13,13)), np.random.rand(170), np.random.randint(-1,1)\n",
    "    examples.append((board, policy, value))"
   ]
  },
  {
   "cell_type": "code",
   "execution_count": 23,
   "metadata": {},
   "outputs": [
    {
     "name": "stdout",
     "output_type": "stream",
     "text": [
      "Epoch:0 Policy Loss:436.9281752929688 Value Loss:0.25973535096645356\n",
      "Epoch:1 Policy Loss:436.74519714355466 Value Loss:0.2507803475260735\n",
      "Epoch:2 Policy Loss:436.6970654296875 Value Loss:0.24454573130607604\n"
     ]
    },
    {
     "data": {
      "text/plain": [
       "(436.6970654296875, 0.24454573130607604)"
      ]
     },
     "execution_count": 23,
     "metadata": {},
     "output_type": "execute_result"
    }
   ],
   "source": [
    "trainer.train(examples)"
   ]
  },
  {
   "cell_type": "code",
   "execution_count": 34,
   "metadata": {},
   "outputs": [],
   "source": [
    "pi, v = trainer.predict([x[0] for x in examples])"
   ]
  },
  {
   "cell_type": "code",
   "execution_count": 35,
   "metadata": {},
   "outputs": [
    {
     "data": {
      "text/plain": [
       "(160, 170)"
      ]
     },
     "execution_count": 35,
     "metadata": {},
     "output_type": "execute_result"
    }
   ],
   "source": [
    "pi.shape"
   ]
  },
  {
   "cell_type": "code",
   "execution_count": 36,
   "metadata": {},
   "outputs": [],
   "source": [
    "pi, v = trainer.predict(examples[0][0])"
   ]
  },
  {
   "cell_type": "code",
   "execution_count": 37,
   "metadata": {},
   "outputs": [
    {
     "data": {
      "text/plain": [
       "(170,)"
      ]
     },
     "execution_count": 37,
     "metadata": {},
     "output_type": "execute_result"
    }
   ],
   "source": [
    "pi.shape"
   ]
  },
  {
   "cell_type": "code",
   "execution_count": null,
   "metadata": {},
   "outputs": [],
   "source": []
  }
 ],
 "metadata": {
  "kernelspec": {
   "display_name": "Python 3",
   "language": "python",
   "name": "python3"
  },
  "language_info": {
   "codemirror_mode": {
    "name": "ipython",
    "version": 3
   },
   "file_extension": ".py",
   "mimetype": "text/x-python",
   "name": "python",
   "nbconvert_exporter": "python",
   "pygments_lexer": "ipython3",
   "version": "3.7.4"
  }
 },
 "nbformat": 4,
 "nbformat_minor": 2
}
